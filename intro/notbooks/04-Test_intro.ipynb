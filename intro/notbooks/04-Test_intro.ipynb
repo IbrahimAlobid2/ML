{
 "cells": [
  {
   "cell_type": "code",
   "execution_count": 3,
   "id": "e1d3f8aa-217a-450e-8943-b6dc97319fc3",
   "metadata": {},
   "outputs": [],
   "source": [
    "import numpy as np \n",
    "import pandas as pd"
   ]
  },
  {
   "cell_type": "markdown",
   "id": "a3f82a00-0c22-4fbe-b3c2-a58fffc70be1",
   "metadata": {},
   "source": [
    "## Q1. Pandas version\n",
    "What's the version of Pandas that you installed?\n",
    "\n",
    "You can get the version information using the` __version__`field:"
   ]
  },
  {
   "cell_type": "code",
   "execution_count": 4,
   "id": "ec27034d-eb8c-4005-a8ee-36323fa535d8",
   "metadata": {},
   "outputs": [
    {
     "data": {
      "text/plain": [
       "'2.2.3'"
      ]
     },
     "execution_count": 4,
     "metadata": {},
     "output_type": "execute_result"
    }
   ],
   "source": [
    "pd.__version__"
   ]
  },
  {
   "cell_type": "code",
   "execution_count": 29,
   "id": "2b7815fe-aa55-4fea-ac01-e724b1376514",
   "metadata": {},
   "outputs": [],
   "source": [
    "df =pd.read_csv(\"https://raw.githubusercontent.com/alexeygrigorev/datasets/master/laptops.csv\")"
   ]
  },
  {
   "cell_type": "markdown",
   "id": "07099773-5cdc-4279-8635-c065585338a8",
   "metadata": {},
   "source": [
    "## Q2. Records count\n",
    "How many records are in the dataset?"
   ]
  },
  {
   "cell_type": "code",
   "execution_count": 30,
   "id": "955e8309-e9ce-4781-8524-1608d41cf0b2",
   "metadata": {},
   "outputs": [
    {
     "data": {
      "text/plain": [
       "(2160, 12)"
      ]
     },
     "execution_count": 30,
     "metadata": {},
     "output_type": "execute_result"
    }
   ],
   "source": [
    "df.shape"
   ]
  },
  {
   "cell_type": "markdown",
   "id": "d3b7a2ee-c32a-4fc1-9a83-584d66c1ade6",
   "metadata": {},
   "source": [
    "## Q3. Laptop brands\n",
    "How many laptop brands are presented in the dataset?"
   ]
  },
  {
   "cell_type": "code",
   "execution_count": 31,
   "id": "e41c0381-5b1c-495c-ae3b-fd195d33f43d",
   "metadata": {},
   "outputs": [
    {
     "name": "stdout",
     "output_type": "stream",
     "text": [
      "number of laptops Dell brand is 27\n"
     ]
    }
   ],
   "source": [
    "num_dell =df['Brand'].nunique()\n",
    "print(f\"number of laptops Dell brand is {num_dell}\")"
   ]
  },
  {
   "cell_type": "markdown",
   "id": "21adb864-1a9d-4eeb-829b-00471ac5d7cd",
   "metadata": {},
   "source": [
    "## Q4. Missing values\n",
    "How many columns in the dataset have missing values?"
   ]
  },
  {
   "cell_type": "code",
   "execution_count": 32,
   "id": "84abf1f8-25a4-45ca-b2aa-b78751a7c707",
   "metadata": {},
   "outputs": [
    {
     "name": "stdout",
     "output_type": "stream",
     "text": [
      "number of missing values is 3\n"
     ]
    }
   ],
   "source": [
    "num_miss =df.isnull().any().sum()\n",
    "print(f\"number of missing values is {num_miss}\")"
   ]
  },
  {
   "cell_type": "markdown",
   "id": "7ae57289-8201-4d92-bfec-4e97d7960d45",
   "metadata": {},
   "source": [
    "## Q5. Maximum final price\n",
    "What's the maximum final price of Dell notebooks in the dataset?"
   ]
  },
  {
   "cell_type": "code",
   "execution_count": 33,
   "id": "f022d0e0-7921-4fa3-94f7-fcd00e388467",
   "metadata": {},
   "outputs": [
    {
     "name": "stdout",
     "output_type": "stream",
     "text": [
      "maximum final price of Dell is 3936.0\n"
     ]
    }
   ],
   "source": [
    "max_price =df[df[\"Brand\"]==\"Dell\"][\"Final Price\"].max()\n",
    "print(f\"maximum final price of Dell is {max_price}\")"
   ]
  },
  {
   "cell_type": "markdown",
   "id": "00a054e0-a4f6-44a6-8b97-0d8b8e6ff6a8",
   "metadata": {},
   "source": [
    "## Q6.  Median value of Screen\n",
    "\n",
    "* Find the median value of Screen column in the dataset.\n",
    "* Next, calculate the most frequent value of the same Screen column.\n",
    "* Use fillna method to fill the missing values in Screen column with the most frequent value from the previous step.\n",
    "* Now, calculate the median value of Screen once again.\n",
    "Has it changed?\n",
    "\n",
    "> Hint: refer to existing mode and median functions to complete the task."
   ]
  },
  {
   "cell_type": "markdown",
   "id": "9b78f970-cf4b-47eb-aaa2-51e7b48100da",
   "metadata": {},
   "source": [
    "### 1️- Median value of `Screen` before filling missing values:\n"
   ]
  },
  {
   "cell_type": "code",
   "execution_count": 34,
   "id": "3b91104d-3ba4-4be3-a004-d89493c67930",
   "metadata": {},
   "outputs": [
    {
     "name": "stdout",
     "output_type": "stream",
     "text": [
      "Original median: 15.6\n"
     ]
    }
   ],
   "source": [
    "original_median = df['Screen'].median()\n",
    "print(\"Original median:\", original_median)"
   ]
  },
  {
   "cell_type": "markdown",
   "id": "5e0edfe9-ef13-4315-933f-48b515d54e5d",
   "metadata": {},
   "source": [
    "### 2️- Most frequent value (mode) of `Screen`:"
   ]
  },
  {
   "cell_type": "code",
   "execution_count": 35,
   "id": "48d9e958-48e2-4294-9023-123bf3ced76f",
   "metadata": {},
   "outputs": [
    {
     "name": "stdout",
     "output_type": "stream",
     "text": [
      "Most frequent value: 15.6\n"
     ]
    }
   ],
   "source": [
    "most_frequent = df['Screen'].mode()[0]\n",
    "print(\"Most frequent value:\", most_frequent)"
   ]
  },
  {
   "cell_type": "markdown",
   "id": "3f31805f-f100-47a2-b018-17f4afc83a39",
   "metadata": {},
   "source": [
    "### 3️- Fill missing values with the mode:\n"
   ]
  },
  {
   "cell_type": "code",
   "execution_count": 36,
   "id": "19f4d33d-3f56-4045-8672-49a440959614",
   "metadata": {},
   "outputs": [],
   "source": [
    "df['Screen'] = df['Screen'].fillna(most_frequent)"
   ]
  },
  {
   "cell_type": "markdown",
   "id": "c10e53bd-7159-44c1-9b2e-ef7b82c32fe8",
   "metadata": {},
   "source": [
    "### 4️- New median after filling missing values:"
   ]
  },
  {
   "cell_type": "code",
   "execution_count": 37,
   "id": "20e5eb86-4446-4ac6-8978-065075908e07",
   "metadata": {},
   "outputs": [
    {
     "name": "stdout",
     "output_type": "stream",
     "text": [
      "New median: 15.6\n"
     ]
    }
   ],
   "source": [
    "new_median = df['Screen'].median()\n",
    "print(\"New median:\", new_median)"
   ]
  },
  {
   "cell_type": "markdown",
   "id": "0f9608ac-4c65-4015-863b-f2c904413d6c",
   "metadata": {},
   "source": [
    "### 5️- Compare both:"
   ]
  },
  {
   "cell_type": "code",
   "execution_count": 38,
   "id": "88081840-02f8-4737-a6d8-7a5249d2fa82",
   "metadata": {},
   "outputs": [
    {
     "name": "stdout",
     "output_type": "stream",
     "text": [
      "Has the median changed? No\n"
     ]
    }
   ],
   "source": [
    "has_changed = original_median != new_median\n",
    "print(\"Has the median changed?\", \"Yes\" if has_changed else \"No\")"
   ]
  },
  {
   "cell_type": "markdown",
   "id": "1ea4643e-2b7c-4d14-ad91-a492bdb9a665",
   "metadata": {},
   "source": [
    "## Q7. Sum of weights\n",
    "\n",
    "1. Select all the **\"Innjoo\"** laptops from the dataset.\n",
    "2. Select only the columns: **RAM**, **Storage**, and **Screen**.\n",
    "3. Get the underlying **NumPy array**. Let's call it `X`.\n",
    "4. Compute matrix-matrix multiplication between the **transpose of `X` and `X`**.  \n",
    "   To get the transpose, use `X.T`. Let's call the result `XTX`.\n",
    "5. Compute the **inverse** of `XTX`.\n",
    "6. Create an array `y` with values:  \n",
    "   `[1100, 1300, 800, 900, 1000, 1100]`.\n",
    "7. Multiply the inverse of `XTX` with the transpose of `X`, and then multiply the result by `y`.  \n",
    "   Call the result `w`.\n",
    "8. What's the **sum of all the elements** of `w`?\n",
    "\n",
    "> Note: You just implemented **linear regression**. We'll talk about it in the next lesson.\n"
   ]
  },
  {
   "cell_type": "markdown",
   "id": "7728c2ef-f288-4cf8-88dd-7a619c8d58e3",
   "metadata": {},
   "source": [
    "  $$\n",
    "  w = (X^T X)^{-1} X^T y\n",
    "  $$"
   ]
  },
  {
   "cell_type": "markdown",
   "id": "ff19697f-1e6b-4279-a4ff-dfdfd11e0273",
   "metadata": {},
   "source": [
    "#### 1. Select all \"Innjoo\" laptops:"
   ]
  },
  {
   "cell_type": "code",
   "execution_count": 40,
   "id": "06e18e71-4607-4244-84cf-722c4e6c0a99",
   "metadata": {},
   "outputs": [
    {
     "data": {
      "text/html": [
       "<div>\n",
       "<style scoped>\n",
       "    .dataframe tbody tr th:only-of-type {\n",
       "        vertical-align: middle;\n",
       "    }\n",
       "\n",
       "    .dataframe tbody tr th {\n",
       "        vertical-align: top;\n",
       "    }\n",
       "\n",
       "    .dataframe thead th {\n",
       "        text-align: right;\n",
       "    }\n",
       "</style>\n",
       "<table border=\"1\" class=\"dataframe\">\n",
       "  <thead>\n",
       "    <tr style=\"text-align: right;\">\n",
       "      <th></th>\n",
       "      <th>Laptop</th>\n",
       "      <th>Status</th>\n",
       "      <th>Brand</th>\n",
       "      <th>Model</th>\n",
       "      <th>CPU</th>\n",
       "      <th>RAM</th>\n",
       "      <th>Storage</th>\n",
       "      <th>Storage type</th>\n",
       "      <th>GPU</th>\n",
       "      <th>Screen</th>\n",
       "      <th>Touch</th>\n",
       "      <th>Final Price</th>\n",
       "    </tr>\n",
       "  </thead>\n",
       "  <tbody>\n",
       "    <tr>\n",
       "      <th>1478</th>\n",
       "      <td>InnJoo Voom Excellence Intel Celeron N4020/8GB...</td>\n",
       "      <td>New</td>\n",
       "      <td>Innjoo</td>\n",
       "      <td>Voom</td>\n",
       "      <td>Intel Celeron</td>\n",
       "      <td>8</td>\n",
       "      <td>256</td>\n",
       "      <td>SSD</td>\n",
       "      <td>NaN</td>\n",
       "      <td>15.6</td>\n",
       "      <td>No</td>\n",
       "      <td>311.37</td>\n",
       "    </tr>\n",
       "    <tr>\n",
       "      <th>1479</th>\n",
       "      <td>InnJoo Voom Excellence Pro Intel Celeron N4020...</td>\n",
       "      <td>New</td>\n",
       "      <td>Innjoo</td>\n",
       "      <td>Voom</td>\n",
       "      <td>Intel Celeron</td>\n",
       "      <td>8</td>\n",
       "      <td>512</td>\n",
       "      <td>SSD</td>\n",
       "      <td>NaN</td>\n",
       "      <td>15.6</td>\n",
       "      <td>No</td>\n",
       "      <td>392.55</td>\n",
       "    </tr>\n",
       "    <tr>\n",
       "      <th>1480</th>\n",
       "      <td>Innjoo Voom Intel Celeron N3350/4GB/64GB eMMC/...</td>\n",
       "      <td>New</td>\n",
       "      <td>Innjoo</td>\n",
       "      <td>Voom</td>\n",
       "      <td>Intel Celeron</td>\n",
       "      <td>4</td>\n",
       "      <td>64</td>\n",
       "      <td>eMMC</td>\n",
       "      <td>NaN</td>\n",
       "      <td>14.1</td>\n",
       "      <td>No</td>\n",
       "      <td>251.40</td>\n",
       "    </tr>\n",
       "    <tr>\n",
       "      <th>1481</th>\n",
       "      <td>Innjoo Voom Laptop Max Intel Celeron N3350/6GB...</td>\n",
       "      <td>New</td>\n",
       "      <td>Innjoo</td>\n",
       "      <td>Voom</td>\n",
       "      <td>Intel Celeron</td>\n",
       "      <td>6</td>\n",
       "      <td>64</td>\n",
       "      <td>eMMC</td>\n",
       "      <td>NaN</td>\n",
       "      <td>14.1</td>\n",
       "      <td>No</td>\n",
       "      <td>383.61</td>\n",
       "    </tr>\n",
       "    <tr>\n",
       "      <th>1482</th>\n",
       "      <td>Innjoo Voom Laptop Pro Intel Celeron N3350/6GB...</td>\n",
       "      <td>New</td>\n",
       "      <td>Innjoo</td>\n",
       "      <td>Voom</td>\n",
       "      <td>Intel Celeron</td>\n",
       "      <td>6</td>\n",
       "      <td>128</td>\n",
       "      <td>SSD</td>\n",
       "      <td>NaN</td>\n",
       "      <td>14.1</td>\n",
       "      <td>No</td>\n",
       "      <td>317.02</td>\n",
       "    </tr>\n",
       "    <tr>\n",
       "      <th>1483</th>\n",
       "      <td>Innjoo Voom Pro Intel Celeron N3350/6GB/128GB ...</td>\n",
       "      <td>New</td>\n",
       "      <td>Innjoo</td>\n",
       "      <td>Voom</td>\n",
       "      <td>Intel Celeron</td>\n",
       "      <td>6</td>\n",
       "      <td>128</td>\n",
       "      <td>eMMC</td>\n",
       "      <td>NaN</td>\n",
       "      <td>14.1</td>\n",
       "      <td>No</td>\n",
       "      <td>431.38</td>\n",
       "    </tr>\n",
       "  </tbody>\n",
       "</table>\n",
       "</div>"
      ],
      "text/plain": [
       "                                                 Laptop Status   Brand Model  \\\n",
       "1478  InnJoo Voom Excellence Intel Celeron N4020/8GB...    New  Innjoo  Voom   \n",
       "1479  InnJoo Voom Excellence Pro Intel Celeron N4020...    New  Innjoo  Voom   \n",
       "1480  Innjoo Voom Intel Celeron N3350/4GB/64GB eMMC/...    New  Innjoo  Voom   \n",
       "1481  Innjoo Voom Laptop Max Intel Celeron N3350/6GB...    New  Innjoo  Voom   \n",
       "1482  Innjoo Voom Laptop Pro Intel Celeron N3350/6GB...    New  Innjoo  Voom   \n",
       "1483  Innjoo Voom Pro Intel Celeron N3350/6GB/128GB ...    New  Innjoo  Voom   \n",
       "\n",
       "                CPU  RAM  Storage Storage type  GPU  Screen Touch  Final Price  \n",
       "1478  Intel Celeron    8      256          SSD  NaN    15.6    No       311.37  \n",
       "1479  Intel Celeron    8      512          SSD  NaN    15.6    No       392.55  \n",
       "1480  Intel Celeron    4       64         eMMC  NaN    14.1    No       251.40  \n",
       "1481  Intel Celeron    6       64         eMMC  NaN    14.1    No       383.61  \n",
       "1482  Intel Celeron    6      128          SSD  NaN    14.1    No       317.02  \n",
       "1483  Intel Celeron    6      128         eMMC  NaN    14.1    No       431.38  "
      ]
     },
     "execution_count": 40,
     "metadata": {},
     "output_type": "execute_result"
    }
   ],
   "source": [
    "innjoo_df = df[df['Brand'] == 'Innjoo']\n",
    "innjoo_df"
   ]
  },
  {
   "cell_type": "code",
   "execution_count": 46,
   "id": "3c13696e-15bc-41ca-99bc-9f36b1ed0f60",
   "metadata": {},
   "outputs": [
    {
     "data": {
      "text/plain": [
       "(6, 12)"
      ]
     },
     "execution_count": 46,
     "metadata": {},
     "output_type": "execute_result"
    }
   ],
   "source": [
    "innjoo_df.shape"
   ]
  },
  {
   "cell_type": "markdown",
   "id": "ffe628e4-2865-4103-b4b0-1f7b7a12afe0",
   "metadata": {},
   "source": [
    "#### 2. Select only `RAM`, `Storage`, `Screen` columns:\n"
   ]
  },
  {
   "cell_type": "code",
   "execution_count": 42,
   "id": "495c10d7-32c2-4fec-b8ca-6874b9ac613f",
   "metadata": {},
   "outputs": [],
   "source": [
    "features_df = innjoo_df[['RAM', 'Storage', 'Screen']]"
   ]
  },
  {
   "cell_type": "markdown",
   "id": "dad83f89-c49b-4337-a33e-4359310cce59",
   "metadata": {},
   "source": [
    "####  3. Get NumPy array `X`:"
   ]
  },
  {
   "cell_type": "code",
   "execution_count": 43,
   "id": "d745ff40-ac30-4557-bf08-c80b35ebe8f6",
   "metadata": {},
   "outputs": [],
   "source": [
    "X = features_df.to_numpy()"
   ]
  },
  {
   "cell_type": "markdown",
   "id": "6f8f4bc9-a9d7-4983-8725-10ef9b6efda9",
   "metadata": {},
   "source": [
    "####  4. Compute `XTX = X.T @ X`:"
   ]
  },
  {
   "cell_type": "code",
   "execution_count": 44,
   "id": "ba12e2a3-05b9-49f4-8584-a4eb429a9db2",
   "metadata": {},
   "outputs": [],
   "source": [
    "XTX = X.T @ X"
   ]
  },
  {
   "cell_type": "markdown",
   "id": "6902e5e1-b75d-48ae-91ff-fa3ddbc1a4e5",
   "metadata": {},
   "source": [
    "####  5. Compute inverse of `XTX`:\n"
   ]
  },
  {
   "cell_type": "code",
   "execution_count": 45,
   "id": "ad0581f2-9df2-4758-b86a-625d14ad68bd",
   "metadata": {},
   "outputs": [],
   "source": [
    "XTX_inv = np.linalg.inv(XTX)"
   ]
  },
  {
   "cell_type": "markdown",
   "id": "040f391b-2fd3-4f73-a619-0f62a8003c43",
   "metadata": {},
   "source": [
    "####  6. Create target vector `y`:\n"
   ]
  },
  {
   "cell_type": "code",
   "execution_count": 47,
   "id": "4932f7cf-43ea-4bed-a2e8-d0c33645c86a",
   "metadata": {},
   "outputs": [],
   "source": [
    "y = np.array([1100, 1300, 800, 900, 1000, 1100]) \n"
   ]
  },
  {
   "cell_type": "markdown",
   "id": "e1e9c36b-3c2d-485d-b579-5b6d9027f9d5",
   "metadata": {},
   "source": [
    "####  7. Compute weights vector `w`:\n"
   ]
  },
  {
   "cell_type": "code",
   "execution_count": 48,
   "id": "5d2e84cc-859e-4920-a29d-dc308307eb54",
   "metadata": {},
   "outputs": [],
   "source": [
    "w = XTX_inv @ X.T @ y"
   ]
  },
  {
   "cell_type": "markdown",
   "id": "8ce48162-6d13-46e6-bd23-a3726460588f",
   "metadata": {},
   "source": [
    "####  8. Sum of elements of `w`:\n"
   ]
  },
  {
   "cell_type": "code",
   "execution_count": 49,
   "id": "cae946ea-7abe-4238-a1ba-2fc344395b13",
   "metadata": {},
   "outputs": [
    {
     "name": "stdout",
     "output_type": "stream",
     "text": [
      "Sum of weights: 91.2998806299555\n"
     ]
    }
   ],
   "source": [
    "sum_w = w.sum()\n",
    "print(\"Sum of weights:\", sum_w)"
   ]
  },
  {
   "cell_type": "code",
   "execution_count": null,
   "id": "eecd2872-68bf-4e11-aecf-a87ebfa4aebc",
   "metadata": {},
   "outputs": [],
   "source": []
  }
 ],
 "metadata": {
  "kernelspec": {
   "display_name": "Python 3 (ipykernel)",
   "language": "python",
   "name": "python3"
  },
  "language_info": {
   "codemirror_mode": {
    "name": "ipython",
    "version": 3
   },
   "file_extension": ".py",
   "mimetype": "text/x-python",
   "name": "python",
   "nbconvert_exporter": "python",
   "pygments_lexer": "ipython3",
   "version": "3.12.1"
  }
 },
 "nbformat": 4,
 "nbformat_minor": 5
}
