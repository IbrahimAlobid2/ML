{
 "cells": [
  {
   "cell_type": "markdown",
   "id": "2dd210b0-e6a4-43c2-9889-a31605be4a60",
   "metadata": {},
   "source": [
    "##  Linear algebra \n",
    "Plan:\n",
    "\n",
    "* Vector operations\n",
    "* Multiplication\n",
    "    * Vector-vector multiplication\n",
    "    * Matrix-vector multiplication\n",
    "    * Matrix-matrix multiplication\n",
    "* Identity matrix\n",
    "* Inverse"
   ]
  },
  {
   "cell_type": "code",
   "execution_count": null,
   "id": "8016ad2b-a0ed-4d03-af9a-aa0e1bb0a94a",
   "metadata": {},
   "outputs": [],
   "source": [
    "  $$\n",
    "  w = (X^T X)^{-1} X^T y\n",
    "  $$"
   ]
  },
  {
   "cell_type": "code",
   "execution_count": 1,
   "id": "4fdbfc8a-e407-4a22-a4aa-d91067f55be2",
   "metadata": {},
   "outputs": [],
   "source": [
    "import numpy as np"
   ]
  },
  {
   "cell_type": "markdown",
   "id": "42001630-e981-4e55-b15a-d90ba6d8e65f",
   "metadata": {},
   "source": [
    "## Vector operations"
   ]
  },
  {
   "cell_type": "code",
   "execution_count": 3,
   "id": "1b0fe83c-1b66-4c58-a03b-e1b34db1559b",
   "metadata": {},
   "outputs": [],
   "source": [
    "u =np.array([2,2,3,4])"
   ]
  },
  {
   "cell_type": "markdown",
   "id": "9f0db025-cb0b-440f-995f-490484e5f26b",
   "metadata": {},
   "source": [
    "  $$\n",
    "  U = U * 2\n",
    "  $$"
   ]
  },
  {
   "cell_type": "code",
   "execution_count": 5,
   "id": "e0ea2fc1-f84e-4c7f-858c-bc042ec35b3a",
   "metadata": {},
   "outputs": [],
   "source": [
    "v = np.array([1, 0, 0, 2])"
   ]
  },
  {
   "cell_type": "markdown",
   "id": "bf10bb98-f1e5-465f-ab7b-5a50984d28d0",
   "metadata": {},
   "source": [
    "  $$\n",
    "  X = U * V\n",
    "  $$"
   ]
  },
  {
   "cell_type": "code",
   "execution_count": 7,
   "id": "696b3046-7a9b-4142-b10f-2d3b2e17d6a3",
   "metadata": {},
   "outputs": [
    {
     "data": {
      "text/plain": [
       "array([2, 0, 0, 8])"
      ]
     },
     "execution_count": 7,
     "metadata": {},
     "output_type": "execute_result"
    }
   ],
   "source": [
    "X = u*v\n",
    "X "
   ]
  },
  {
   "cell_type": "markdown",
   "id": "130ea6fb-f508-480f-a22a-9ea287d66edb",
   "metadata": {},
   "source": [
    "## Multiplication"
   ]
  },
  {
   "cell_type": "markdown",
   "id": "c9e829b0-ebd6-4bbe-aa07-931f6cff960b",
   "metadata": {},
   "source": [
    "$$\n",
    "\\sum_{i=1}^{T} \\varepsilon_i v_i\n",
    "$$"
   ]
  },
  {
   "cell_type": "code",
   "execution_count": 11,
   "id": "dbbf003b-184e-4ecd-b6cf-32a62be91cbf",
   "metadata": {},
   "outputs": [],
   "source": [
    "def vector_vector_multiplication(u,v):\n",
    "    assert v.shape == u.shape\n",
    "    n= v.shape[0]\n",
    "    result =0.0 \n",
    "    for i in range(n):\n",
    "        result = result + u[i]*v[i]\n",
    "    return result\n",
    "   "
   ]
  },
  {
   "cell_type": "code",
   "execution_count": 12,
   "id": "319de9f6-ffd4-493c-9c52-c4f84b0a6aa3",
   "metadata": {},
   "outputs": [
    {
     "data": {
      "text/plain": [
       "np.float64(10.0)"
      ]
     },
     "execution_count": 12,
     "metadata": {},
     "output_type": "execute_result"
    }
   ],
   "source": [
    "vector_vector_multiplication(u,v)"
   ]
  },
  {
   "cell_type": "code",
   "execution_count": 13,
   "id": "ffa85668-b04e-4cab-bb0c-537724a6fb01",
   "metadata": {},
   "outputs": [],
   "source": [
    "U = np.array([\n",
    "    [2, 4, 5, 6],\n",
    "    [1, 2, 1, 2],\n",
    "    [3, 1, 2, 1],\n",
    "])"
   ]
  },
  {
   "cell_type": "code",
   "execution_count": 14,
   "id": "70bf5599-e066-4077-82fb-5d9aa9652d2a",
   "metadata": {},
   "outputs": [],
   "source": [
    "def matrix_vector_multiplication(U ,v):\n",
    "    assert v.shape[0] == U.shape[1]\n",
    "    num_row = U.shape[0]\n",
    "    result = np.zeros(num_row)\n",
    "    for i in range(num_row):\n",
    "        result[i] = vector_vector_multiplication(U[i] , v)\n",
    "    return result"
   ]
  },
  {
   "cell_type": "code",
   "execution_count": 15,
   "id": "6699c5a1-3328-481d-a34d-43f39ed6f366",
   "metadata": {},
   "outputs": [
    {
     "data": {
      "text/plain": [
       "array([14.,  5.,  5.])"
      ]
     },
     "execution_count": 15,
     "metadata": {},
     "output_type": "execute_result"
    }
   ],
   "source": [
    "matrix_vector_multiplication(U ,v)"
   ]
  },
  {
   "cell_type": "code",
   "execution_count": 16,
   "id": "adaf8a19-470d-496e-9945-88b5bba4a084",
   "metadata": {},
   "outputs": [
    {
     "data": {
      "text/plain": [
       "array([14,  5,  5])"
      ]
     },
     "execution_count": 16,
     "metadata": {},
     "output_type": "execute_result"
    }
   ],
   "source": [
    "U.dot(v)"
   ]
  },
  {
   "cell_type": "code",
   "execution_count": 17,
   "id": "2e20ca0e-b98b-44a4-bea5-c6807be69b62",
   "metadata": {},
   "outputs": [],
   "source": [
    "V = np.array([\n",
    "    [1, 1, 2],\n",
    "    [0, 0.5, 1], \n",
    "    [0, 2, 1],\n",
    "    [2, 1, 0],\n",
    "])"
   ]
  },
  {
   "cell_type": "code",
   "execution_count": 19,
   "id": "bc8473fb-b3f6-46fd-8317-b1412df11b0c",
   "metadata": {},
   "outputs": [],
   "source": [
    "def matrix_matrix_multiplication(U,V):\n",
    "    assert V.shape[0] == U.shape[1]\n",
    "    num_row =U.shape[0]\n",
    "    num_col = V.shape[1]\n",
    "    result =np.zeros((num_row ,num_col))\n",
    "    for i in range(num_col):\n",
    "        vi =V[:,i]\n",
    "        Uvi = matrix_vector_multiplication(U,vi)\n",
    "        result[:,i]=Uvi\n",
    "\n",
    "    return result\n",
    "    "
   ]
  },
  {
   "cell_type": "code",
   "execution_count": 20,
   "id": "930424f2-457b-40a8-95b2-38377cac09f5",
   "metadata": {},
   "outputs": [
    {
     "data": {
      "text/plain": [
       "array([[14. , 20. , 13. ],\n",
       "       [ 5. ,  6. ,  5. ],\n",
       "       [ 5. ,  8.5,  9. ]])"
      ]
     },
     "execution_count": 20,
     "metadata": {},
     "output_type": "execute_result"
    }
   ],
   "source": [
    "matrix_matrix_multiplication(U,V)"
   ]
  },
  {
   "cell_type": "code",
   "execution_count": 21,
   "id": "a062d267-adbb-405e-bc71-98a81fdde563",
   "metadata": {},
   "outputs": [
    {
     "data": {
      "text/plain": [
       "array([[14. , 20. , 13. ],\n",
       "       [ 5. ,  6. ,  5. ],\n",
       "       [ 5. ,  8.5,  9. ]])"
      ]
     },
     "execution_count": 21,
     "metadata": {},
     "output_type": "execute_result"
    }
   ],
   "source": [
    "U.dot(V)"
   ]
  },
  {
   "cell_type": "markdown",
   "id": "db9daf57-af45-4376-beae-ca8990d1b342",
   "metadata": {},
   "source": [
    "## Identity matrix"
   ]
  },
  {
   "cell_type": "code",
   "execution_count": 30,
   "id": "62681bb8-a14e-403c-9551-6072d453ac3f",
   "metadata": {},
   "outputs": [],
   "source": [
    "I =np.eye(3)"
   ]
  },
  {
   "cell_type": "code",
   "execution_count": 31,
   "id": "489eaad3-2470-419b-beab-2f69cb8311ef",
   "metadata": {},
   "outputs": [
    {
     "data": {
      "text/plain": [
       "array([[1. , 1. , 2. ],\n",
       "       [0. , 0.5, 1. ],\n",
       "       [0. , 2. , 1. ],\n",
       "       [2. , 1. , 0. ]])"
      ]
     },
     "execution_count": 31,
     "metadata": {},
     "output_type": "execute_result"
    }
   ],
   "source": [
    "V.dot(I)"
   ]
  },
  {
   "cell_type": "code",
   "execution_count": 32,
   "id": "5ad0aa27-4715-42c7-ae78-6356e8dd22e3",
   "metadata": {},
   "outputs": [
    {
     "data": {
      "text/plain": [
       "array([[1. , 1. , 2. ],\n",
       "       [0. , 0.5, 1. ],\n",
       "       [0. , 2. , 1. ],\n",
       "       [2. , 1. , 0. ]])"
      ]
     },
     "execution_count": 32,
     "metadata": {},
     "output_type": "execute_result"
    }
   ],
   "source": [
    "V"
   ]
  },
  {
   "cell_type": "markdown",
   "id": "3ccf8d21-6272-4640-acd2-b2f0edfe4f3c",
   "metadata": {},
   "source": [
    "## Inverse"
   ]
  },
  {
   "cell_type": "code",
   "execution_count": 34,
   "id": "8134aeb7-5b4b-49d3-af48-3d0d7c590f82",
   "metadata": {},
   "outputs": [
    {
     "data": {
      "text/plain": [
       "array([[1. , 1. , 2. ],\n",
       "       [0. , 0.5, 1. ],\n",
       "       [0. , 2. , 1. ]])"
      ]
     },
     "execution_count": 34,
     "metadata": {},
     "output_type": "execute_result"
    }
   ],
   "source": [
    "Vs =V[[0,1,2]]\n",
    "Vs"
   ]
  },
  {
   "cell_type": "code",
   "execution_count": 36,
   "id": "3134bc67-5bfb-4630-b5e4-728312add461",
   "metadata": {},
   "outputs": [
    {
     "data": {
      "text/plain": [
       "array([[ 1.        , -2.        ,  0.        ],\n",
       "       [ 0.        , -0.66666667,  0.66666667],\n",
       "       [ 0.        ,  1.33333333, -0.33333333]])"
      ]
     },
     "execution_count": 36,
     "metadata": {},
     "output_type": "execute_result"
    }
   ],
   "source": [
    "V_inv=np.linalg.inv(Vs)\n",
    "V_inv"
   ]
  },
  {
   "cell_type": "code",
   "execution_count": 37,
   "id": "d39c1320-70fd-4f06-a791-026d4ad10d09",
   "metadata": {},
   "outputs": [
    {
     "data": {
      "text/plain": [
       "array([[1., 0., 0.],\n",
       "       [0., 1., 0.],\n",
       "       [0., 0., 1.]])"
      ]
     },
     "execution_count": 37,
     "metadata": {},
     "output_type": "execute_result"
    }
   ],
   "source": [
    "V_inv.dot(Vs)"
   ]
  },
  {
   "cell_type": "code",
   "execution_count": null,
   "id": "f3d716de-b67c-493b-a532-8d9c51ff3aa2",
   "metadata": {},
   "outputs": [],
   "source": []
  }
 ],
 "metadata": {
  "kernelspec": {
   "display_name": "Python 3 (ipykernel)",
   "language": "python",
   "name": "python3"
  },
  "language_info": {
   "codemirror_mode": {
    "name": "ipython",
    "version": 3
   },
   "file_extension": ".py",
   "mimetype": "text/x-python",
   "name": "python",
   "nbconvert_exporter": "python",
   "pygments_lexer": "ipython3",
   "version": "3.12.1"
  }
 },
 "nbformat": 4,
 "nbformat_minor": 5
}
