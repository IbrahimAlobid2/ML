{
 "cells": [
  {
   "cell_type": "markdown",
   "id": "c17ee337-b2ac-4871-9264-0c7376ec369c",
   "metadata": {},
   "source": [
    "#  Introduction to NumPy\n",
    "\n",
    "\n",
    "Plan:\n",
    "\n",
    "* Creating arrays\n",
    "* Multi-dimensional arrays\n",
    "* Randomly generated arrays\n",
    "* Element-wise operations\n",
    "    * Comparison operations\n",
    "    * Logical operations\n",
    "* Summarizing operations"
   ]
  },
  {
   "cell_type": "code",
   "execution_count": 1,
   "id": "869112d8-4e75-4c31-9038-5b374a9bf8bf",
   "metadata": {},
   "outputs": [],
   "source": [
    "import numpy as np"
   ]
  },
  {
   "cell_type": "markdown",
   "id": "cb059255-3bf0-4440-8910-6d2e0b636ea5",
   "metadata": {},
   "source": [
    "## Creating arrays\n"
   ]
  },
  {
   "cell_type": "code",
   "execution_count": 3,
   "id": "e9beea6d-08ed-4967-8094-851f5d5eaaf5",
   "metadata": {},
   "outputs": [
    {
     "data": {
      "text/plain": [
       "array([0., 0., 0., 0., 0.])"
      ]
     },
     "execution_count": 3,
     "metadata": {},
     "output_type": "execute_result"
    }
   ],
   "source": [
    "zeros_arr = np.zeros(5)\n",
    "zeros_arr"
   ]
  },
  {
   "cell_type": "code",
   "execution_count": 4,
   "id": "2fe30e30-032b-442d-91dc-870c31607c9e",
   "metadata": {},
   "outputs": [
    {
     "data": {
      "text/plain": [
       "array([1., 1., 1., 1., 1.])"
      ]
     },
     "execution_count": 4,
     "metadata": {},
     "output_type": "execute_result"
    }
   ],
   "source": [
    "ones_arr =np.ones(5)\n",
    "ones_arr"
   ]
  },
  {
   "cell_type": "code",
   "execution_count": 6,
   "id": "df8718ab-4905-40c4-931c-e8ad56571235",
   "metadata": {},
   "outputs": [
    {
     "data": {
      "text/plain": [
       "array([3, 3, 3, 3, 3, 3, 3, 3, 3, 3])"
      ]
     },
     "execution_count": 6,
     "metadata": {},
     "output_type": "execute_result"
    }
   ],
   "source": [
    "arr = np.full(10,3)\n",
    "arr"
   ]
  },
  {
   "cell_type": "code",
   "execution_count": 8,
   "id": "b6e064b5-d643-4c6b-8e5a-fc715e09cd56",
   "metadata": {},
   "outputs": [
    {
     "data": {
      "text/plain": [
       "array([1, 2, 8, 9, 6, 3, 8])"
      ]
     },
     "execution_count": 8,
     "metadata": {},
     "output_type": "execute_result"
    }
   ],
   "source": [
    "arr_1 =np.array([1,2,8,9,6,3,8])\n",
    "arr_1"
   ]
  },
  {
   "cell_type": "code",
   "execution_count": 9,
   "id": "0b5771a1-ac94-4c95-98a3-4567fa5750e3",
   "metadata": {},
   "outputs": [
    {
     "data": {
      "text/plain": [
       "np.int64(3)"
      ]
     },
     "execution_count": 9,
     "metadata": {},
     "output_type": "execute_result"
    }
   ],
   "source": [
    "arr_1[5]"
   ]
  },
  {
   "cell_type": "code",
   "execution_count": 12,
   "id": "71385393-de88-4e4a-b424-75a785a642d5",
   "metadata": {},
   "outputs": [
    {
     "data": {
      "text/plain": [
       "np.int64(10)"
      ]
     },
     "execution_count": 12,
     "metadata": {},
     "output_type": "execute_result"
    }
   ],
   "source": [
    "arr_1[5]=10\n",
    "arr_1[5]"
   ]
  },
  {
   "cell_type": "code",
   "execution_count": 13,
   "id": "2c51db98-4d5c-4394-8267-7bf7b0dd904b",
   "metadata": {},
   "outputs": [
    {
     "data": {
      "text/plain": [
       "array([0, 1, 2, 3, 4, 5, 6, 7, 8, 9])"
      ]
     },
     "execution_count": 13,
     "metadata": {},
     "output_type": "execute_result"
    }
   ],
   "source": [
    "arr_2 = np.arange(10)\n",
    "arr_2"
   ]
  },
  {
   "cell_type": "code",
   "execution_count": 15,
   "id": "58410fd1-e0f4-4e03-bad1-9e89fc47a814",
   "metadata": {},
   "outputs": [
    {
     "data": {
      "text/plain": [
       "array([  0.,  10.,  20.,  30.,  40.,  50.,  60.,  70.,  80.,  90., 100.])"
      ]
     },
     "execution_count": 15,
     "metadata": {},
     "output_type": "execute_result"
    }
   ],
   "source": [
    "arr_3= np.linspace(0,100,11)\n",
    "arr_3"
   ]
  },
  {
   "cell_type": "markdown",
   "id": "d9ddf21b-1cf2-447c-8286-821dfdf57604",
   "metadata": {},
   "source": [
    "## Multi-dimensional arrays\n"
   ]
  },
  {
   "cell_type": "code",
   "execution_count": 17,
   "id": "0734622a-f20b-4660-9ea6-0ae086de31f2",
   "metadata": {},
   "outputs": [
    {
     "data": {
      "text/plain": [
       "array([[0., 0., 0., 0.],\n",
       "       [0., 0., 0., 0.],\n",
       "       [0., 0., 0., 0.],\n",
       "       [0., 0., 0., 0.]])"
      ]
     },
     "execution_count": 17,
     "metadata": {},
     "output_type": "execute_result"
    }
   ],
   "source": [
    "arr_4 = np.zeros((4,4))\n",
    "arr_4"
   ]
  },
  {
   "cell_type": "code",
   "execution_count": 18,
   "id": "2f8f68b2-ba94-4e7f-bedc-15b61086093b",
   "metadata": {},
   "outputs": [
    {
     "data": {
      "text/plain": [
       "array([[1., 1., 1., 1.],\n",
       "       [1., 1., 1., 1.],\n",
       "       [1., 1., 1., 1.],\n",
       "       [1., 1., 1., 1.]])"
      ]
     },
     "execution_count": 18,
     "metadata": {},
     "output_type": "execute_result"
    }
   ],
   "source": [
    "arr_5 =np.ones((4,4))\n",
    "arr_5"
   ]
  },
  {
   "cell_type": "code",
   "execution_count": 20,
   "id": "68c0c68e-88ca-45ff-836b-b128b05e14da",
   "metadata": {},
   "outputs": [
    {
     "data": {
      "text/plain": [
       "array([[1., 1., 1., 1.],\n",
       "       [0., 0., 0., 0.],\n",
       "       [0., 0., 0., 0.],\n",
       "       [1., 1., 1., 1.]])"
      ]
     },
     "execution_count": 20,
     "metadata": {},
     "output_type": "execute_result"
    }
   ],
   "source": [
    "arr_6 =np.array([[1., 1., 1., 1.],\n",
    "                 [0., 0., 0., 0.],\n",
    "                 [0., 0., 0., 0.],\n",
    "                 [1., 1., 1., 1.]])\n",
    "arr_6"
   ]
  },
  {
   "cell_type": "code",
   "execution_count": 22,
   "id": "4c008037-cb33-456f-b197-cc4350bec330",
   "metadata": {},
   "outputs": [
    {
     "data": {
      "text/plain": [
       "array([[ 1.,  1.,  1.,  1.],\n",
       "       [ 0., 12.,  0.,  0.],\n",
       "       [ 0.,  0.,  0.,  0.],\n",
       "       [ 1.,  1.,  1.,  1.]])"
      ]
     },
     "execution_count": 22,
     "metadata": {},
     "output_type": "execute_result"
    }
   ],
   "source": [
    "arr_6[1,1]=12\n",
    "arr_6"
   ]
  },
  {
   "cell_type": "code",
   "execution_count": 23,
   "id": "564ab2f8-c486-4e08-80cc-65ad8af0b5ff",
   "metadata": {},
   "outputs": [
    {
     "data": {
      "text/plain": [
       "array([ 0., 12.,  0.,  0.])"
      ]
     },
     "execution_count": 23,
     "metadata": {},
     "output_type": "execute_result"
    }
   ],
   "source": [
    "arr_6[1]"
   ]
  },
  {
   "cell_type": "code",
   "execution_count": 25,
   "id": "334f1621-dab0-4ef8-8e06-5d6cc1ddcce7",
   "metadata": {},
   "outputs": [
    {
     "data": {
      "text/plain": [
       "array([1., 0., 0., 1.])"
      ]
     },
     "execution_count": 25,
     "metadata": {},
     "output_type": "execute_result"
    }
   ],
   "source": [
    "arr_6[:,2]"
   ]
  },
  {
   "cell_type": "markdown",
   "id": "0cbe90e0-43f3-43b3-aa1a-f98931400665",
   "metadata": {},
   "source": [
    "## Randomly generated arrays\n"
   ]
  },
  {
   "cell_type": "code",
   "execution_count": 29,
   "id": "a2a6b9fa-c603-4d74-87cc-b05ce2497a9a",
   "metadata": {},
   "outputs": [
    {
     "data": {
      "text/plain": [
       "array([[0.37454012, 0.95071431, 0.73199394, 0.59865848, 0.15601864],\n",
       "       [0.15599452, 0.05808361, 0.86617615, 0.60111501, 0.70807258],\n",
       "       [0.02058449, 0.96990985, 0.83244264, 0.21233911, 0.18182497],\n",
       "       [0.18340451, 0.30424224, 0.52475643, 0.43194502, 0.29122914],\n",
       "       [0.61185289, 0.13949386, 0.29214465, 0.36636184, 0.45606998]])"
      ]
     },
     "execution_count": 29,
     "metadata": {},
     "output_type": "execute_result"
    }
   ],
   "source": [
    "np.random.seed(42)\n",
    "arr_7 = np.random.rand(5,5)\n",
    "arr_7"
   ]
  },
  {
   "cell_type": "code",
   "execution_count": 31,
   "id": "7dc7a71f-d762-442e-9a2b-305a9a621837",
   "metadata": {},
   "outputs": [
    {
     "data": {
      "text/plain": [
       "array([[49.51769101,  3.43885211, 90.93204021, 25.87799816, 66.25222844],\n",
       "       [31.17110761, 52.00680212, 54.67102793, 18.48544555, 96.95846278],\n",
       "       [77.51328234, 93.94989416, 89.48273504, 59.78999788, 92.1874235 ],\n",
       "       [ 8.84925021, 19.59828624,  4.52272889, 32.53303308, 38.86772897],\n",
       "       [27.13490318, 82.87375092, 35.67533267, 28.09345097, 54.26960832]])"
      ]
     },
     "execution_count": 31,
     "metadata": {},
     "output_type": "execute_result"
    }
   ],
   "source": [
    "arr_8 =100 *  np.random.rand(5,5)\n",
    "arr_8"
   ]
  },
  {
   "cell_type": "code",
   "execution_count": 30,
   "id": "7dcc8926-3430-4397-9e5b-dcae7627c321",
   "metadata": {},
   "outputs": [
    {
     "data": {
      "text/plain": [
       "array([[46, 61, 50, 54, 63],\n",
       "       [ 2, 50,  6, 20, 72],\n",
       "       [38, 17,  3, 88, 59],\n",
       "       [13,  8, 89, 52,  1],\n",
       "       [83, 91, 59, 70, 43]])"
      ]
     },
     "execution_count": 30,
     "metadata": {},
     "output_type": "execute_result"
    }
   ],
   "source": [
    "arr_9 = np.random.randint(low=0 ,high=100,size=(5,5))\n",
    "arr_9"
   ]
  },
  {
   "cell_type": "markdown",
   "id": "0ceb42e8-fd12-4528-af78-7e9d2512db90",
   "metadata": {},
   "source": [
    "## Element-wise operations\n"
   ]
  },
  {
   "cell_type": "code",
   "execution_count": 33,
   "id": "dd79c265-14cf-4e1d-92c4-bc75a4ffe014",
   "metadata": {},
   "outputs": [
    {
     "data": {
      "text/plain": [
       "array([0, 1, 2, 3, 4])"
      ]
     },
     "execution_count": 33,
     "metadata": {},
     "output_type": "execute_result"
    }
   ],
   "source": [
    "arr_10 = np.arange(5)\n",
    "arr_10"
   ]
  },
  {
   "cell_type": "code",
   "execution_count": 35,
   "id": "2cc423dc-5adc-4b93-981d-cab1e4350cfc",
   "metadata": {},
   "outputs": [
    {
     "data": {
      "text/plain": [
       "array([5, 6, 7, 8, 9])"
      ]
     },
     "execution_count": 35,
     "metadata": {},
     "output_type": "execute_result"
    }
   ],
   "source": [
    "arr_11 = arr_10 +5 # or any ops + , - , * , /\n",
    "\n",
    "arr_11"
   ]
  },
  {
   "cell_type": "code",
   "execution_count": 36,
   "id": "ee440b84-d942-40b9-aed7-ea818239fbaa",
   "metadata": {},
   "outputs": [
    {
     "data": {
      "text/plain": [
       "array([ 8000, 10648, 13824, 17576, 21952])"
      ]
     },
     "execution_count": 36,
     "metadata": {},
     "output_type": "execute_result"
    }
   ],
   "source": [
    "arr_12 = (10 + (arr_11*2))**3\n",
    "arr_12"
   ]
  },
  {
   "cell_type": "code",
   "execution_count": 37,
   "id": "57f940e3-9e04-481d-9ddd-86a9fd410d48",
   "metadata": {},
   "outputs": [
    {
     "data": {
      "text/plain": [
       "array([ 8005, 10655, 13833, 17587, 21965])"
      ]
     },
     "execution_count": 37,
     "metadata": {},
     "output_type": "execute_result"
    }
   ],
   "source": [
    "arr_11+ arr_12+ arr_10"
   ]
  },
  {
   "cell_type": "markdown",
   "id": "d4204dc2-7ca1-4c7b-87c5-be33372a458c",
   "metadata": {},
   "source": [
    "## Comparison operations"
   ]
  },
  {
   "cell_type": "code",
   "execution_count": 38,
   "id": "4adae3a2-a9a1-4533-b186-9d2edab11404",
   "metadata": {},
   "outputs": [
    {
     "data": {
      "text/plain": [
       "array([ True,  True,  True,  True,  True])"
      ]
     },
     "execution_count": 38,
     "metadata": {},
     "output_type": "execute_result"
    }
   ],
   "source": [
    "arr_11< arr_12"
   ]
  },
  {
   "cell_type": "code",
   "execution_count": 40,
   "id": "a95c801f-c640-4221-92f0-0714ccb67894",
   "metadata": {},
   "outputs": [
    {
     "data": {
      "text/plain": [
       "array([False, False, False, False, False])"
      ]
     },
     "execution_count": 40,
     "metadata": {},
     "output_type": "execute_result"
    }
   ],
   "source": [
    "arr_11>= 500"
   ]
  },
  {
   "cell_type": "markdown",
   "id": "5ccdee67-fe05-485b-acc9-645f90db44b0",
   "metadata": {},
   "source": [
    "## Summarizing operations"
   ]
  },
  {
   "cell_type": "code",
   "execution_count": 41,
   "id": "491868bc-31a2-4465-9889-c6fc28a38a13",
   "metadata": {},
   "outputs": [
    {
     "data": {
      "text/plain": [
       "array([5, 6, 7, 8, 9])"
      ]
     },
     "execution_count": 41,
     "metadata": {},
     "output_type": "execute_result"
    }
   ],
   "source": [
    "a=arr_11\n",
    "a"
   ]
  },
  {
   "cell_type": "code",
   "execution_count": 42,
   "id": "08931a2c-a812-4585-abe2-18959f0efccd",
   "metadata": {},
   "outputs": [
    {
     "data": {
      "text/plain": [
       "np.int64(9)"
      ]
     },
     "execution_count": 42,
     "metadata": {},
     "output_type": "execute_result"
    }
   ],
   "source": [
    "a.max()"
   ]
  },
  {
   "cell_type": "code",
   "execution_count": 43,
   "id": "a72010ea-0c88-456a-b9ef-573315501269",
   "metadata": {},
   "outputs": [
    {
     "data": {
      "text/plain": [
       "np.float64(7.0)"
      ]
     },
     "execution_count": 43,
     "metadata": {},
     "output_type": "execute_result"
    }
   ],
   "source": [
    "a.mean()"
   ]
  },
  {
   "cell_type": "code",
   "execution_count": 44,
   "id": "e0c664e7-f5a5-4c5e-97f4-21261cf8ce92",
   "metadata": {},
   "outputs": [
    {
     "data": {
      "text/plain": [
       "np.int64(35)"
      ]
     },
     "execution_count": 44,
     "metadata": {},
     "output_type": "execute_result"
    }
   ],
   "source": [
    "a.sum()"
   ]
  },
  {
   "cell_type": "code",
   "execution_count": 45,
   "id": "d719dd14-f6a6-4eb7-8509-cae92eacaf2d",
   "metadata": {},
   "outputs": [
    {
     "data": {
      "text/plain": [
       "np.float64(1.4142135623730951)"
      ]
     },
     "execution_count": 45,
     "metadata": {},
     "output_type": "execute_result"
    }
   ],
   "source": [
    "a.std()"
   ]
  },
  {
   "cell_type": "code",
   "execution_count": null,
   "id": "37e87b37-1106-4244-86ac-4101e4eeab67",
   "metadata": {},
   "outputs": [],
   "source": []
  }
 ],
 "metadata": {
  "kernelspec": {
   "display_name": "Python 3 (ipykernel)",
   "language": "python",
   "name": "python3"
  },
  "language_info": {
   "codemirror_mode": {
    "name": "ipython",
    "version": 3
   },
   "file_extension": ".py",
   "mimetype": "text/x-python",
   "name": "python",
   "nbconvert_exporter": "python",
   "pygments_lexer": "ipython3",
   "version": "3.12.1"
  }
 },
 "nbformat": 4,
 "nbformat_minor": 5
}
