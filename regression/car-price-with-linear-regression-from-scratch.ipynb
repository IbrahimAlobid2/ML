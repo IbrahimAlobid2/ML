{
 "cells": [
  {
   "cell_type": "markdown",
   "id": "1c43bbbb",
   "metadata": {
    "papermill": {
     "duration": 0.020071,
     "end_time": "2025-05-12T14:58:28.917989",
     "exception": false,
     "start_time": "2025-05-12T14:58:28.897918",
     "status": "completed"
    },
    "tags": []
   },
   "source": [
    "#  Predicting Car Prices with Linear Regression\n",
    "\n",
    "This notebook builds a car price prediction model using the **MSRP** (Manufacturer Suggested Retail Price) dataset. The workflow includes:\n",
    "\n",
    "* Data preprocessing\n",
    "* Exploratory Data Analysis (EDA)\n",
    "* Feature engineering\n",
    "* Model training with linear regression\n",
    "* Regularization and model evaluation\n",
    "\n",
    "---"
   ]
  },
  {
   "cell_type": "markdown",
   "id": "f820ad9e",
   "metadata": {
    "papermill": {
     "duration": 0.017129,
     "end_time": "2025-05-12T14:58:28.953931",
     "exception": false,
     "start_time": "2025-05-12T14:58:28.936802",
     "status": "completed"
    },
    "tags": []
   },
   "source": [
    "##  Setup and Data Loading"
   ]
  },
  {
   "cell_type": "code",
   "execution_count": 1,
   "id": "264ab332",
   "metadata": {
    "papermill": {
     "duration": 3.74473,
     "end_time": "2025-05-12T14:58:32.771129",
     "exception": false,
     "start_time": "2025-05-12T14:58:29.026399",
     "status": "completed"
    },
    "tags": []
   },
   "outputs": [],
   "source": [
    "import pandas as pd\n",
    "import numpy as np\n",
    "import seaborn as sns\n",
    "from matplotlib import pyplot as plt\n",
    "%matplotlib inline"
   ]
  },
  {
   "cell_type": "code",
   "execution_count": 2,
   "id": "7c836e33",
   "metadata": {
    "papermill": {
     "duration": 0.090562,
     "end_time": "2025-05-12T14:58:32.879702",
     "exception": false,
     "start_time": "2025-05-12T14:58:32.789140",
     "status": "completed"
    },
    "tags": []
   },
   "outputs": [
    {
     "data": {
      "text/plain": [
       "(11914, 16)"
      ]
     },
     "execution_count": 2,
     "metadata": {},
     "output_type": "execute_result"
    }
   ],
   "source": [
    "df = pd.read_csv('data.csv')\n",
    "df.shape"
   ]
  },
  {
   "cell_type": "markdown",
   "id": "157d01fe",
   "metadata": {
    "papermill": {
     "duration": 0.019604,
     "end_time": "2025-05-12T14:58:32.985801",
     "exception": false,
     "start_time": "2025-05-12T14:58:32.966197",
     "status": "completed"
    },
    "tags": []
   },
   "source": [
    "##  Initial Exploration"
   ]
  },
  {
   "cell_type": "code",
   "execution_count": 3,
   "id": "91ee6906",
   "metadata": {
    "papermill": {
     "duration": 0.049925,
     "end_time": "2025-05-12T14:58:33.053705",
     "exception": false,
     "start_time": "2025-05-12T14:58:33.003780",
     "status": "completed"
    },
    "tags": []
   },
   "outputs": [
    {
     "data": {
      "text/html": [
       "<div>\n",
       "<style scoped>\n",
       "    .dataframe tbody tr th:only-of-type {\n",
       "        vertical-align: middle;\n",
       "    }\n",
       "\n",
       "    .dataframe tbody tr th {\n",
       "        vertical-align: top;\n",
       "    }\n",
       "\n",
       "    .dataframe thead th {\n",
       "        text-align: right;\n",
       "    }\n",
       "</style>\n",
       "<table border=\"1\" class=\"dataframe\">\n",
       "  <thead>\n",
       "    <tr style=\"text-align: right;\">\n",
       "      <th></th>\n",
       "      <th>Make</th>\n",
       "      <th>Model</th>\n",
       "      <th>Year</th>\n",
       "      <th>Engine Fuel Type</th>\n",
       "      <th>Engine HP</th>\n",
       "      <th>Engine Cylinders</th>\n",
       "      <th>Transmission Type</th>\n",
       "      <th>Driven_Wheels</th>\n",
       "      <th>Number of Doors</th>\n",
       "      <th>Market Category</th>\n",
       "      <th>Vehicle Size</th>\n",
       "      <th>Vehicle Style</th>\n",
       "      <th>highway MPG</th>\n",
       "      <th>city mpg</th>\n",
       "      <th>Popularity</th>\n",
       "      <th>MSRP</th>\n",
       "    </tr>\n",
       "  </thead>\n",
       "  <tbody>\n",
       "    <tr>\n",
       "      <th>0</th>\n",
       "      <td>BMW</td>\n",
       "      <td>1 Series M</td>\n",
       "      <td>2011</td>\n",
       "      <td>premium unleaded (required)</td>\n",
       "      <td>335.0</td>\n",
       "      <td>6.0</td>\n",
       "      <td>MANUAL</td>\n",
       "      <td>rear wheel drive</td>\n",
       "      <td>2.0</td>\n",
       "      <td>Factory Tuner,Luxury,High-Performance</td>\n",
       "      <td>Compact</td>\n",
       "      <td>Coupe</td>\n",
       "      <td>26</td>\n",
       "      <td>19</td>\n",
       "      <td>3916</td>\n",
       "      <td>46135</td>\n",
       "    </tr>\n",
       "    <tr>\n",
       "      <th>1</th>\n",
       "      <td>BMW</td>\n",
       "      <td>1 Series</td>\n",
       "      <td>2011</td>\n",
       "      <td>premium unleaded (required)</td>\n",
       "      <td>300.0</td>\n",
       "      <td>6.0</td>\n",
       "      <td>MANUAL</td>\n",
       "      <td>rear wheel drive</td>\n",
       "      <td>2.0</td>\n",
       "      <td>Luxury,Performance</td>\n",
       "      <td>Compact</td>\n",
       "      <td>Convertible</td>\n",
       "      <td>28</td>\n",
       "      <td>19</td>\n",
       "      <td>3916</td>\n",
       "      <td>40650</td>\n",
       "    </tr>\n",
       "    <tr>\n",
       "      <th>2</th>\n",
       "      <td>BMW</td>\n",
       "      <td>1 Series</td>\n",
       "      <td>2011</td>\n",
       "      <td>premium unleaded (required)</td>\n",
       "      <td>300.0</td>\n",
       "      <td>6.0</td>\n",
       "      <td>MANUAL</td>\n",
       "      <td>rear wheel drive</td>\n",
       "      <td>2.0</td>\n",
       "      <td>Luxury,High-Performance</td>\n",
       "      <td>Compact</td>\n",
       "      <td>Coupe</td>\n",
       "      <td>28</td>\n",
       "      <td>20</td>\n",
       "      <td>3916</td>\n",
       "      <td>36350</td>\n",
       "    </tr>\n",
       "    <tr>\n",
       "      <th>3</th>\n",
       "      <td>BMW</td>\n",
       "      <td>1 Series</td>\n",
       "      <td>2011</td>\n",
       "      <td>premium unleaded (required)</td>\n",
       "      <td>230.0</td>\n",
       "      <td>6.0</td>\n",
       "      <td>MANUAL</td>\n",
       "      <td>rear wheel drive</td>\n",
       "      <td>2.0</td>\n",
       "      <td>Luxury,Performance</td>\n",
       "      <td>Compact</td>\n",
       "      <td>Coupe</td>\n",
       "      <td>28</td>\n",
       "      <td>18</td>\n",
       "      <td>3916</td>\n",
       "      <td>29450</td>\n",
       "    </tr>\n",
       "    <tr>\n",
       "      <th>4</th>\n",
       "      <td>BMW</td>\n",
       "      <td>1 Series</td>\n",
       "      <td>2011</td>\n",
       "      <td>premium unleaded (required)</td>\n",
       "      <td>230.0</td>\n",
       "      <td>6.0</td>\n",
       "      <td>MANUAL</td>\n",
       "      <td>rear wheel drive</td>\n",
       "      <td>2.0</td>\n",
       "      <td>Luxury</td>\n",
       "      <td>Compact</td>\n",
       "      <td>Convertible</td>\n",
       "      <td>28</td>\n",
       "      <td>18</td>\n",
       "      <td>3916</td>\n",
       "      <td>34500</td>\n",
       "    </tr>\n",
       "  </tbody>\n",
       "</table>\n",
       "</div>"
      ],
      "text/plain": [
       "  Make       Model  Year             Engine Fuel Type  Engine HP  \\\n",
       "0  BMW  1 Series M  2011  premium unleaded (required)      335.0   \n",
       "1  BMW    1 Series  2011  premium unleaded (required)      300.0   \n",
       "2  BMW    1 Series  2011  premium unleaded (required)      300.0   \n",
       "3  BMW    1 Series  2011  premium unleaded (required)      230.0   \n",
       "4  BMW    1 Series  2011  premium unleaded (required)      230.0   \n",
       "\n",
       "   Engine Cylinders Transmission Type     Driven_Wheels  Number of Doors  \\\n",
       "0               6.0            MANUAL  rear wheel drive              2.0   \n",
       "1               6.0            MANUAL  rear wheel drive              2.0   \n",
       "2               6.0            MANUAL  rear wheel drive              2.0   \n",
       "3               6.0            MANUAL  rear wheel drive              2.0   \n",
       "4               6.0            MANUAL  rear wheel drive              2.0   \n",
       "\n",
       "                         Market Category Vehicle Size Vehicle Style  \\\n",
       "0  Factory Tuner,Luxury,High-Performance      Compact         Coupe   \n",
       "1                     Luxury,Performance      Compact   Convertible   \n",
       "2                Luxury,High-Performance      Compact         Coupe   \n",
       "3                     Luxury,Performance      Compact         Coupe   \n",
       "4                                 Luxury      Compact   Convertible   \n",
       "\n",
       "   highway MPG  city mpg  Popularity   MSRP  \n",
       "0           26        19        3916  46135  \n",
       "1           28        19        3916  40650  \n",
       "2           28        20        3916  36350  \n",
       "3           28        18        3916  29450  \n",
       "4           28        18        3916  34500  "
      ]
     },
     "execution_count": 3,
     "metadata": {},
     "output_type": "execute_result"
    }
   ],
   "source": [
    "df.head()"
   ]
  },
  {
   "cell_type": "markdown",
   "id": "f7062512",
   "metadata": {
    "papermill": {
     "duration": 0.01789,
     "end_time": "2025-05-12T14:58:33.089761",
     "exception": false,
     "start_time": "2025-05-12T14:58:33.071871",
     "status": "completed"
    },
    "tags": []
   },
   "source": [
    "We examine the structure and data types:\n"
   ]
  },
  {
   "cell_type": "code",
   "execution_count": 4,
   "id": "72b81afd",
   "metadata": {
    "papermill": {
     "duration": 0.02823,
     "end_time": "2025-05-12T14:58:33.136937",
     "exception": false,
     "start_time": "2025-05-12T14:58:33.108707",
     "status": "completed"
    },
    "tags": []
   },
   "outputs": [
    {
     "data": {
      "text/plain": [
       "Make                  object\n",
       "Model                 object\n",
       "Year                   int64\n",
       "Engine Fuel Type      object\n",
       "Engine HP            float64\n",
       "Engine Cylinders     float64\n",
       "Transmission Type     object\n",
       "Driven_Wheels         object\n",
       "Number of Doors      float64\n",
       "Market Category       object\n",
       "Vehicle Size          object\n",
       "Vehicle Style         object\n",
       "highway MPG            int64\n",
       "city mpg               int64\n",
       "Popularity             int64\n",
       "MSRP                   int64\n",
       "dtype: object"
      ]
     },
     "execution_count": 4,
     "metadata": {},
     "output_type": "execute_result"
    }
   ],
   "source": [
    "df.dtypes"
   ]
  },
  {
   "cell_type": "markdown",
   "id": "fc6f6b43",
   "metadata": {
    "papermill": {
     "duration": 0.018043,
     "end_time": "2025-05-12T14:58:33.173508",
     "exception": false,
     "start_time": "2025-05-12T14:58:33.155465",
     "status": "completed"
    },
    "tags": []
   },
   "source": [
    "##  Data Cleaning and Normalization\n",
    "\n",
    "### Normalize column names:"
   ]
  },
  {
   "cell_type": "code",
   "execution_count": 5,
   "id": "56511330",
   "metadata": {
    "papermill": {
     "duration": 0.027738,
     "end_time": "2025-05-12T14:58:33.219146",
     "exception": false,
     "start_time": "2025-05-12T14:58:33.191408",
     "status": "completed"
    },
    "tags": []
   },
   "outputs": [],
   "source": [
    "df.columns = df.columns.str.lower().str.replace(' ', '_')\n"
   ]
  },
  {
   "cell_type": "markdown",
   "id": "20b7ef2a",
   "metadata": {
    "papermill": {
     "duration": 0.01799,
     "end_time": "2025-05-12T14:58:33.255888",
     "exception": false,
     "start_time": "2025-05-12T14:58:33.237898",
     "status": "completed"
    },
    "tags": []
   },
   "source": [
    "## Separate string and numerical columns:"
   ]
  },
  {
   "cell_type": "code",
   "execution_count": 6,
   "id": "6e8bf3c6",
   "metadata": {
    "papermill": {
     "duration": 0.026846,
     "end_time": "2025-05-12T14:58:33.301013",
     "exception": false,
     "start_time": "2025-05-12T14:58:33.274167",
     "status": "completed"
    },
    "tags": []
   },
   "outputs": [],
   "source": [
    "string_columns = df.select_dtypes(include='object').columns.tolist()\n",
    "num_columns = df.select_dtypes(exclude='object').columns.tolist()"
   ]
  },
  {
   "cell_type": "code",
   "execution_count": 7,
   "id": "1c335708",
   "metadata": {
    "papermill": {
     "duration": 0.026407,
     "end_time": "2025-05-12T14:58:33.345849",
     "exception": false,
     "start_time": "2025-05-12T14:58:33.319442",
     "status": "completed"
    },
    "tags": []
   },
   "outputs": [
    {
     "data": {
      "text/plain": [
       "['make',\n",
       " 'model',\n",
       " 'engine_fuel_type',\n",
       " 'transmission_type',\n",
       " 'driven_wheels',\n",
       " 'market_category',\n",
       " 'vehicle_size',\n",
       " 'vehicle_style']"
      ]
     },
     "execution_count": 7,
     "metadata": {},
     "output_type": "execute_result"
    }
   ],
   "source": [
    "string_columns"
   ]
  },
  {
   "cell_type": "code",
   "execution_count": 8,
   "id": "a1742208",
   "metadata": {
    "papermill": {
     "duration": 0.027131,
     "end_time": "2025-05-12T14:58:33.393111",
     "exception": false,
     "start_time": "2025-05-12T14:58:33.365980",
     "status": "completed"
    },
    "tags": []
   },
   "outputs": [
    {
     "data": {
      "text/plain": [
       "['year',\n",
       " 'engine_hp',\n",
       " 'engine_cylinders',\n",
       " 'number_of_doors',\n",
       " 'highway_mpg',\n",
       " 'city_mpg',\n",
       " 'popularity',\n",
       " 'msrp']"
      ]
     },
     "execution_count": 8,
     "metadata": {},
     "output_type": "execute_result"
    }
   ],
   "source": [
    "num_columns"
   ]
  },
  {
   "cell_type": "markdown",
   "id": "d54a88f2",
   "metadata": {
    "papermill": {
     "duration": 0.018661,
     "end_time": "2025-05-12T14:58:33.430277",
     "exception": false,
     "start_time": "2025-05-12T14:58:33.411616",
     "status": "completed"
    },
    "tags": []
   },
   "source": [
    "# **Normalize string values:**"
   ]
  },
  {
   "cell_type": "code",
   "execution_count": 9,
   "id": "efb77417",
   "metadata": {
    "papermill": {
     "duration": 0.074894,
     "end_time": "2025-05-12T14:58:33.523541",
     "exception": false,
     "start_time": "2025-05-12T14:58:33.448647",
     "status": "completed"
    },
    "tags": []
   },
   "outputs": [],
   "source": [
    "for col in string_columns:\n",
    "    df[col] = df[col].str.lower().str.replace(' ', '_')"
   ]
  },
  {
   "cell_type": "markdown",
   "id": "20450b8f",
   "metadata": {
    "papermill": {
     "duration": 0.017958,
     "end_time": "2025-05-12T14:58:33.559963",
     "exception": false,
     "start_time": "2025-05-12T14:58:33.542005",
     "status": "completed"
    },
    "tags": []
   },
   "source": [
    "##  Exploratory Data Analysis (EDA)\n",
    "\n",
    "### Target variable: `msrp`"
   ]
  },
  {
   "cell_type": "markdown",
   "id": "16563c9b",
   "metadata": {
    "papermill": {
     "duration": 0.018357,
     "end_time": "2025-05-12T14:58:33.596541",
     "exception": false,
     "start_time": "2025-05-12T14:58:33.578184",
     "status": "completed"
    },
    "tags": []
   },
   "source": [
    "We examine unique values and distributions in features like `make`, `model`, `fuel_type`, etc."
   ]
  },
  {
   "cell_type": "code",
   "execution_count": 10,
   "id": "85323c9d",
   "metadata": {
    "papermill": {
     "duration": 0.042782,
     "end_time": "2025-05-12T14:58:33.658049",
     "exception": false,
     "start_time": "2025-05-12T14:58:33.615267",
     "status": "completed"
    },
    "tags": []
   },
   "outputs": [
    {
     "name": "stdout",
     "output_type": "stream",
     "text": [
      "make\n",
      "['bmw' 'audi' 'fiat' 'mercedes-benz' 'chrysler']\n",
      "48\n",
      "\n",
      "model\n",
      "['1_series_m' '1_series' '100' '124_spider' '190-class']\n",
      "914\n",
      "\n",
      "engine_fuel_type\n",
      "['premium_unleaded_(required)' 'regular_unleaded'\n",
      " 'premium_unleaded_(recommended)' 'flex-fuel_(unleaded/e85)' 'diesel']\n",
      "11\n",
      "\n",
      "transmission_type\n",
      "['manual' 'automatic' 'automated_manual' 'direct_drive' 'unknown']\n",
      "5\n",
      "\n",
      "driven_wheels\n",
      "['rear_wheel_drive' 'front_wheel_drive' 'all_wheel_drive'\n",
      " 'four_wheel_drive']\n",
      "4\n",
      "\n",
      "market_category\n",
      "['factory_tuner,luxury,high-performance' 'luxury,performance'\n",
      " 'luxury,high-performance' 'luxury' 'performance']\n",
      "72\n",
      "\n",
      "vehicle_size\n",
      "['compact' 'midsize' 'large']\n",
      "3\n",
      "\n",
      "vehicle_style\n",
      "['coupe' 'convertible' 'sedan' 'wagon' '4dr_hatchback']\n",
      "16\n",
      "\n"
     ]
    }
   ],
   "source": [
    "for col in string_columns:\n",
    "    print(col)\n",
    "    print(df[col].unique()[:5])\n",
    "    print(len(df[col].unique()))\n",
    "    print()"
   ]
  },
  {
   "cell_type": "markdown",
   "id": "54434eb4",
   "metadata": {
    "papermill": {
     "duration": 0.018251,
     "end_time": "2025-05-12T14:58:33.695427",
     "exception": false,
     "start_time": "2025-05-12T14:58:33.677176",
     "status": "completed"
    },
    "tags": []
   },
   "source": [
    "* View sample unique values and the count of unique categories per categorical column.\n"
   ]
  },
  {
   "cell_type": "markdown",
   "id": "b8faabbf",
   "metadata": {
    "papermill": {
     "duration": 0.018237,
     "end_time": "2025-05-12T14:58:33.732703",
     "exception": false,
     "start_time": "2025-05-12T14:58:33.714466",
     "status": "completed"
    },
    "tags": []
   },
   "source": [
    "\n",
    "\n",
    "### Target Variable Distribution (MSRP)\n",
    "\n",
    "We visualize the MSRP distribution using histograms and apply a log transformation to reduce skew.\n"
   ]
  },
  {
   "cell_type": "code",
   "execution_count": 11,
   "id": "6c53d7cb",
   "metadata": {
    "papermill": {
     "duration": 0.431264,
     "end_time": "2025-05-12T14:58:34.182219",
     "exception": false,
     "start_time": "2025-05-12T14:58:33.750955",
     "status": "completed"
    },
    "tags": []
   },
   "outputs": [
    {
     "data": {
      "image/png": "[encoded data removed]",
      "text/plain": [
       "<Figure size 600x400 with 1 Axes>"
      ]
     },
     "metadata": {},
     "output_type": "display_data"
    }
   ],
   "source": [
    "plt.figure(figsize=(6, 4))\n",
    "\n",
    "sns.histplot(df.msrp, bins=40, color='green', alpha=1)\n",
    "plt.ylabel('Frequency')\n",
    "plt.xlabel('Price')\n",
    "plt.title('Distribution of prices')\n",
    "\n",
    "plt.show()"
   ]
  },
  {
   "cell_type": "markdown",
   "id": "a1d74866",
   "metadata": {
    "papermill": {
     "duration": 0.018713,
     "end_time": "2025-05-12T14:58:34.220008",
     "exception": false,
     "start_time": "2025-05-12T14:58:34.201295",
     "status": "completed"
    },
    "tags": []
   },
   "source": [
    "> Visualize the price distribution using a histogram. The data is skewed due to high-priced outliers.\n"
   ]
  },
  {
   "cell_type": "markdown",
   "id": "1aae63a7",
   "metadata": {
    "papermill": {
     "duration": 0.019707,
     "end_time": "2025-05-12T14:58:34.258468",
     "exception": false,
     "start_time": "2025-05-12T14:58:34.238761",
     "status": "completed"
    },
    "tags": []
   },
   "source": [
    "### Focus on Prices Below \\$100K"
   ]
  },
  {
   "cell_type": "code",
   "execution_count": 12,
   "id": "1433938f",
   "metadata": {
    "papermill": {
     "duration": 0.271046,
     "end_time": "2025-05-12T14:58:34.548833",
     "exception": false,
     "start_time": "2025-05-12T14:58:34.277787",
     "status": "completed"
    },
    "tags": []
   },
   "outputs": [
    {
     "data": {
      "image/png": "[encoded data removed]",
      "text/plain": [
       "<Figure size 640x480 with 1 Axes>"
      ]
     },
     "metadata": {},
     "output_type": "display_data"
    }
   ],
   "source": [
    "\n",
    "sns.histplot(df.msrp[df.msrp < 100000], bins=40, color='green', alpha=1)\n",
    "plt.ylabel('Frequency')\n",
    "plt.xlabel('Price')\n",
    "plt.title('Distribution of prices')\n",
    "\n",
    "plt.show()"
   ]
  },
  {
   "cell_type": "markdown",
   "id": "6b43d253",
   "metadata": {
    "papermill": {
     "duration": 0.019719,
     "end_time": "2025-05-12T14:58:34.588247",
     "exception": false,
     "start_time": "2025-05-12T14:58:34.568528",
     "status": "completed"
    },
    "tags": []
   },
   "source": [
    ">Visualize the price distribution for more typical price ranges."
   ]
  },
  {
   "cell_type": "markdown",
   "id": "87cef16d",
   "metadata": {
    "papermill": {
     "duration": 0.019548,
     "end_time": "2025-05-12T14:58:34.627545",
     "exception": false,
     "start_time": "2025-05-12T14:58:34.607997",
     "status": "completed"
    },
    "tags": []
   },
   "source": [
    "### Log Transformation\n"
   ]
  },
  {
   "cell_type": "code",
   "execution_count": 13,
   "id": "eda115ba",
   "metadata": {
    "papermill": {
     "duration": 0.271775,
     "end_time": "2025-05-12T14:58:34.920400",
     "exception": false,
     "start_time": "2025-05-12T14:58:34.648625",
     "status": "completed"
    },
    "tags": []
   },
   "outputs": [
    {
     "data": {
      "image/png": "[encoded data removed]",
      "text/plain": [
       "<Figure size 600x400 with 1 Axes>"
      ]
     },
     "metadata": {},
     "output_type": "display_data"
    }
   ],
   "source": [
    "log_price = np.log1p(df.msrp)\n",
    "\n",
    "plt.figure(figsize=(6, 4))\n",
    "\n",
    "sns.histplot(log_price, bins=40, color='green', alpha=0.1)\n",
    "plt.ylabel('Frequency')\n",
    "plt.xlabel('Log(Price + 1)')\n",
    "plt.title('Distribution of prices after log tranformation')\n",
    "\n",
    "plt.show()"
   ]
  },
  {
   "cell_type": "markdown",
   "id": "70884cca",
   "metadata": {
    "papermill": {
     "duration": 0.020468,
     "end_time": "2025-05-12T14:58:34.962301",
     "exception": false,
     "start_time": "2025-05-12T14:58:34.941833",
     "status": "completed"
    },
    "tags": []
   },
   "source": [
    ">Apply `log1p` transformation to reduce skew and normalize distribution.\n"
   ]
  },
  {
   "cell_type": "markdown",
   "id": "99b63695",
   "metadata": {
    "papermill": {
     "duration": 0.021127,
     "end_time": "2025-05-12T14:58:35.003994",
     "exception": false,
     "start_time": "2025-05-12T14:58:34.982867",
     "status": "completed"
    },
    "tags": []
   },
   "source": [
    "##  Missing Value Analysis"
   ]
  },
  {
   "cell_type": "markdown",
   "id": "3dabe1f3",
   "metadata": {
    "papermill": {
     "duration": 0.020623,
     "end_time": "2025-05-12T14:58:35.045872",
     "exception": false,
     "start_time": "2025-05-12T14:58:35.025249",
     "status": "completed"
    },
    "tags": []
   },
   "source": [
    "We identify missing values in numeric and categorical columns to inform imputation strategies.\n"
   ]
  },
  {
   "cell_type": "code",
   "execution_count": 14,
   "id": "fa28bd3a",
   "metadata": {
    "papermill": {
     "duration": 0.03674,
     "end_time": "2025-05-12T14:58:35.103427",
     "exception": false,
     "start_time": "2025-05-12T14:58:35.066687",
     "status": "completed"
    },
    "tags": []
   },
   "outputs": [
    {
     "data": {
      "text/plain": [
       "make                    0\n",
       "model                   0\n",
       "year                    0\n",
       "engine_fuel_type        3\n",
       "engine_hp              69\n",
       "engine_cylinders       30\n",
       "transmission_type       0\n",
       "driven_wheels           0\n",
       "number_of_doors         6\n",
       "market_category      3742\n",
       "vehicle_size            0\n",
       "vehicle_style           0\n",
       "highway_mpg             0\n",
       "city_mpg                0\n",
       "popularity              0\n",
       "msrp                    0\n",
       "dtype: int64"
      ]
     },
     "execution_count": 14,
     "metadata": {},
     "output_type": "execute_result"
    }
   ],
   "source": [
    "df.isnull().sum()"
   ]
  },
  {
   "cell_type": "markdown",
   "id": "683e3755",
   "metadata": {
    "papermill": {
     "duration": 0.020577,
     "end_time": "2025-05-12T14:58:35.144913",
     "exception": false,
     "start_time": "2025-05-12T14:58:35.124336",
     "status": "completed"
    },
    "tags": []
   },
   "source": [
    ">Summarize missing values across all columns. This will help decide whether to drop or impute missing data.\n"
   ]
  },
  {
   "cell_type": "markdown",
   "id": "6d7e40b8",
   "metadata": {
    "papermill": {
     "duration": 0.02041,
     "end_time": "2025-05-12T14:58:35.186293",
     "exception": false,
     "start_time": "2025-05-12T14:58:35.165883",
     "status": "completed"
    },
    "tags": []
   },
   "source": [
    "## 🧪 Train/Validation/Test Split\n",
    "\n",
    "We randomly shuffle the dataset and split it:\n",
    "\n",
    "* 60% training\n",
    "* 20% validation\n",
    "* 20% test\n",
    "\n",
    "Log-transformed MSRP is used as the target variable.\n",
    "\n"
   ]
  },
  {
   "cell_type": "code",
   "execution_count": 15,
   "id": "a7948fcb",
   "metadata": {
    "papermill": {
     "duration": 0.029466,
     "end_time": "2025-05-12T14:58:35.236707",
     "exception": false,
     "start_time": "2025-05-12T14:58:35.207241",
     "status": "completed"
    },
    "tags": []
   },
   "outputs": [
    {
     "data": {
      "text/plain": [
       "11914"
      ]
     },
     "execution_count": 15,
     "metadata": {},
     "output_type": "execute_result"
    }
   ],
   "source": [
    "np.random.seed(2)\n",
    "n = len(df)\n",
    "n"
   ]
  },
  {
   "cell_type": "code",
   "execution_count": 16,
   "id": "d5ab1ae1",
   "metadata": {
    "papermill": {
     "duration": 0.032271,
     "end_time": "2025-05-12T14:58:35.290098",
     "exception": false,
     "start_time": "2025-05-12T14:58:35.257827",
     "status": "completed"
    },
    "tags": []
   },
   "outputs": [
    {
     "data": {
      "text/plain": [
       "(11914, 11914)"
      ]
     },
     "execution_count": 16,
     "metadata": {},
     "output_type": "execute_result"
    }
   ],
   "source": [
    "n_val = int(0.2 * n)\n",
    "n_test = int(0.2 * n)\n",
    "n_train = n - (n_val + n_test)\n",
    "n , n_train+n_test+n_val"
   ]
  },
  {
   "cell_type": "code",
   "execution_count": 17,
   "id": "8476ff86",
   "metadata": {
    "papermill": {
     "duration": 0.029537,
     "end_time": "2025-05-12T14:58:35.341288",
     "exception": false,
     "start_time": "2025-05-12T14:58:35.311751",
     "status": "completed"
    },
    "tags": []
   },
   "outputs": [
    {
     "data": {
      "text/plain": [
       "array([    0,     1,     2, ..., 11911, 11912, 11913], shape=(11914,))"
      ]
     },
     "execution_count": 17,
     "metadata": {},
     "output_type": "execute_result"
    }
   ],
   "source": [
    "idx = np.arange(n)\n",
    "idx"
   ]
  },
  {
   "cell_type": "code",
   "execution_count": 18,
   "id": "8cba1680",
   "metadata": {
    "papermill": {
     "duration": 0.030991,
     "end_time": "2025-05-12T14:58:35.393647",
     "exception": false,
     "start_time": "2025-05-12T14:58:35.362656",
     "status": "completed"
    },
    "tags": []
   },
   "outputs": [
    {
     "data": {
      "text/plain": [
       "array([2735, 6720, 5878, ..., 6637, 2575, 7336], shape=(11914,))"
      ]
     },
     "execution_count": 18,
     "metadata": {},
     "output_type": "execute_result"
    }
   ],
   "source": [
    "np.random.shuffle(idx)\n",
    "idx"
   ]
  },
  {
   "cell_type": "code",
   "execution_count": 19,
   "id": "948dc830",
   "metadata": {
    "papermill": {
     "duration": 0.050011,
     "end_time": "2025-05-12T14:58:35.465057",
     "exception": false,
     "start_time": "2025-05-12T14:58:35.415046",
     "status": "completed"
    },
    "tags": []
   },
   "outputs": [
    {
     "data": {
      "text/html": [
       "<div>\n",
       "<style scoped>\n",
       "    .dataframe tbody tr th:only-of-type {\n",
       "        vertical-align: middle;\n",
       "    }\n",
       "\n",
       "    .dataframe tbody tr th {\n",
       "        vertical-align: top;\n",
       "    }\n",
       "\n",
       "    .dataframe thead th {\n",
       "        text-align: right;\n",
       "    }\n",
       "</style>\n",
       "<table border=\"1\" class=\"dataframe\">\n",
       "  <thead>\n",
       "    <tr style=\"text-align: right;\">\n",
       "      <th></th>\n",
       "      <th>make</th>\n",
       "      <th>model</th>\n",
       "      <th>year</th>\n",
       "      <th>engine_fuel_type</th>\n",
       "      <th>engine_hp</th>\n",
       "      <th>engine_cylinders</th>\n",
       "      <th>transmission_type</th>\n",
       "      <th>driven_wheels</th>\n",
       "      <th>number_of_doors</th>\n",
       "      <th>market_category</th>\n",
       "      <th>vehicle_size</th>\n",
       "      <th>vehicle_style</th>\n",
       "      <th>highway_mpg</th>\n",
       "      <th>city_mpg</th>\n",
       "      <th>popularity</th>\n",
       "      <th>msrp</th>\n",
       "    </tr>\n",
       "  </thead>\n",
       "  <tbody>\n",
       "    <tr>\n",
       "      <th>2735</th>\n",
       "      <td>chevrolet</td>\n",
       "      <td>cobalt</td>\n",
       "      <td>2008</td>\n",
       "      <td>regular_unleaded</td>\n",
       "      <td>148.0</td>\n",
       "      <td>4.0</td>\n",
       "      <td>manual</td>\n",
       "      <td>front_wheel_drive</td>\n",
       "      <td>2.0</td>\n",
       "      <td>NaN</td>\n",
       "      <td>compact</td>\n",
       "      <td>coupe</td>\n",
       "      <td>33</td>\n",
       "      <td>24</td>\n",
       "      <td>1385</td>\n",
       "      <td>14410</td>\n",
       "    </tr>\n",
       "    <tr>\n",
       "      <th>6720</th>\n",
       "      <td>toyota</td>\n",
       "      <td>matrix</td>\n",
       "      <td>2012</td>\n",
       "      <td>regular_unleaded</td>\n",
       "      <td>132.0</td>\n",
       "      <td>4.0</td>\n",
       "      <td>automatic</td>\n",
       "      <td>front_wheel_drive</td>\n",
       "      <td>4.0</td>\n",
       "      <td>hatchback</td>\n",
       "      <td>compact</td>\n",
       "      <td>4dr_hatchback</td>\n",
       "      <td>32</td>\n",
       "      <td>25</td>\n",
       "      <td>2031</td>\n",
       "      <td>19685</td>\n",
       "    </tr>\n",
       "    <tr>\n",
       "      <th>5878</th>\n",
       "      <td>subaru</td>\n",
       "      <td>impreza</td>\n",
       "      <td>2016</td>\n",
       "      <td>regular_unleaded</td>\n",
       "      <td>148.0</td>\n",
       "      <td>4.0</td>\n",
       "      <td>automatic</td>\n",
       "      <td>all_wheel_drive</td>\n",
       "      <td>4.0</td>\n",
       "      <td>hatchback</td>\n",
       "      <td>compact</td>\n",
       "      <td>4dr_hatchback</td>\n",
       "      <td>37</td>\n",
       "      <td>28</td>\n",
       "      <td>640</td>\n",
       "      <td>19795</td>\n",
       "    </tr>\n",
       "    <tr>\n",
       "      <th>11190</th>\n",
       "      <td>volkswagen</td>\n",
       "      <td>vanagon</td>\n",
       "      <td>1991</td>\n",
       "      <td>regular_unleaded</td>\n",
       "      <td>90.0</td>\n",
       "      <td>4.0</td>\n",
       "      <td>manual</td>\n",
       "      <td>rear_wheel_drive</td>\n",
       "      <td>3.0</td>\n",
       "      <td>NaN</td>\n",
       "      <td>large</td>\n",
       "      <td>passenger_minivan</td>\n",
       "      <td>18</td>\n",
       "      <td>16</td>\n",
       "      <td>873</td>\n",
       "      <td>2000</td>\n",
       "    </tr>\n",
       "    <tr>\n",
       "      <th>4554</th>\n",
       "      <td>ford</td>\n",
       "      <td>f-150</td>\n",
       "      <td>2017</td>\n",
       "      <td>flex-fuel_(unleaded/e85)</td>\n",
       "      <td>385.0</td>\n",
       "      <td>8.0</td>\n",
       "      <td>automatic</td>\n",
       "      <td>four_wheel_drive</td>\n",
       "      <td>4.0</td>\n",
       "      <td>flex_fuel</td>\n",
       "      <td>large</td>\n",
       "      <td>crew_cab_pickup</td>\n",
       "      <td>21</td>\n",
       "      <td>15</td>\n",
       "      <td>5657</td>\n",
       "      <td>56260</td>\n",
       "    </tr>\n",
       "    <tr>\n",
       "      <th>...</th>\n",
       "      <td>...</td>\n",
       "      <td>...</td>\n",
       "      <td>...</td>\n",
       "      <td>...</td>\n",
       "      <td>...</td>\n",
       "      <td>...</td>\n",
       "      <td>...</td>\n",
       "      <td>...</td>\n",
       "      <td>...</td>\n",
       "      <td>...</td>\n",
       "      <td>...</td>\n",
       "      <td>...</td>\n",
       "      <td>...</td>\n",
       "      <td>...</td>\n",
       "      <td>...</td>\n",
       "      <td>...</td>\n",
       "    </tr>\n",
       "    <tr>\n",
       "      <th>2514</th>\n",
       "      <td>chevrolet</td>\n",
       "      <td>chevy_van</td>\n",
       "      <td>1998</td>\n",
       "      <td>regular_unleaded</td>\n",
       "      <td>200.0</td>\n",
       "      <td>6.0</td>\n",
       "      <td>automatic</td>\n",
       "      <td>rear_wheel_drive</td>\n",
       "      <td>3.0</td>\n",
       "      <td>NaN</td>\n",
       "      <td>midsize</td>\n",
       "      <td>cargo_van</td>\n",
       "      <td>18</td>\n",
       "      <td>13</td>\n",
       "      <td>1385</td>\n",
       "      <td>2052</td>\n",
       "    </tr>\n",
       "    <tr>\n",
       "      <th>11798</th>\n",
       "      <td>subaru</td>\n",
       "      <td>xv_crosstrek</td>\n",
       "      <td>2014</td>\n",
       "      <td>regular_unleaded</td>\n",
       "      <td>160.0</td>\n",
       "      <td>4.0</td>\n",
       "      <td>automatic</td>\n",
       "      <td>all_wheel_drive</td>\n",
       "      <td>4.0</td>\n",
       "      <td>crossover,hybrid</td>\n",
       "      <td>compact</td>\n",
       "      <td>4dr_suv</td>\n",
       "      <td>33</td>\n",
       "      <td>29</td>\n",
       "      <td>640</td>\n",
       "      <td>25995</td>\n",
       "    </tr>\n",
       "    <tr>\n",
       "      <th>6637</th>\n",
       "      <td>dodge</td>\n",
       "      <td>magnum</td>\n",
       "      <td>2006</td>\n",
       "      <td>regular_unleaded</td>\n",
       "      <td>250.0</td>\n",
       "      <td>6.0</td>\n",
       "      <td>automatic</td>\n",
       "      <td>all_wheel_drive</td>\n",
       "      <td>4.0</td>\n",
       "      <td>NaN</td>\n",
       "      <td>large</td>\n",
       "      <td>wagon</td>\n",
       "      <td>22</td>\n",
       "      <td>15</td>\n",
       "      <td>1851</td>\n",
       "      <td>29100</td>\n",
       "    </tr>\n",
       "    <tr>\n",
       "      <th>2575</th>\n",
       "      <td>honda</td>\n",
       "      <td>civic</td>\n",
       "      <td>2016</td>\n",
       "      <td>regular_unleaded</td>\n",
       "      <td>174.0</td>\n",
       "      <td>4.0</td>\n",
       "      <td>automatic</td>\n",
       "      <td>front_wheel_drive</td>\n",
       "      <td>4.0</td>\n",
       "      <td>NaN</td>\n",
       "      <td>midsize</td>\n",
       "      <td>sedan</td>\n",
       "      <td>42</td>\n",
       "      <td>31</td>\n",
       "      <td>2202</td>\n",
       "      <td>22200</td>\n",
       "    </tr>\n",
       "    <tr>\n",
       "      <th>7336</th>\n",
       "      <td>subaru</td>\n",
       "      <td>outback</td>\n",
       "      <td>2015</td>\n",
       "      <td>regular_unleaded</td>\n",
       "      <td>256.0</td>\n",
       "      <td>6.0</td>\n",
       "      <td>automatic</td>\n",
       "      <td>all_wheel_drive</td>\n",
       "      <td>4.0</td>\n",
       "      <td>crossover</td>\n",
       "      <td>midsize</td>\n",
       "      <td>4dr_suv</td>\n",
       "      <td>27</td>\n",
       "      <td>20</td>\n",
       "      <td>640</td>\n",
       "      <td>32995</td>\n",
       "    </tr>\n",
       "  </tbody>\n",
       "</table>\n",
       "<p>11914 rows × 16 columns</p>\n",
       "</div>"
      ],
      "text/plain": [
       "             make         model  year          engine_fuel_type  engine_hp  \\\n",
       "2735    chevrolet        cobalt  2008          regular_unleaded      148.0   \n",
       "6720       toyota        matrix  2012          regular_unleaded      132.0   \n",
       "5878       subaru       impreza  2016          regular_unleaded      148.0   \n",
       "11190  volkswagen       vanagon  1991          regular_unleaded       90.0   \n",
       "4554         ford         f-150  2017  flex-fuel_(unleaded/e85)      385.0   \n",
       "...           ...           ...   ...                       ...        ...   \n",
       "2514    chevrolet     chevy_van  1998          regular_unleaded      200.0   \n",
       "11798      subaru  xv_crosstrek  2014          regular_unleaded      160.0   \n",
       "6637        dodge        magnum  2006          regular_unleaded      250.0   \n",
       "2575        honda         civic  2016          regular_unleaded      174.0   \n",
       "7336       subaru       outback  2015          regular_unleaded      256.0   \n",
       "\n",
       "       engine_cylinders transmission_type      driven_wheels  number_of_doors  \\\n",
       "2735                4.0            manual  front_wheel_drive              2.0   \n",
       "6720                4.0         automatic  front_wheel_drive              4.0   \n",
       "5878                4.0         automatic    all_wheel_drive              4.0   \n",
       "11190               4.0            manual   rear_wheel_drive              3.0   \n",
       "4554                8.0         automatic   four_wheel_drive              4.0   \n",
       "...                 ...               ...                ...              ...   \n",
       "2514                6.0         automatic   rear_wheel_drive              3.0   \n",
       "11798               4.0         automatic    all_wheel_drive              4.0   \n",
       "6637                6.0         automatic    all_wheel_drive              4.0   \n",
       "2575                4.0         automatic  front_wheel_drive              4.0   \n",
       "7336                6.0         automatic    all_wheel_drive              4.0   \n",
       "\n",
       "        market_category vehicle_size      vehicle_style  highway_mpg  \\\n",
       "2735                NaN      compact              coupe           33   \n",
       "6720          hatchback      compact      4dr_hatchback           32   \n",
       "5878          hatchback      compact      4dr_hatchback           37   \n",
       "11190               NaN        large  passenger_minivan           18   \n",
       "4554          flex_fuel        large    crew_cab_pickup           21   \n",
       "...                 ...          ...                ...          ...   \n",
       "2514                NaN      midsize          cargo_van           18   \n",
       "11798  crossover,hybrid      compact            4dr_suv           33   \n",
       "6637                NaN        large              wagon           22   \n",
       "2575                NaN      midsize              sedan           42   \n",
       "7336          crossover      midsize            4dr_suv           27   \n",
       "\n",
       "       city_mpg  popularity   msrp  \n",
       "2735         24        1385  14410  \n",
       "6720         25        2031  19685  \n",
       "5878         28         640  19795  \n",
       "11190        16         873   2000  \n",
       "4554         15        5657  56260  \n",
       "...         ...         ...    ...  \n",
       "2514         13        1385   2052  \n",
       "11798        29         640  25995  \n",
       "6637         15        1851  29100  \n",
       "2575         31        2202  22200  \n",
       "7336         20         640  32995  \n",
       "\n",
       "[11914 rows x 16 columns]"
      ]
     },
     "execution_count": 19,
     "metadata": {},
     "output_type": "execute_result"
    }
   ],
   "source": [
    "df_shuffled = df.iloc[idx]\n",
    "df_shuffled"
   ]
  },
  {
   "cell_type": "code",
   "execution_count": 20,
   "id": "a5ef7015",
   "metadata": {
    "papermill": {
     "duration": 0.051055,
     "end_time": "2025-05-12T14:58:35.538243",
     "exception": false,
     "start_time": "2025-05-12T14:58:35.487188",
     "status": "completed"
    },
    "tags": []
   },
   "outputs": [
    {
     "data": {
      "text/html": [
       "<div>\n",
       "<style scoped>\n",
       "    .dataframe tbody tr th:only-of-type {\n",
       "        vertical-align: middle;\n",
       "    }\n",
       "\n",
       "    .dataframe tbody tr th {\n",
       "        vertical-align: top;\n",
       "    }\n",
       "\n",
       "    .dataframe thead th {\n",
       "        text-align: right;\n",
       "    }\n",
       "</style>\n",
       "<table border=\"1\" class=\"dataframe\">\n",
       "  <thead>\n",
       "    <tr style=\"text-align: right;\">\n",
       "      <th></th>\n",
       "      <th>make</th>\n",
       "      <th>model</th>\n",
       "      <th>year</th>\n",
       "      <th>engine_fuel_type</th>\n",
       "      <th>engine_hp</th>\n",
       "      <th>engine_cylinders</th>\n",
       "      <th>transmission_type</th>\n",
       "      <th>driven_wheels</th>\n",
       "      <th>number_of_doors</th>\n",
       "      <th>market_category</th>\n",
       "      <th>vehicle_size</th>\n",
       "      <th>vehicle_style</th>\n",
       "      <th>highway_mpg</th>\n",
       "      <th>city_mpg</th>\n",
       "      <th>popularity</th>\n",
       "      <th>msrp</th>\n",
       "    </tr>\n",
       "  </thead>\n",
       "  <tbody>\n",
       "    <tr>\n",
       "      <th>2735</th>\n",
       "      <td>chevrolet</td>\n",
       "      <td>cobalt</td>\n",
       "      <td>2008</td>\n",
       "      <td>regular_unleaded</td>\n",
       "      <td>148.0</td>\n",
       "      <td>4.0</td>\n",
       "      <td>manual</td>\n",
       "      <td>front_wheel_drive</td>\n",
       "      <td>2.0</td>\n",
       "      <td>NaN</td>\n",
       "      <td>compact</td>\n",
       "      <td>coupe</td>\n",
       "      <td>33</td>\n",
       "      <td>24</td>\n",
       "      <td>1385</td>\n",
       "      <td>14410</td>\n",
       "    </tr>\n",
       "    <tr>\n",
       "      <th>6720</th>\n",
       "      <td>toyota</td>\n",
       "      <td>matrix</td>\n",
       "      <td>2012</td>\n",
       "      <td>regular_unleaded</td>\n",
       "      <td>132.0</td>\n",
       "      <td>4.0</td>\n",
       "      <td>automatic</td>\n",
       "      <td>front_wheel_drive</td>\n",
       "      <td>4.0</td>\n",
       "      <td>hatchback</td>\n",
       "      <td>compact</td>\n",
       "      <td>4dr_hatchback</td>\n",
       "      <td>32</td>\n",
       "      <td>25</td>\n",
       "      <td>2031</td>\n",
       "      <td>19685</td>\n",
       "    </tr>\n",
       "    <tr>\n",
       "      <th>5878</th>\n",
       "      <td>subaru</td>\n",
       "      <td>impreza</td>\n",
       "      <td>2016</td>\n",
       "      <td>regular_unleaded</td>\n",
       "      <td>148.0</td>\n",
       "      <td>4.0</td>\n",
       "      <td>automatic</td>\n",
       "      <td>all_wheel_drive</td>\n",
       "      <td>4.0</td>\n",
       "      <td>hatchback</td>\n",
       "      <td>compact</td>\n",
       "      <td>4dr_hatchback</td>\n",
       "      <td>37</td>\n",
       "      <td>28</td>\n",
       "      <td>640</td>\n",
       "      <td>19795</td>\n",
       "    </tr>\n",
       "    <tr>\n",
       "      <th>11190</th>\n",
       "      <td>volkswagen</td>\n",
       "      <td>vanagon</td>\n",
       "      <td>1991</td>\n",
       "      <td>regular_unleaded</td>\n",
       "      <td>90.0</td>\n",
       "      <td>4.0</td>\n",
       "      <td>manual</td>\n",
       "      <td>rear_wheel_drive</td>\n",
       "      <td>3.0</td>\n",
       "      <td>NaN</td>\n",
       "      <td>large</td>\n",
       "      <td>passenger_minivan</td>\n",
       "      <td>18</td>\n",
       "      <td>16</td>\n",
       "      <td>873</td>\n",
       "      <td>2000</td>\n",
       "    </tr>\n",
       "    <tr>\n",
       "      <th>4554</th>\n",
       "      <td>ford</td>\n",
       "      <td>f-150</td>\n",
       "      <td>2017</td>\n",
       "      <td>flex-fuel_(unleaded/e85)</td>\n",
       "      <td>385.0</td>\n",
       "      <td>8.0</td>\n",
       "      <td>automatic</td>\n",
       "      <td>four_wheel_drive</td>\n",
       "      <td>4.0</td>\n",
       "      <td>flex_fuel</td>\n",
       "      <td>large</td>\n",
       "      <td>crew_cab_pickup</td>\n",
       "      <td>21</td>\n",
       "      <td>15</td>\n",
       "      <td>5657</td>\n",
       "      <td>56260</td>\n",
       "    </tr>\n",
       "    <tr>\n",
       "      <th>...</th>\n",
       "      <td>...</td>\n",
       "      <td>...</td>\n",
       "      <td>...</td>\n",
       "      <td>...</td>\n",
       "      <td>...</td>\n",
       "      <td>...</td>\n",
       "      <td>...</td>\n",
       "      <td>...</td>\n",
       "      <td>...</td>\n",
       "      <td>...</td>\n",
       "      <td>...</td>\n",
       "      <td>...</td>\n",
       "      <td>...</td>\n",
       "      <td>...</td>\n",
       "      <td>...</td>\n",
       "      <td>...</td>\n",
       "    </tr>\n",
       "    <tr>\n",
       "      <th>434</th>\n",
       "      <td>bmw</td>\n",
       "      <td>4_series</td>\n",
       "      <td>2015</td>\n",
       "      <td>premium_unleaded_(required)</td>\n",
       "      <td>300.0</td>\n",
       "      <td>6.0</td>\n",
       "      <td>automatic</td>\n",
       "      <td>rear_wheel_drive</td>\n",
       "      <td>2.0</td>\n",
       "      <td>luxury,performance</td>\n",
       "      <td>midsize</td>\n",
       "      <td>convertible</td>\n",
       "      <td>31</td>\n",
       "      <td>20</td>\n",
       "      <td>3916</td>\n",
       "      <td>54900</td>\n",
       "    </tr>\n",
       "    <tr>\n",
       "      <th>1902</th>\n",
       "      <td>volkswagen</td>\n",
       "      <td>beetle</td>\n",
       "      <td>2015</td>\n",
       "      <td>premium_unleaded_(recommended)</td>\n",
       "      <td>210.0</td>\n",
       "      <td>4.0</td>\n",
       "      <td>automated_manual</td>\n",
       "      <td>front_wheel_drive</td>\n",
       "      <td>2.0</td>\n",
       "      <td>hatchback,performance</td>\n",
       "      <td>compact</td>\n",
       "      <td>2dr_hatchback</td>\n",
       "      <td>30</td>\n",
       "      <td>24</td>\n",
       "      <td>873</td>\n",
       "      <td>29215</td>\n",
       "    </tr>\n",
       "    <tr>\n",
       "      <th>9334</th>\n",
       "      <td>gmc</td>\n",
       "      <td>sierra_1500</td>\n",
       "      <td>2015</td>\n",
       "      <td>flex-fuel_(unleaded/e85)</td>\n",
       "      <td>285.0</td>\n",
       "      <td>6.0</td>\n",
       "      <td>automatic</td>\n",
       "      <td>four_wheel_drive</td>\n",
       "      <td>4.0</td>\n",
       "      <td>flex_fuel</td>\n",
       "      <td>large</td>\n",
       "      <td>extended_cab_pickup</td>\n",
       "      <td>22</td>\n",
       "      <td>17</td>\n",
       "      <td>549</td>\n",
       "      <td>34675</td>\n",
       "    </tr>\n",
       "    <tr>\n",
       "      <th>5284</th>\n",
       "      <td>rolls-royce</td>\n",
       "      <td>ghost</td>\n",
       "      <td>2014</td>\n",
       "      <td>premium_unleaded_(required)</td>\n",
       "      <td>563.0</td>\n",
       "      <td>12.0</td>\n",
       "      <td>automatic</td>\n",
       "      <td>rear_wheel_drive</td>\n",
       "      <td>4.0</td>\n",
       "      <td>exotic,luxury,performance</td>\n",
       "      <td>large</td>\n",
       "      <td>sedan</td>\n",
       "      <td>21</td>\n",
       "      <td>13</td>\n",
       "      <td>86</td>\n",
       "      <td>303300</td>\n",
       "    </tr>\n",
       "    <tr>\n",
       "      <th>2420</th>\n",
       "      <td>volkswagen</td>\n",
       "      <td>cc</td>\n",
       "      <td>2017</td>\n",
       "      <td>premium_unleaded_(recommended)</td>\n",
       "      <td>200.0</td>\n",
       "      <td>4.0</td>\n",
       "      <td>automated_manual</td>\n",
       "      <td>front_wheel_drive</td>\n",
       "      <td>4.0</td>\n",
       "      <td>performance</td>\n",
       "      <td>midsize</td>\n",
       "      <td>sedan</td>\n",
       "      <td>31</td>\n",
       "      <td>22</td>\n",
       "      <td>873</td>\n",
       "      <td>37820</td>\n",
       "    </tr>\n",
       "  </tbody>\n",
       "</table>\n",
       "<p>7150 rows × 16 columns</p>\n",
       "</div>"
      ],
      "text/plain": [
       "              make        model  year                engine_fuel_type  \\\n",
       "2735     chevrolet       cobalt  2008                regular_unleaded   \n",
       "6720        toyota       matrix  2012                regular_unleaded   \n",
       "5878        subaru      impreza  2016                regular_unleaded   \n",
       "11190   volkswagen      vanagon  1991                regular_unleaded   \n",
       "4554          ford        f-150  2017        flex-fuel_(unleaded/e85)   \n",
       "...            ...          ...   ...                             ...   \n",
       "434            bmw     4_series  2015     premium_unleaded_(required)   \n",
       "1902    volkswagen       beetle  2015  premium_unleaded_(recommended)   \n",
       "9334           gmc  sierra_1500  2015        flex-fuel_(unleaded/e85)   \n",
       "5284   rolls-royce        ghost  2014     premium_unleaded_(required)   \n",
       "2420    volkswagen           cc  2017  premium_unleaded_(recommended)   \n",
       "\n",
       "       engine_hp  engine_cylinders transmission_type      driven_wheels  \\\n",
       "2735       148.0               4.0            manual  front_wheel_drive   \n",
       "6720       132.0               4.0         automatic  front_wheel_drive   \n",
       "5878       148.0               4.0         automatic    all_wheel_drive   \n",
       "11190       90.0               4.0            manual   rear_wheel_drive   \n",
       "4554       385.0               8.0         automatic   four_wheel_drive   \n",
       "...          ...               ...               ...                ...   \n",
       "434        300.0               6.0         automatic   rear_wheel_drive   \n",
       "1902       210.0               4.0  automated_manual  front_wheel_drive   \n",
       "9334       285.0               6.0         automatic   four_wheel_drive   \n",
       "5284       563.0              12.0         automatic   rear_wheel_drive   \n",
       "2420       200.0               4.0  automated_manual  front_wheel_drive   \n",
       "\n",
       "       number_of_doors            market_category vehicle_size  \\\n",
       "2735               2.0                        NaN      compact   \n",
       "6720               4.0                  hatchback      compact   \n",
       "5878               4.0                  hatchback      compact   \n",
       "11190              3.0                        NaN        large   \n",
       "4554               4.0                  flex_fuel        large   \n",
       "...                ...                        ...          ...   \n",
       "434                2.0         luxury,performance      midsize   \n",
       "1902               2.0      hatchback,performance      compact   \n",
       "9334               4.0                  flex_fuel        large   \n",
       "5284               4.0  exotic,luxury,performance        large   \n",
       "2420               4.0                performance      midsize   \n",
       "\n",
       "             vehicle_style  highway_mpg  city_mpg  popularity    msrp  \n",
       "2735                 coupe           33        24        1385   14410  \n",
       "6720         4dr_hatchback           32        25        2031   19685  \n",
       "5878         4dr_hatchback           37        28         640   19795  \n",
       "11190    passenger_minivan           18        16         873    2000  \n",
       "4554       crew_cab_pickup           21        15        5657   56260  \n",
       "...                    ...          ...       ...         ...     ...  \n",
       "434            convertible           31        20        3916   54900  \n",
       "1902         2dr_hatchback           30        24         873   29215  \n",
       "9334   extended_cab_pickup           22        17         549   34675  \n",
       "5284                 sedan           21        13          86  303300  \n",
       "2420                 sedan           31        22         873   37820  \n",
       "\n",
       "[7150 rows x 16 columns]"
      ]
     },
     "execution_count": 20,
     "metadata": {},
     "output_type": "execute_result"
    }
   ],
   "source": [
    "df_train = df_shuffled.iloc[:n_train].copy()\n",
    "df_val = df_shuffled.iloc[n_train:n_train+n_val].copy()\n",
    "df_test = df_shuffled.iloc[n_train+n_val:].copy()\n",
    "df_train"
   ]
  },
  {
   "cell_type": "markdown",
   "id": "417e4d38",
   "metadata": {
    "papermill": {
     "duration": 0.02178,
     "end_time": "2025-05-12T14:58:35.582478",
     "exception": false,
     "start_time": "2025-05-12T14:58:35.560698",
     "status": "completed"
    },
    "tags": []
   },
   "source": [
    ">`copy()` is used to avoid SettingWithCopy warnings when manipulating subsets later."
   ]
  },
  {
   "cell_type": "markdown",
   "id": "4ae9c501",
   "metadata": {
    "papermill": {
     "duration": 0.021708,
     "end_time": "2025-05-12T14:58:35.626291",
     "exception": false,
     "start_time": "2025-05-12T14:58:35.604583",
     "status": "completed"
    },
    "tags": []
   },
   "source": [
    "### Prepare Target Variables"
   ]
  },
  {
   "cell_type": "code",
   "execution_count": 21,
   "id": "8fcbe8b6",
   "metadata": {
    "papermill": {
     "duration": 0.031576,
     "end_time": "2025-05-12T14:58:35.680055",
     "exception": false,
     "start_time": "2025-05-12T14:58:35.648479",
     "status": "completed"
    },
    "tags": []
   },
   "outputs": [
    {
     "data": {
      "text/plain": [
       "array([ 14410,  19685,  19795, ...,  34675, 303300,  37820], shape=(7150,))"
      ]
     },
     "execution_count": 21,
     "metadata": {},
     "output_type": "execute_result"
    }
   ],
   "source": [
    "y_train_orig = df_train.msrp.values\n",
    "y_val_orig = df_val.msrp.values\n",
    "y_test_orig = df_test.msrp.values\n",
    "y_train_orig"
   ]
  },
  {
   "cell_type": "code",
   "execution_count": 22,
   "id": "ab951f43",
   "metadata": {
    "papermill": {
     "duration": 0.033547,
     "end_time": "2025-05-12T14:58:35.736090",
     "exception": false,
     "start_time": "2025-05-12T14:58:35.702543",
     "status": "completed"
    },
    "tags": []
   },
   "outputs": [
    {
     "data": {
      "text/plain": [
       "array([ 9.57574708,  9.887663  ,  9.89323518, ..., 10.45380308,\n",
       "       12.62248099, 10.54061978], shape=(7150,))"
      ]
     },
     "execution_count": 22,
     "metadata": {},
     "output_type": "execute_result"
    }
   ],
   "source": [
    "y_train = np.log1p(y_train_orig )\n",
    "y_val = np.log1p(y_val_orig)\n",
    "y_test = np.log1p(y_test_orig)\n",
    "y_train"
   ]
  },
  {
   "cell_type": "code",
   "execution_count": 23,
   "id": "ce2edd95",
   "metadata": {
    "papermill": {
     "duration": 0.030386,
     "end_time": "2025-05-12T14:58:35.789027",
     "exception": false,
     "start_time": "2025-05-12T14:58:35.758641",
     "status": "completed"
    },
    "tags": []
   },
   "outputs": [],
   "source": [
    "del df_train['msrp']\n",
    "del df_val['msrp']\n",
    "del df_test['msrp']"
   ]
  },
  {
   "cell_type": "code",
   "execution_count": 24,
   "id": "c2385fc3",
   "metadata": {
    "papermill": {
     "duration": 0.044224,
     "end_time": "2025-05-12T14:58:35.855804",
     "exception": false,
     "start_time": "2025-05-12T14:58:35.811580",
     "status": "completed"
    },
    "tags": []
   },
   "outputs": [
    {
     "data": {
      "text/html": [
       "<div>\n",
       "<style scoped>\n",
       "    .dataframe tbody tr th:only-of-type {\n",
       "        vertical-align: middle;\n",
       "    }\n",
       "\n",
       "    .dataframe tbody tr th {\n",
       "        vertical-align: top;\n",
       "    }\n",
       "\n",
       "    .dataframe thead th {\n",
       "        text-align: right;\n",
       "    }\n",
       "</style>\n",
       "<table border=\"1\" class=\"dataframe\">\n",
       "  <thead>\n",
       "    <tr style=\"text-align: right;\">\n",
       "      <th></th>\n",
       "      <th>make</th>\n",
       "      <th>model</th>\n",
       "      <th>year</th>\n",
       "      <th>engine_fuel_type</th>\n",
       "      <th>engine_hp</th>\n",
       "      <th>engine_cylinders</th>\n",
       "      <th>transmission_type</th>\n",
       "      <th>driven_wheels</th>\n",
       "      <th>number_of_doors</th>\n",
       "      <th>market_category</th>\n",
       "      <th>vehicle_size</th>\n",
       "      <th>vehicle_style</th>\n",
       "      <th>highway_mpg</th>\n",
       "      <th>city_mpg</th>\n",
       "      <th>popularity</th>\n",
       "    </tr>\n",
       "  </thead>\n",
       "  <tbody>\n",
       "    <tr>\n",
       "      <th>2735</th>\n",
       "      <td>chevrolet</td>\n",
       "      <td>cobalt</td>\n",
       "      <td>2008</td>\n",
       "      <td>regular_unleaded</td>\n",
       "      <td>148.0</td>\n",
       "      <td>4.0</td>\n",
       "      <td>manual</td>\n",
       "      <td>front_wheel_drive</td>\n",
       "      <td>2.0</td>\n",
       "      <td>NaN</td>\n",
       "      <td>compact</td>\n",
       "      <td>coupe</td>\n",
       "      <td>33</td>\n",
       "      <td>24</td>\n",
       "      <td>1385</td>\n",
       "    </tr>\n",
       "    <tr>\n",
       "      <th>6720</th>\n",
       "      <td>toyota</td>\n",
       "      <td>matrix</td>\n",
       "      <td>2012</td>\n",
       "      <td>regular_unleaded</td>\n",
       "      <td>132.0</td>\n",
       "      <td>4.0</td>\n",
       "      <td>automatic</td>\n",
       "      <td>front_wheel_drive</td>\n",
       "      <td>4.0</td>\n",
       "      <td>hatchback</td>\n",
       "      <td>compact</td>\n",
       "      <td>4dr_hatchback</td>\n",
       "      <td>32</td>\n",
       "      <td>25</td>\n",
       "      <td>2031</td>\n",
       "    </tr>\n",
       "    <tr>\n",
       "      <th>5878</th>\n",
       "      <td>subaru</td>\n",
       "      <td>impreza</td>\n",
       "      <td>2016</td>\n",
       "      <td>regular_unleaded</td>\n",
       "      <td>148.0</td>\n",
       "      <td>4.0</td>\n",
       "      <td>automatic</td>\n",
       "      <td>all_wheel_drive</td>\n",
       "      <td>4.0</td>\n",
       "      <td>hatchback</td>\n",
       "      <td>compact</td>\n",
       "      <td>4dr_hatchback</td>\n",
       "      <td>37</td>\n",
       "      <td>28</td>\n",
       "      <td>640</td>\n",
       "    </tr>\n",
       "    <tr>\n",
       "      <th>11190</th>\n",
       "      <td>volkswagen</td>\n",
       "      <td>vanagon</td>\n",
       "      <td>1991</td>\n",
       "      <td>regular_unleaded</td>\n",
       "      <td>90.0</td>\n",
       "      <td>4.0</td>\n",
       "      <td>manual</td>\n",
       "      <td>rear_wheel_drive</td>\n",
       "      <td>3.0</td>\n",
       "      <td>NaN</td>\n",
       "      <td>large</td>\n",
       "      <td>passenger_minivan</td>\n",
       "      <td>18</td>\n",
       "      <td>16</td>\n",
       "      <td>873</td>\n",
       "    </tr>\n",
       "    <tr>\n",
       "      <th>4554</th>\n",
       "      <td>ford</td>\n",
       "      <td>f-150</td>\n",
       "      <td>2017</td>\n",
       "      <td>flex-fuel_(unleaded/e85)</td>\n",
       "      <td>385.0</td>\n",
       "      <td>8.0</td>\n",
       "      <td>automatic</td>\n",
       "      <td>four_wheel_drive</td>\n",
       "      <td>4.0</td>\n",
       "      <td>flex_fuel</td>\n",
       "      <td>large</td>\n",
       "      <td>crew_cab_pickup</td>\n",
       "      <td>21</td>\n",
       "      <td>15</td>\n",
       "      <td>5657</td>\n",
       "    </tr>\n",
       "    <tr>\n",
       "      <th>...</th>\n",
       "      <td>...</td>\n",
       "      <td>...</td>\n",
       "      <td>...</td>\n",
       "      <td>...</td>\n",
       "      <td>...</td>\n",
       "      <td>...</td>\n",
       "      <td>...</td>\n",
       "      <td>...</td>\n",
       "      <td>...</td>\n",
       "      <td>...</td>\n",
       "      <td>...</td>\n",
       "      <td>...</td>\n",
       "      <td>...</td>\n",
       "      <td>...</td>\n",
       "      <td>...</td>\n",
       "    </tr>\n",
       "    <tr>\n",
       "      <th>434</th>\n",
       "      <td>bmw</td>\n",
       "      <td>4_series</td>\n",
       "      <td>2015</td>\n",
       "      <td>premium_unleaded_(required)</td>\n",
       "      <td>300.0</td>\n",
       "      <td>6.0</td>\n",
       "      <td>automatic</td>\n",
       "      <td>rear_wheel_drive</td>\n",
       "      <td>2.0</td>\n",
       "      <td>luxury,performance</td>\n",
       "      <td>midsize</td>\n",
       "      <td>convertible</td>\n",
       "      <td>31</td>\n",
       "      <td>20</td>\n",
       "      <td>3916</td>\n",
       "    </tr>\n",
       "    <tr>\n",
       "      <th>1902</th>\n",
       "      <td>volkswagen</td>\n",
       "      <td>beetle</td>\n",
       "      <td>2015</td>\n",
       "      <td>premium_unleaded_(recommended)</td>\n",
       "      <td>210.0</td>\n",
       "      <td>4.0</td>\n",
       "      <td>automated_manual</td>\n",
       "      <td>front_wheel_drive</td>\n",
       "      <td>2.0</td>\n",
       "      <td>hatchback,performance</td>\n",
       "      <td>compact</td>\n",
       "      <td>2dr_hatchback</td>\n",
       "      <td>30</td>\n",
       "      <td>24</td>\n",
       "      <td>873</td>\n",
       "    </tr>\n",
       "    <tr>\n",
       "      <th>9334</th>\n",
       "      <td>gmc</td>\n",
       "      <td>sierra_1500</td>\n",
       "      <td>2015</td>\n",
       "      <td>flex-fuel_(unleaded/e85)</td>\n",
       "      <td>285.0</td>\n",
       "      <td>6.0</td>\n",
       "      <td>automatic</td>\n",
       "      <td>four_wheel_drive</td>\n",
       "      <td>4.0</td>\n",
       "      <td>flex_fuel</td>\n",
       "      <td>large</td>\n",
       "      <td>extended_cab_pickup</td>\n",
       "      <td>22</td>\n",
       "      <td>17</td>\n",
       "      <td>549</td>\n",
       "    </tr>\n",
       "    <tr>\n",
       "      <th>5284</th>\n",
       "      <td>rolls-royce</td>\n",
       "      <td>ghost</td>\n",
       "      <td>2014</td>\n",
       "      <td>premium_unleaded_(required)</td>\n",
       "      <td>563.0</td>\n",
       "      <td>12.0</td>\n",
       "      <td>automatic</td>\n",
       "      <td>rear_wheel_drive</td>\n",
       "      <td>4.0</td>\n",
       "      <td>exotic,luxury,performance</td>\n",
       "      <td>large</td>\n",
       "      <td>sedan</td>\n",
       "      <td>21</td>\n",
       "      <td>13</td>\n",
       "      <td>86</td>\n",
       "    </tr>\n",
       "    <tr>\n",
       "      <th>2420</th>\n",
       "      <td>volkswagen</td>\n",
       "      <td>cc</td>\n",
       "      <td>2017</td>\n",
       "      <td>premium_unleaded_(recommended)</td>\n",
       "      <td>200.0</td>\n",
       "      <td>4.0</td>\n",
       "      <td>automated_manual</td>\n",
       "      <td>front_wheel_drive</td>\n",
       "      <td>4.0</td>\n",
       "      <td>performance</td>\n",
       "      <td>midsize</td>\n",
       "      <td>sedan</td>\n",
       "      <td>31</td>\n",
       "      <td>22</td>\n",
       "      <td>873</td>\n",
       "    </tr>\n",
       "  </tbody>\n",
       "</table>\n",
       "<p>7150 rows × 15 columns</p>\n",
       "</div>"
      ],
      "text/plain": [
       "              make        model  year                engine_fuel_type  \\\n",
       "2735     chevrolet       cobalt  2008                regular_unleaded   \n",
       "6720        toyota       matrix  2012                regular_unleaded   \n",
       "5878        subaru      impreza  2016                regular_unleaded   \n",
       "11190   volkswagen      vanagon  1991                regular_unleaded   \n",
       "4554          ford        f-150  2017        flex-fuel_(unleaded/e85)   \n",
       "...            ...          ...   ...                             ...   \n",
       "434            bmw     4_series  2015     premium_unleaded_(required)   \n",
       "1902    volkswagen       beetle  2015  premium_unleaded_(recommended)   \n",
       "9334           gmc  sierra_1500  2015        flex-fuel_(unleaded/e85)   \n",
       "5284   rolls-royce        ghost  2014     premium_unleaded_(required)   \n",
       "2420    volkswagen           cc  2017  premium_unleaded_(recommended)   \n",
       "\n",
       "       engine_hp  engine_cylinders transmission_type      driven_wheels  \\\n",
       "2735       148.0               4.0            manual  front_wheel_drive   \n",
       "6720       132.0               4.0         automatic  front_wheel_drive   \n",
       "5878       148.0               4.0         automatic    all_wheel_drive   \n",
       "11190       90.0               4.0            manual   rear_wheel_drive   \n",
       "4554       385.0               8.0         automatic   four_wheel_drive   \n",
       "...          ...               ...               ...                ...   \n",
       "434        300.0               6.0         automatic   rear_wheel_drive   \n",
       "1902       210.0               4.0  automated_manual  front_wheel_drive   \n",
       "9334       285.0               6.0         automatic   four_wheel_drive   \n",
       "5284       563.0              12.0         automatic   rear_wheel_drive   \n",
       "2420       200.0               4.0  automated_manual  front_wheel_drive   \n",
       "\n",
       "       number_of_doors            market_category vehicle_size  \\\n",
       "2735               2.0                        NaN      compact   \n",
       "6720               4.0                  hatchback      compact   \n",
       "5878               4.0                  hatchback      compact   \n",
       "11190              3.0                        NaN        large   \n",
       "4554               4.0                  flex_fuel        large   \n",
       "...                ...                        ...          ...   \n",
       "434                2.0         luxury,performance      midsize   \n",
       "1902               2.0      hatchback,performance      compact   \n",
       "9334               4.0                  flex_fuel        large   \n",
       "5284               4.0  exotic,luxury,performance        large   \n",
       "2420               4.0                performance      midsize   \n",
       "\n",
       "             vehicle_style  highway_mpg  city_mpg  popularity  \n",
       "2735                 coupe           33        24        1385  \n",
       "6720         4dr_hatchback           32        25        2031  \n",
       "5878         4dr_hatchback           37        28         640  \n",
       "11190    passenger_minivan           18        16         873  \n",
       "4554       crew_cab_pickup           21        15        5657  \n",
       "...                    ...          ...       ...         ...  \n",
       "434            convertible           31        20        3916  \n",
       "1902         2dr_hatchback           30        24         873  \n",
       "9334   extended_cab_pickup           22        17         549  \n",
       "5284                 sedan           21        13          86  \n",
       "2420                 sedan           31        22         873  \n",
       "\n",
       "[7150 rows x 15 columns]"
      ]
     },
     "execution_count": 24,
     "metadata": {},
     "output_type": "execute_result"
    }
   ],
   "source": [
    "df_train"
   ]
  },
  {
   "cell_type": "markdown",
   "id": "ced3f955",
   "metadata": {
    "papermill": {
     "duration": 0.022324,
     "end_time": "2025-05-12T14:58:35.901111",
     "exception": false,
     "start_time": "2025-05-12T14:58:35.878787",
     "status": "completed"
    },
    "tags": []
   },
   "source": [
    ">Save both the original MSRP values and log-transformed targets for training and evaluation.\n",
    "---\n",
    "> Remove the target column (`msrp`) from the feature sets.\n"
   ]
  },
  {
   "cell_type": "code",
   "execution_count": 25,
   "id": "6930f257",
   "metadata": {
    "papermill": {
     "duration": 0.03184,
     "end_time": "2025-05-12T14:58:35.955539",
     "exception": false,
     "start_time": "2025-05-12T14:58:35.923699",
     "status": "completed"
    },
    "tags": []
   },
   "outputs": [
    {
     "data": {
      "text/plain": [
       "make                                 rolls-royce\n",
       "model                     phantom_drophead_coupe\n",
       "year                                        2015\n",
       "engine_fuel_type     premium_unleaded_(required)\n",
       "engine_hp                                  453.0\n",
       "engine_cylinders                            12.0\n",
       "transmission_type                      automatic\n",
       "driven_wheels                   rear_wheel_drive\n",
       "number_of_doors                              2.0\n",
       "market_category        exotic,luxury,performance\n",
       "vehicle_size                               large\n",
       "vehicle_style                        convertible\n",
       "highway_mpg                                   19\n",
       "city_mpg                                      11\n",
       "popularity                                    86\n",
       "Name: 7557, dtype: object"
      ]
     },
     "execution_count": 25,
     "metadata": {},
     "output_type": "execute_result"
    }
   ],
   "source": [
    "df_train.iloc[10]"
   ]
  },
  {
   "cell_type": "markdown",
   "id": "892e5164",
   "metadata": {
    "papermill": {
     "duration": 0.022897,
     "end_time": "2025-05-12T14:58:36.001827",
     "exception": false,
     "start_time": "2025-05-12T14:58:35.978930",
     "status": "completed"
    },
    "tags": []
   },
   "source": [
    "\n",
    "##  Linear Regression — Closed-form Solution\n",
    "\n",
    "We aim to find the weights $w$ that best fit the linear model:\n",
    "\n",
    "$$\n",
    "g(X) = X \\cdot w = y\n",
    "$$\n",
    "\n",
    "To solve for $w$, we use the **Normal Equation**:\n",
    "\n",
    "$$\n",
    "X^T X w = X^T y\n",
    "$$\n",
    "\n",
    "Assuming $X^T X$ is invertible, we multiply both sides by $(X^T X)^{-1}$:\n",
    "\n",
    "$$\n",
    "w = (X^T X)^{-1} X^T y\n",
    "$$\n",
    "\n",
    "This is the **closed-form solution** to linear regression.\n",
    "\n",
    "\n",
    "\n",
    "\n",
    "##  Summary\n",
    "\n",
    "The correct and compact formula for computing the optimal weights $w$ in linear regression is:\n",
    "\n",
    "$$\n",
    "\\boxed{w = (X^T X)^{-1} X^T y}\n",
    "$$\n",
    "\n",
    "This formula assumes that the features matrix $X$ includes a bias column (usually all ones), and that $X^T X$ is invertible.\n",
    "\n"
   ]
  },
  {
   "cell_type": "code",
   "execution_count": 26,
   "id": "b5e35011",
   "metadata": {
    "papermill": {
     "duration": 0.031027,
     "end_time": "2025-05-12T14:58:36.055929",
     "exception": false,
     "start_time": "2025-05-12T14:58:36.024902",
     "status": "completed"
    },
    "tags": []
   },
   "outputs": [],
   "source": [
    "def train_linear_regression(X, y):\n",
    "    ones = np.ones(X.shape[0])\n",
    "    X = np.column_stack([ones, X])\n",
    "\n",
    "    XTX = X.T.dot(X)\n",
    "    XTX_inv = np.linalg.inv(XTX)\n",
    "    w = XTX_inv.dot(X.T).dot(y)\n",
    "    \n",
    "    return w[0], w[1:]"
   ]
  },
  {
   "cell_type": "markdown",
   "id": "c8c1c7a7",
   "metadata": {
    "papermill": {
     "duration": 0.023599,
     "end_time": "2025-05-12T14:58:36.103877",
     "exception": false,
     "start_time": "2025-05-12T14:58:36.080278",
     "status": "completed"
    },
    "tags": []
   },
   "source": [
    ">This function implements the closed-form solution of linear regression using the **normal equation**:\n",
    "$$\n",
    "w = (X^T X)^{-1} X^T y\n",
    "$$\n",
    "It returns the bias term (`w₀`) and the weights (`w`).\n"
   ]
  },
  {
   "cell_type": "markdown",
   "id": "5263e5d2",
   "metadata": {
    "papermill": {
     "duration": 0.023488,
     "end_time": "2025-05-12T14:58:36.151204",
     "exception": false,
     "start_time": "2025-05-12T14:58:36.127716",
     "status": "completed"
    },
    "tags": []
   },
   "source": [
    "##  Baseline Model\n",
    "\n",
    "We begin with a basic set of numerical features:\n",
    "\n",
    "* `engine_hp`, `engine_cylinders`, `highway_mpg`, `city_mpg`, `popularity`\n",
    "\n",
    "Missing values are filled with zero. We evaluate model performance using RMSE."
   ]
  },
  {
   "cell_type": "code",
   "execution_count": 27,
   "id": "c9404d00",
   "metadata": {
    "papermill": {
     "duration": 0.038207,
     "end_time": "2025-05-12T14:58:36.213343",
     "exception": false,
     "start_time": "2025-05-12T14:58:36.175136",
     "status": "completed"
    },
    "tags": []
   },
   "outputs": [
    {
     "data": {
      "text/html": [
       "<div>\n",
       "<style scoped>\n",
       "    .dataframe tbody tr th:only-of-type {\n",
       "        vertical-align: middle;\n",
       "    }\n",
       "\n",
       "    .dataframe tbody tr th {\n",
       "        vertical-align: top;\n",
       "    }\n",
       "\n",
       "    .dataframe thead th {\n",
       "        text-align: right;\n",
       "    }\n",
       "</style>\n",
       "<table border=\"1\" class=\"dataframe\">\n",
       "  <thead>\n",
       "    <tr style=\"text-align: right;\">\n",
       "      <th></th>\n",
       "      <th>engine_hp</th>\n",
       "      <th>engine_cylinders</th>\n",
       "      <th>highway_mpg</th>\n",
       "      <th>city_mpg</th>\n",
       "      <th>popularity</th>\n",
       "    </tr>\n",
       "  </thead>\n",
       "  <tbody>\n",
       "    <tr>\n",
       "      <th>2735</th>\n",
       "      <td>148.0</td>\n",
       "      <td>4.0</td>\n",
       "      <td>33</td>\n",
       "      <td>24</td>\n",
       "      <td>1385</td>\n",
       "    </tr>\n",
       "    <tr>\n",
       "      <th>6720</th>\n",
       "      <td>132.0</td>\n",
       "      <td>4.0</td>\n",
       "      <td>32</td>\n",
       "      <td>25</td>\n",
       "      <td>2031</td>\n",
       "    </tr>\n",
       "    <tr>\n",
       "      <th>5878</th>\n",
       "      <td>148.0</td>\n",
       "      <td>4.0</td>\n",
       "      <td>37</td>\n",
       "      <td>28</td>\n",
       "      <td>640</td>\n",
       "    </tr>\n",
       "    <tr>\n",
       "      <th>11190</th>\n",
       "      <td>90.0</td>\n",
       "      <td>4.0</td>\n",
       "      <td>18</td>\n",
       "      <td>16</td>\n",
       "      <td>873</td>\n",
       "    </tr>\n",
       "    <tr>\n",
       "      <th>4554</th>\n",
       "      <td>385.0</td>\n",
       "      <td>8.0</td>\n",
       "      <td>21</td>\n",
       "      <td>15</td>\n",
       "      <td>5657</td>\n",
       "    </tr>\n",
       "    <tr>\n",
       "      <th>...</th>\n",
       "      <td>...</td>\n",
       "      <td>...</td>\n",
       "      <td>...</td>\n",
       "      <td>...</td>\n",
       "      <td>...</td>\n",
       "    </tr>\n",
       "    <tr>\n",
       "      <th>434</th>\n",
       "      <td>300.0</td>\n",
       "      <td>6.0</td>\n",
       "      <td>31</td>\n",
       "      <td>20</td>\n",
       "      <td>3916</td>\n",
       "    </tr>\n",
       "    <tr>\n",
       "      <th>1902</th>\n",
       "      <td>210.0</td>\n",
       "      <td>4.0</td>\n",
       "      <td>30</td>\n",
       "      <td>24</td>\n",
       "      <td>873</td>\n",
       "    </tr>\n",
       "    <tr>\n",
       "      <th>9334</th>\n",
       "      <td>285.0</td>\n",
       "      <td>6.0</td>\n",
       "      <td>22</td>\n",
       "      <td>17</td>\n",
       "      <td>549</td>\n",
       "    </tr>\n",
       "    <tr>\n",
       "      <th>5284</th>\n",
       "      <td>563.0</td>\n",
       "      <td>12.0</td>\n",
       "      <td>21</td>\n",
       "      <td>13</td>\n",
       "      <td>86</td>\n",
       "    </tr>\n",
       "    <tr>\n",
       "      <th>2420</th>\n",
       "      <td>200.0</td>\n",
       "      <td>4.0</td>\n",
       "      <td>31</td>\n",
       "      <td>22</td>\n",
       "      <td>873</td>\n",
       "    </tr>\n",
       "  </tbody>\n",
       "</table>\n",
       "<p>7150 rows × 5 columns</p>\n",
       "</div>"
      ],
      "text/plain": [
       "       engine_hp  engine_cylinders  highway_mpg  city_mpg  popularity\n",
       "2735       148.0               4.0           33        24        1385\n",
       "6720       132.0               4.0           32        25        2031\n",
       "5878       148.0               4.0           37        28         640\n",
       "11190       90.0               4.0           18        16         873\n",
       "4554       385.0               8.0           21        15        5657\n",
       "...          ...               ...          ...       ...         ...\n",
       "434        300.0               6.0           31        20        3916\n",
       "1902       210.0               4.0           30        24         873\n",
       "9334       285.0               6.0           22        17         549\n",
       "5284       563.0              12.0           21        13          86\n",
       "2420       200.0               4.0           31        22         873\n",
       "\n",
       "[7150 rows x 5 columns]"
      ]
     },
     "execution_count": 27,
     "metadata": {},
     "output_type": "execute_result"
    }
   ],
   "source": [
    "base = ['engine_hp', 'engine_cylinders', 'highway_mpg', 'city_mpg', 'popularity']\n",
    "df_train[base]"
   ]
  },
  {
   "cell_type": "code",
   "execution_count": 28,
   "id": "4f556b8a",
   "metadata": {
    "papermill": {
     "duration": 0.030636,
     "end_time": "2025-05-12T14:58:36.268269",
     "exception": false,
     "start_time": "2025-05-12T14:58:36.237633",
     "status": "completed"
    },
    "tags": []
   },
   "outputs": [],
   "source": [
    "def prepare_X(df):\n",
    "    df_num = df[base]\n",
    "    df_num = df_num.fillna(0)\n",
    "    X = df_num.values\n",
    "    return X"
   ]
  },
  {
   "cell_type": "markdown",
   "id": "8c4fda19",
   "metadata": {
    "papermill": {
     "duration": 0.023467,
     "end_time": "2025-05-12T14:58:36.315728",
     "exception": false,
     "start_time": "2025-05-12T14:58:36.292261",
     "status": "completed"
    },
    "tags": []
   },
   "source": [
    ">* Fill missing values with zero and convert selected columns to a NumPy array.\n"
   ]
  },
  {
   "cell_type": "markdown",
   "id": "eeaf9f86",
   "metadata": {
    "papermill": {
     "duration": 0.022984,
     "end_time": "2025-05-12T14:58:36.361916",
     "exception": false,
     "start_time": "2025-05-12T14:58:36.338932",
     "status": "completed"
    },
    "tags": []
   },
   "source": [
    "##  Predictions and Evaluation"
   ]
  },
  {
   "cell_type": "code",
   "execution_count": 29,
   "id": "0d475c55",
   "metadata": {
    "papermill": {
     "duration": 0.038068,
     "end_time": "2025-05-12T14:58:36.424751",
     "exception": false,
     "start_time": "2025-05-12T14:58:36.386683",
     "status": "completed"
    },
    "tags": []
   },
   "outputs": [],
   "source": [
    "X_train = prepare_X(df_train)\n",
    "w_0, w = train_linear_regression(X_train, y_train)\n",
    "y_pred = w_0 + X_train.dot(w)"
   ]
  },
  {
   "cell_type": "code",
   "execution_count": 30,
   "id": "192b2601",
   "metadata": {
    "papermill": {
     "duration": 0.375955,
     "end_time": "2025-05-12T14:58:36.824779",
     "exception": false,
     "start_time": "2025-05-12T14:58:36.448824",
     "status": "completed"
    },
    "tags": []
   },
   "outputs": [
    {
     "data": {
      "image/png": "[encoded data removed]",
      "text/plain": [
       "<Figure size 600x400 with 1 Axes>"
      ]
     },
     "metadata": {},
     "output_type": "display_data"
    }
   ],
   "source": [
    "plt.figure(figsize=(6, 4))\n",
    "\n",
    "sns.histplot(y_train, label='target', color='green', alpha=0.4, bins=40)\n",
    "sns.histplot(y_pred, label='prediction', color='blue', alpha=0.2, bins=40)\n",
    "\n",
    "plt.legend()\n",
    "\n",
    "plt.ylabel('Frequency')\n",
    "plt.xlabel('Log(Price + 1)')\n",
    "plt.title('Predictions vs actual distribution')\n",
    "\n",
    "plt.show()"
   ]
  },
  {
   "cell_type": "markdown",
   "id": "4116b2fa",
   "metadata": {
    "papermill": {
     "duration": 0.0238,
     "end_time": "2025-05-12T14:58:36.872949",
     "exception": false,
     "start_time": "2025-05-12T14:58:36.849149",
     "status": "completed"
    },
    "tags": []
   },
   "source": [
    "# Root Mean Squared Error (RMSE)\n",
    "---\n",
    "\n",
    "\n",
    "###  RMSE Definition:\n",
    "\n",
    "$$\n",
    "\\text{RMSE} = \\sqrt{ \\frac{1}{m} \\sum_{i=1}^{m} \\left( g(x_i) - y_i \\right)^2 }\n",
    "$$\n",
    "\n",
    "---\n",
    "\n",
    "###  Explanation:\n",
    "\n",
    "* **$m$**: Number of data points.\n",
    "* **$g(x_i)$**: The **model’s prediction** for the input $x_i$.\n",
    "* **$y_i$**: The **actual (true)** value.\n",
    "* **$g(x_i) - y_i$**: The error for the i-th prediction.\n",
    "* **$\\left( g(x_i) - y_i \\right)^2$**: Squared error for the i-th data point.\n",
    "* **$\\sum_{i=1}^{m}$**: Sum over all training examples.\n",
    "* **$\\frac{1}{m}$**: Mean of the squared errors.\n",
    "* **$\\sqrt{}$**: Taking the square root to bring the error back to original units.\n",
    "\n",
    "---\n",
    "\n",
    "###  Summary :\n",
    "\n",
    "> **RMSE measures the average magnitude of the prediction errors — it penalizes large errors more than small ones due to the squaring.**\n",
    "\n"
   ]
  },
  {
   "cell_type": "code",
   "execution_count": 31,
   "id": "c01eb6c1",
   "metadata": {
    "papermill": {
     "duration": 0.031563,
     "end_time": "2025-05-12T14:58:36.928246",
     "exception": false,
     "start_time": "2025-05-12T14:58:36.896683",
     "status": "completed"
    },
    "tags": []
   },
   "outputs": [],
   "source": [
    "def rmse(y, y_pred):\n",
    "    error = y_pred - y\n",
    "    mse = (error ** 2).mean()\n",
    "    return np.sqrt(mse)"
   ]
  },
  {
   "cell_type": "markdown",
   "id": "81991904",
   "metadata": {
    "papermill": {
     "duration": 0.023891,
     "end_time": "2025-05-12T14:58:36.977403",
     "exception": false,
     "start_time": "2025-05-12T14:58:36.953512",
     "status": "completed"
    },
    "tags": []
   },
   "source": [
    "We use **Root Mean Squared Error (RMSE)** to evaluate model performance.\n"
   ]
  },
  {
   "cell_type": "code",
   "execution_count": 32,
   "id": "8f8da118",
   "metadata": {
    "papermill": {
     "duration": 0.032951,
     "end_time": "2025-05-12T14:58:37.034377",
     "exception": false,
     "start_time": "2025-05-12T14:58:37.001426",
     "status": "completed"
    },
    "tags": []
   },
   "outputs": [
    {
     "data": {
      "text/plain": [
       "np.float64(0.7554192603920132)"
      ]
     },
     "execution_count": 32,
     "metadata": {},
     "output_type": "execute_result"
    }
   ],
   "source": [
    "rmse(y_train, y_pred)"
   ]
  },
  {
   "cell_type": "markdown",
   "id": "65b29de9",
   "metadata": {
    "papermill": {
     "duration": 0.024019,
     "end_time": "2025-05-12T14:58:37.082750",
     "exception": false,
     "start_time": "2025-05-12T14:58:37.058731",
     "status": "completed"
    },
    "tags": []
   },
   "source": [
    "##  Validation"
   ]
  },
  {
   "cell_type": "code",
   "execution_count": 33,
   "id": "425cfeb6",
   "metadata": {
    "papermill": {
     "duration": 0.034678,
     "end_time": "2025-05-12T14:58:37.141274",
     "exception": false,
     "start_time": "2025-05-12T14:58:37.106596",
     "status": "completed"
    },
    "tags": []
   },
   "outputs": [
    {
     "data": {
      "text/plain": [
       "np.float64(0.761653099130156)"
      ]
     },
     "execution_count": 33,
     "metadata": {},
     "output_type": "execute_result"
    }
   ],
   "source": [
    "X_val = prepare_X(df_val)\n",
    "y_pred = w_0 + X_val.dot(w)\n",
    "rmse(y_val, y_pred)"
   ]
  },
  {
   "cell_type": "markdown",
   "id": "6b96b9f3",
   "metadata": {
    "papermill": {
     "duration": 0.024042,
     "end_time": "2025-05-12T14:58:37.190515",
     "exception": false,
     "start_time": "2025-05-12T14:58:37.166473",
     "status": "completed"
    },
    "tags": []
   },
   "source": [
    ">Initial validation shows some room for improvement.\n"
   ]
  },
  {
   "cell_type": "markdown",
   "id": "25bf1f07",
   "metadata": {
    "papermill": {
     "duration": 0.023721,
     "end_time": "2025-05-12T14:58:37.239636",
     "exception": false,
     "start_time": "2025-05-12T14:58:37.215915",
     "status": "completed"
    },
    "tags": []
   },
   "source": [
    "##  Feature Engineering\n",
    "\n",
    "We add:\n",
    "\n",
    "* **Age** of the car: `2017 - year`\n",
    "* One-hot encodings for:\n",
    "\n",
    "  * Door counts (2, 3, 4)\n",
    "  * Car make (top 45 brands)\n",
    "  * Fuel type (top 6)\n",
    "  * Transmission type\n",
    "  * Market category (top 15)\n",
    "  * Vehicle style (top 13)\n",
    "\n",
    "Each is encoded as binary features (`is_*`)."
   ]
  },
  {
   "cell_type": "markdown",
   "id": "7d09eda2",
   "metadata": {
    "papermill": {
     "duration": 0.023918,
     "end_time": "2025-05-12T14:58:37.287759",
     "exception": false,
     "start_time": "2025-05-12T14:58:37.263841",
     "status": "completed"
    },
    "tags": []
   },
   "source": [
    "## 1-  feature engineering (Adding Age)"
   ]
  },
  {
   "cell_type": "code",
   "execution_count": 34,
   "id": "6469a627",
   "metadata": {
    "papermill": {
     "duration": 0.033762,
     "end_time": "2025-05-12T14:58:37.348444",
     "exception": false,
     "start_time": "2025-05-12T14:58:37.314682",
     "status": "completed"
    },
    "tags": []
   },
   "outputs": [],
   "source": [
    "def prepare_X(df):\n",
    "    df = df.copy()\n",
    "    features = base.copy()\n",
    "\n",
    "    df['age'] = 2017 - df.year\n",
    "    features.append('age')\n",
    "\n",
    "    df_num = df[features]\n",
    "    df_num = df_num.fillna(0)\n",
    "    X = df_num.values\n",
    "    return X"
   ]
  },
  {
   "cell_type": "code",
   "execution_count": 35,
   "id": "831ba750",
   "metadata": {
    "papermill": {
     "duration": 0.043388,
     "end_time": "2025-05-12T14:58:37.418097",
     "exception": false,
     "start_time": "2025-05-12T14:58:37.374709",
     "status": "completed"
    },
    "tags": []
   },
   "outputs": [
    {
     "name": "stdout",
     "output_type": "stream",
     "text": [
      "train 0.5175055465840046\n",
      "validation 0.5172055461058299\n"
     ]
    }
   ],
   "source": [
    "X_train = prepare_X(df_train)\n",
    "w_0, w = train_linear_regression(X_train, y_train)\n",
    "\n",
    "y_pred = w_0 + X_train.dot(w)\n",
    "print('train', rmse(y_train, y_pred))\n",
    "\n",
    "X_val = prepare_X(df_val)\n",
    "y_pred = w_0 + X_val.dot(w)\n",
    "print('validation', rmse(y_val, y_pred))"
   ]
  },
  {
   "cell_type": "markdown",
   "id": "0bca0f9f",
   "metadata": {
    "papermill": {
     "duration": 0.024567,
     "end_time": "2025-05-12T14:58:37.468433",
     "exception": false,
     "start_time": "2025-05-12T14:58:37.443866",
     "status": "completed"
    },
    "tags": []
   },
   "source": [
    ">We observed an improvement in the Root Mean Square Error (RMSE)."
   ]
  },
  {
   "cell_type": "code",
   "execution_count": 36,
   "id": "2c4ac2d2",
   "metadata": {
    "papermill": {
     "duration": 0.351801,
     "end_time": "2025-05-12T14:58:37.844704",
     "exception": false,
     "start_time": "2025-05-12T14:58:37.492903",
     "status": "completed"
    },
    "tags": []
   },
   "outputs": [
    {
     "data": {
      "image/png": "[encoded data removed]",
      "text/plain": [
       "<Figure size 600x400 with 1 Axes>"
      ]
     },
     "metadata": {},
     "output_type": "display_data"
    }
   ],
   "source": [
    "plt.figure(figsize=(6, 4))\n",
    "\n",
    "\n",
    "sns.histplot(y_val, label='target', color='#222222', alpha=0.6, bins=40)\n",
    "sns.histplot(y_pred, label='prediction', color='#aaaaaa', alpha=0.8, bins=40)\n",
    "\n",
    "plt.legend()\n",
    "\n",
    "plt.ylabel('Frequency')\n",
    "plt.xlabel('Log(Price + 1)')\n",
    "plt.title('Predictions vs actual distribution')\n",
    "\n",
    "plt.show()"
   ]
  },
  {
   "cell_type": "markdown",
   "id": "447737ed",
   "metadata": {
    "papermill": {
     "duration": 0.028521,
     "end_time": "2025-05-12T14:58:37.898577",
     "exception": false,
     "start_time": "2025-05-12T14:58:37.870056",
     "status": "completed"
    },
    "tags": []
   },
   "source": [
    "# Categorical Variables "
   ]
  },
  {
   "cell_type": "code",
   "execution_count": 37,
   "id": "455c50d0",
   "metadata": {
    "papermill": {
     "duration": 0.037379,
     "end_time": "2025-05-12T14:58:37.962229",
     "exception": false,
     "start_time": "2025-05-12T14:58:37.924850",
     "status": "completed"
    },
    "tags": []
   },
   "outputs": [
    {
     "data": {
      "text/plain": [
       "make\n",
       "chevrolet        1123\n",
       "ford              881\n",
       "volkswagen        809\n",
       "toyota            746\n",
       "dodge             626\n",
       "nissan            558\n",
       "gmc               515\n",
       "honda             449\n",
       "mazda             423\n",
       "cadillac          397\n",
       "mercedes-benz     353\n",
       "suzuki            351\n",
       "bmw               334\n",
       "infiniti          330\n",
       "audi              328\n",
       "hyundai           303\n",
       "volvo             281\n",
       "subaru            256\n",
       "acura             252\n",
       "kia               231\n",
       "mitsubishi        213\n",
       "lexus             202\n",
       "buick             196\n",
       "chrysler          187\n",
       "pontiac           186\n",
       "lincoln           164\n",
       "oldsmobile        150\n",
       "land_rover        143\n",
       "porsche           136\n",
       "saab              111\n",
       "aston_martin       93\n",
       "plymouth           82\n",
       "bentley            74\n",
       "ferrari            69\n",
       "fiat               62\n",
       "scion              60\n",
       "maserati           58\n",
       "lamborghini        52\n",
       "rolls-royce        31\n",
       "lotus              29\n",
       "tesla              18\n",
       "hummer             17\n",
       "maybach            16\n",
       "alfa_romeo          5\n",
       "mclaren             5\n",
       "spyker              3\n",
       "genesis             3\n",
       "bugatti             3\n",
       "Name: count, dtype: int64"
      ]
     },
     "execution_count": 37,
     "metadata": {},
     "output_type": "execute_result"
    }
   ],
   "source": [
    "df['make'].value_counts()"
   ]
  },
  {
   "cell_type": "markdown",
   "id": "8c70bee3",
   "metadata": {
    "papermill": {
     "duration": 0.024709,
     "end_time": "2025-05-12T14:58:38.013038",
     "exception": false,
     "start_time": "2025-05-12T14:58:37.988329",
     "status": "completed"
    },
    "tags": []
   },
   "source": [
    "## 2-  feature engineering Car make (top 42 brands))"
   ]
  },
  {
   "cell_type": "code",
   "execution_count": 38,
   "id": "e1b2cd4b",
   "metadata": {
    "papermill": {
     "duration": 0.035308,
     "end_time": "2025-05-12T14:58:38.073519",
     "exception": false,
     "start_time": "2025-05-12T14:58:38.038211",
     "status": "completed"
    },
    "tags": []
   },
   "outputs": [
    {
     "data": {
      "text/plain": [
       "['chevrolet',\n",
       " 'ford',\n",
       " 'volkswagen',\n",
       " 'toyota',\n",
       " 'dodge',\n",
       " 'nissan',\n",
       " 'gmc',\n",
       " 'honda',\n",
       " 'mazda',\n",
       " 'cadillac',\n",
       " 'mercedes-benz',\n",
       " 'suzuki',\n",
       " 'bmw',\n",
       " 'infiniti',\n",
       " 'audi',\n",
       " 'hyundai',\n",
       " 'volvo',\n",
       " 'subaru',\n",
       " 'acura',\n",
       " 'kia',\n",
       " 'mitsubishi',\n",
       " 'lexus',\n",
       " 'buick',\n",
       " 'chrysler',\n",
       " 'pontiac',\n",
       " 'lincoln',\n",
       " 'oldsmobile',\n",
       " 'land_rover',\n",
       " 'porsche',\n",
       " 'saab',\n",
       " 'aston_martin',\n",
       " 'plymouth',\n",
       " 'bentley',\n",
       " 'ferrari',\n",
       " 'fiat',\n",
       " 'scion',\n",
       " 'maserati',\n",
       " 'lamborghini',\n",
       " 'rolls-royce',\n",
       " 'lotus',\n",
       " 'tesla',\n",
       " 'hummer']"
      ]
     },
     "execution_count": 38,
     "metadata": {},
     "output_type": "execute_result"
    }
   ],
   "source": [
    "make = list(df['make'].value_counts().index)[:-6]\n",
    "make"
   ]
  },
  {
   "cell_type": "code",
   "execution_count": 39,
   "id": "f83873cd",
   "metadata": {
    "papermill": {
     "duration": 0.033101,
     "end_time": "2025-05-12T14:58:38.132276",
     "exception": false,
     "start_time": "2025-05-12T14:58:38.099175",
     "status": "completed"
    },
    "tags": []
   },
   "outputs": [],
   "source": [
    "def prepare_X(df):\n",
    "    df = df.copy()\n",
    "    features = base.copy()\n",
    "\n",
    "    df['age'] = 2017 - df.year\n",
    "    features.append('age')\n",
    "\n",
    "    for v in make:\n",
    "        feature = 'is_make_%s' % v\n",
    "        df[feature] = (df['make'] == v).astype(int)\n",
    "        features.append(feature)\n",
    "    df_num = df[features]\n",
    "    df_num = df_num.fillna(0)\n",
    "    X = df_num.values\n",
    "    return X , features"
   ]
  },
  {
   "cell_type": "code",
   "execution_count": 40,
   "id": "0eb57761",
   "metadata": {
    "papermill": {
     "duration": 0.14404,
     "end_time": "2025-05-12T14:58:38.302142",
     "exception": false,
     "start_time": "2025-05-12T14:58:38.158102",
     "status": "completed"
    },
    "tags": []
   },
   "outputs": [
    {
     "name": "stdout",
     "output_type": "stream",
     "text": [
      "train: 0.4519674160571752\n",
      "validation: 0.45710602331400224\n"
     ]
    }
   ],
   "source": [
    "X_train ,features= prepare_X(df_train)\n",
    "w_0, w = train_linear_regression(X_train, y_train)\n",
    "\n",
    "y_pred = w_0 + X_train.dot(w)\n",
    "print('train:', rmse(y_train, y_pred))\n",
    "\n",
    "X_val ,features = prepare_X(df_val)\n",
    "y_pred = w_0 + X_val.dot(w)\n",
    "print('validation:', rmse(y_val, y_pred))\n",
    "\n"
   ]
  },
  {
   "cell_type": "markdown",
   "id": "2f9dcbc1",
   "metadata": {
    "papermill": {
     "duration": 0.025195,
     "end_time": "2025-05-12T14:58:38.352935",
     "exception": false,
     "start_time": "2025-05-12T14:58:38.327740",
     "status": "completed"
    },
    "tags": []
   },
   "source": [
    ">We observed an improvement in the Root Mean Square Error (RMSE)."
   ]
  },
  {
   "cell_type": "markdown",
   "id": "7ca53b76",
   "metadata": {
    "papermill": {
     "duration": 0.025126,
     "end_time": "2025-05-12T14:58:38.405112",
     "exception": false,
     "start_time": "2025-05-12T14:58:38.379986",
     "status": "completed"
    },
    "tags": []
   },
   "source": [
    "## 3-  feature engineering Door counts (2, 3, 4))"
   ]
  },
  {
   "cell_type": "code",
   "execution_count": 41,
   "id": "bdb0f336",
   "metadata": {
    "papermill": {
     "duration": 0.037101,
     "end_time": "2025-05-12T14:58:38.467653",
     "exception": false,
     "start_time": "2025-05-12T14:58:38.430552",
     "status": "completed"
    },
    "tags": []
   },
   "outputs": [
    {
     "data": {
      "text/plain": [
       "[4.0, 2.0, 3.0]"
      ]
     },
     "execution_count": 41,
     "metadata": {},
     "output_type": "execute_result"
    }
   ],
   "source": [
    "number_of_doors = list(df['number_of_doors'].value_counts().index)\n",
    "number_of_doors"
   ]
  },
  {
   "cell_type": "code",
   "execution_count": 42,
   "id": "c299a162",
   "metadata": {
    "papermill": {
     "duration": 0.035962,
     "end_time": "2025-05-12T14:58:38.530755",
     "exception": false,
     "start_time": "2025-05-12T14:58:38.494793",
     "status": "completed"
    },
    "tags": []
   },
   "outputs": [],
   "source": [
    "def prepare_X(df):\n",
    "    df = df.copy()\n",
    "    features = base.copy()\n",
    "\n",
    "    df['age'] = 2017 - df.year\n",
    "    features.append('age')\n",
    "\n",
    "    for v in [2, 3, 4]:\n",
    "        feature = 'num_doors_%s' % v\n",
    "        df[feature] = (df['number_of_doors'] == v).astype(int)\n",
    "        features.append(feature)\n",
    "#['chevrolet', 'ford', 'volkswagen', 'toyota', 'dodge']\n",
    "    for v in make:\n",
    "        feature = 'is_make_%s' % v\n",
    "        df[feature] = (df['make'] == v).astype(int)\n",
    "        features.append(feature)\n",
    "    df_num = df[features]\n",
    "    df_num = df_num.fillna(0)\n",
    "    X = df_num.values\n",
    "    return X , features"
   ]
  },
  {
   "cell_type": "code",
   "execution_count": 43,
   "id": "2420cf48",
   "metadata": {
    "papermill": {
     "duration": 0.136728,
     "end_time": "2025-05-12T14:58:38.693057",
     "exception": false,
     "start_time": "2025-05-12T14:58:38.556329",
     "status": "completed"
    },
    "tags": []
   },
   "outputs": [
    {
     "name": "stdout",
     "output_type": "stream",
     "text": [
      "train: 0.45093766471450475\n",
      "validation: 0.4563602430564519\n"
     ]
    }
   ],
   "source": [
    "X_train ,features= prepare_X(df_train)\n",
    "w_0, w = train_linear_regression(X_train, y_train)\n",
    "\n",
    "y_pred = w_0 + X_train.dot(w)\n",
    "print('train:', rmse(y_train, y_pred))\n",
    "\n",
    "X_val ,features = prepare_X(df_val)\n",
    "y_pred = w_0 + X_val.dot(w)\n",
    "print('validation:', rmse(y_val, y_pred))\n",
    "\n"
   ]
  },
  {
   "cell_type": "markdown",
   "id": "9beb5a4d",
   "metadata": {
    "papermill": {
     "duration": 0.025247,
     "end_time": "2025-05-12T14:58:38.744129",
     "exception": false,
     "start_time": "2025-05-12T14:58:38.718882",
     "status": "completed"
    },
    "tags": []
   },
   "source": [
    "## 4-  feature engineering Fuel type (top 6))"
   ]
  },
  {
   "cell_type": "code",
   "execution_count": 44,
   "id": "14477855",
   "metadata": {
    "papermill": {
     "duration": 0.036739,
     "end_time": "2025-05-12T14:58:38.806686",
     "exception": false,
     "start_time": "2025-05-12T14:58:38.769947",
     "status": "completed"
    },
    "tags": []
   },
   "outputs": [
    {
     "data": {
      "text/plain": [
       "engine_fuel_type\n",
       "regular_unleaded                                7172\n",
       "premium_unleaded_(required)                     2009\n",
       "premium_unleaded_(recommended)                  1523\n",
       "flex-fuel_(unleaded/e85)                         899\n",
       "diesel                                           154\n",
       "electric                                          66\n",
       "flex-fuel_(premium_unleaded_required/e85)         54\n",
       "flex-fuel_(premium_unleaded_recommended/e85)      26\n",
       "flex-fuel_(unleaded/natural_gas)                   6\n",
       "natural_gas                                        2\n",
       "Name: count, dtype: int64"
      ]
     },
     "execution_count": 44,
     "metadata": {},
     "output_type": "execute_result"
    }
   ],
   "source": [
    "df['engine_fuel_type'].value_counts()"
   ]
  },
  {
   "cell_type": "code",
   "execution_count": 45,
   "id": "52ba8aa9",
   "metadata": {
    "papermill": {
     "duration": 0.03662,
     "end_time": "2025-05-12T14:58:38.869472",
     "exception": false,
     "start_time": "2025-05-12T14:58:38.832852",
     "status": "completed"
    },
    "tags": []
   },
   "outputs": [
    {
     "data": {
      "text/plain": [
       "['regular_unleaded',\n",
       " 'premium_unleaded_(required)',\n",
       " 'premium_unleaded_(recommended)',\n",
       " 'flex-fuel_(unleaded/e85)',\n",
       " 'diesel',\n",
       " 'electric']"
      ]
     },
     "execution_count": 45,
     "metadata": {},
     "output_type": "execute_result"
    }
   ],
   "source": [
    "engine_fuel_type =list(df['engine_fuel_type'].value_counts().index)[:-4]\n",
    "engine_fuel_type\n",
    "\n"
   ]
  },
  {
   "cell_type": "code",
   "execution_count": 46,
   "id": "99f6fc00",
   "metadata": {
    "papermill": {
     "duration": 0.035427,
     "end_time": "2025-05-12T14:58:38.931086",
     "exception": false,
     "start_time": "2025-05-12T14:58:38.895659",
     "status": "completed"
    },
    "tags": []
   },
   "outputs": [],
   "source": [
    "def prepare_X(df):\n",
    "    df = df.copy()\n",
    "    features = base.copy()\n",
    "\n",
    "    df['age'] = 2017 - df.year\n",
    "    features.append('age')\n",
    "    \n",
    "    for v in [2, 3, 4]:\n",
    "        feature = 'num_doors_%s' % v\n",
    "        df[feature] = (df['number_of_doors'] == v).astype(int)\n",
    "        features.append(feature)\n",
    "\n",
    "    for v in make:\n",
    "        feature = 'is_make_%s' % v\n",
    "        df[feature] = (df['make'] == v).astype(int)\n",
    "        features.append(feature)\n",
    "\n",
    "    for v in engine_fuel_type:\n",
    "        feature = 'is_type_%s' % v\n",
    "        df[feature] = (df['engine_fuel_type'] == v).astype(int)\n",
    "        features.append(feature)\n",
    "        \n",
    "    df_num = df[features]\n",
    "    df_num = df_num.fillna(0)\n",
    "    X = df_num.values\n",
    "    return X , features"
   ]
  },
  {
   "cell_type": "code",
   "execution_count": 47,
   "id": "fbacb164",
   "metadata": {
    "papermill": {
     "duration": 0.152661,
     "end_time": "2025-05-12T14:58:39.110339",
     "exception": false,
     "start_time": "2025-05-12T14:58:38.957678",
     "status": "completed"
    },
    "tags": []
   },
   "outputs": [
    {
     "name": "stdout",
     "output_type": "stream",
     "text": [
      "train: 0.4357622804871244\n",
      "validation: 0.43668245218554314\n"
     ]
    }
   ],
   "source": [
    "X_train ,features= prepare_X(df_train)\n",
    "w_0, w = train_linear_regression(X_train, y_train)\n",
    "\n",
    "y_pred = w_0 + X_train.dot(w)\n",
    "print('train:', rmse(y_train, y_pred))\n",
    "\n",
    "X_val ,features = prepare_X(df_val)\n",
    "y_pred = w_0 + X_val.dot(w)\n",
    "print('validation:', rmse(y_val, y_pred))\n",
    "\n"
   ]
  },
  {
   "cell_type": "markdown",
   "id": "57728c4d",
   "metadata": {
    "papermill": {
     "duration": 0.025317,
     "end_time": "2025-05-12T14:58:39.162019",
     "exception": false,
     "start_time": "2025-05-12T14:58:39.136702",
     "status": "completed"
    },
    "tags": []
   },
   "source": [
    ">We observed an improvement in the Root Mean Square Error (RMSE)."
   ]
  },
  {
   "cell_type": "markdown",
   "id": "2fa14792",
   "metadata": {
    "papermill": {
     "duration": 0.025268,
     "end_time": "2025-05-12T14:58:39.212834",
     "exception": false,
     "start_time": "2025-05-12T14:58:39.187566",
     "status": "completed"
    },
    "tags": []
   },
   "source": [
    "## **5 -feature engineering Transmission type**"
   ]
  },
  {
   "cell_type": "code",
   "execution_count": 48,
   "id": "f1fdd5c1",
   "metadata": {
    "papermill": {
     "duration": 0.036263,
     "end_time": "2025-05-12T14:58:39.274415",
     "exception": false,
     "start_time": "2025-05-12T14:58:39.238152",
     "status": "completed"
    },
    "tags": []
   },
   "outputs": [
    {
     "data": {
      "text/plain": [
       "transmission_type\n",
       "automatic           8266\n",
       "manual              2935\n",
       "automated_manual     626\n",
       "direct_drive          68\n",
       "unknown               19\n",
       "Name: count, dtype: int64"
      ]
     },
     "execution_count": 48,
     "metadata": {},
     "output_type": "execute_result"
    }
   ],
   "source": [
    "df['transmission_type'].value_counts()"
   ]
  },
  {
   "cell_type": "code",
   "execution_count": 49,
   "id": "43e53718",
   "metadata": {
    "papermill": {
     "duration": 0.100683,
     "end_time": "2025-05-12T14:58:39.402046",
     "exception": false,
     "start_time": "2025-05-12T14:58:39.301363",
     "status": "completed"
    },
    "tags": []
   },
   "outputs": [
    {
     "data": {
      "text/plain": [
       "['automatic', 'manual', 'automated_manual', 'direct_drive']"
      ]
     },
     "execution_count": 49,
     "metadata": {},
     "output_type": "execute_result"
    }
   ],
   "source": [
    "transmission_type = list(df['transmission_type'].value_counts().index)[:-1]\n",
    "transmission_type"
   ]
  },
  {
   "cell_type": "code",
   "execution_count": 50,
   "id": "69cd470e",
   "metadata": {
    "papermill": {
     "duration": 0.036212,
     "end_time": "2025-05-12T14:58:39.464213",
     "exception": false,
     "start_time": "2025-05-12T14:58:39.428001",
     "status": "completed"
    },
    "tags": []
   },
   "outputs": [],
   "source": [
    "def prepare_X(df):\n",
    "    df = df.copy()\n",
    "    features = base.copy()\n",
    "\n",
    "    df['age'] = 2017 - df.year\n",
    "    features.append('age')\n",
    "    \n",
    "    for v in [2, 3, 4]:\n",
    "        feature = 'num_doors_%s' % v\n",
    "        df[feature] = (df['number_of_doors'] == v).astype(int)\n",
    "        features.append(feature)\n",
    "\n",
    "    for v in make:\n",
    "        feature = 'is_make_%s' % v\n",
    "        df[feature] = (df['make'] == v).astype(int)\n",
    "        features.append(feature)\n",
    "\n",
    "    for v in engine_fuel_type:\n",
    "        feature = 'is_type_%s' % v\n",
    "        df[feature] = (df['engine_fuel_type'] == v).astype(int)\n",
    "        features.append(feature)\n",
    "        \n",
    "    for v in transmission_type:\n",
    "        feature = 'is_transmission_%s' % v\n",
    "        df[feature] = (df['transmission_type'] == v).astype(int)\n",
    "        features.append(feature)\n",
    "        \n",
    "    df_num = df[features]\n",
    "    df_num = df_num.fillna(0)\n",
    "    X = df_num.values\n",
    "    return X , features"
   ]
  },
  {
   "cell_type": "code",
   "execution_count": 51,
   "id": "1053b148",
   "metadata": {
    "papermill": {
     "duration": 0.155848,
     "end_time": "2025-05-12T14:58:39.646330",
     "exception": false,
     "start_time": "2025-05-12T14:58:39.490482",
     "status": "completed"
    },
    "tags": []
   },
   "outputs": [
    {
     "name": "stdout",
     "output_type": "stream",
     "text": [
      "train: 0.42980697627107456\n",
      "validation: 0.43075397764121576\n"
     ]
    }
   ],
   "source": [
    "X_train ,features= prepare_X(df_train)\n",
    "w_0, w = train_linear_regression(X_train, y_train)\n",
    "\n",
    "y_pred = w_0 + X_train.dot(w)\n",
    "print('train:', rmse(y_train, y_pred))\n",
    "\n",
    "X_val ,features = prepare_X(df_val)\n",
    "y_pred = w_0 + X_val.dot(w)\n",
    "print('validation:', rmse(y_val, y_pred))\n",
    "\n"
   ]
  },
  {
   "cell_type": "markdown",
   "id": "4cc3563f",
   "metadata": {
    "papermill": {
     "duration": 0.025368,
     "end_time": "2025-05-12T14:58:39.697932",
     "exception": false,
     "start_time": "2025-05-12T14:58:39.672564",
     "status": "completed"
    },
    "tags": []
   },
   "source": [
    "## **6 -feature engineering driven wheels**"
   ]
  },
  {
   "cell_type": "code",
   "execution_count": 52,
   "id": "643d8f82",
   "metadata": {
    "papermill": {
     "duration": 0.037483,
     "end_time": "2025-05-12T14:58:39.761224",
     "exception": false,
     "start_time": "2025-05-12T14:58:39.723741",
     "status": "completed"
    },
    "tags": []
   },
   "outputs": [
    {
     "data": {
      "text/plain": [
       "driven_wheels\n",
       "front_wheel_drive    4787\n",
       "rear_wheel_drive     3371\n",
       "all_wheel_drive      2353\n",
       "four_wheel_drive     1403\n",
       "Name: count, dtype: int64"
      ]
     },
     "execution_count": 52,
     "metadata": {},
     "output_type": "execute_result"
    }
   ],
   "source": [
    "df['driven_wheels'].value_counts()"
   ]
  },
  {
   "cell_type": "code",
   "execution_count": 53,
   "id": "e9d8262b",
   "metadata": {
    "papermill": {
     "duration": 0.037127,
     "end_time": "2025-05-12T14:58:39.825408",
     "exception": false,
     "start_time": "2025-05-12T14:58:39.788281",
     "status": "completed"
    },
    "tags": []
   },
   "outputs": [
    {
     "data": {
      "text/plain": [
       "['front_wheel_drive',\n",
       " 'rear_wheel_drive',\n",
       " 'all_wheel_drive',\n",
       " 'four_wheel_drive']"
      ]
     },
     "execution_count": 53,
     "metadata": {},
     "output_type": "execute_result"
    }
   ],
   "source": [
    "\n",
    "driven_wheels = list(df['driven_wheels'].value_counts().index)\n",
    "driven_wheels"
   ]
  },
  {
   "cell_type": "code",
   "execution_count": 54,
   "id": "359d2e39",
   "metadata": {
    "papermill": {
     "duration": 0.037394,
     "end_time": "2025-05-12T14:58:39.889875",
     "exception": false,
     "start_time": "2025-05-12T14:58:39.852481",
     "status": "completed"
    },
    "tags": []
   },
   "outputs": [],
   "source": [
    "def prepare_X(df):\n",
    "    df = df.copy()\n",
    "    features = base.copy()\n",
    "\n",
    "    df['age'] = 2017 - df.year\n",
    "    features.append('age')\n",
    "    \n",
    "    for v in [2, 3, 4]:\n",
    "        feature = 'num_doors_%s' % v\n",
    "        df[feature] = (df['number_of_doors'] == v).astype(int)\n",
    "        features.append(feature)\n",
    "\n",
    "    for v in make:\n",
    "        feature = 'is_make_%s' % v\n",
    "        df[feature] = (df['make'] == v).astype(int)\n",
    "        features.append(feature)\n",
    "\n",
    "    for v in engine_fuel_type:\n",
    "        feature = 'is_type_%s' % v\n",
    "        df[feature] = (df['engine_fuel_type'] == v).astype(int)\n",
    "        features.append(feature)\n",
    "        \n",
    "    for v in transmission_type:\n",
    "        feature = 'is_transmission_%s' % v\n",
    "        df[feature] = (df['transmission_type'] == v).astype(int)\n",
    "        features.append(feature)\n",
    "\n",
    "    for v in driven_wheels:\n",
    "        feature = 'is_driven_wheels_%s' % v\n",
    "        df[feature] = (df['driven_wheels'] == v).astype(int)\n",
    "        features.append(feature)\n",
    "        \n",
    "    df_num = df[features]\n",
    "    df_num = df_num.fillna(0)\n",
    "    X = df_num.values\n",
    "    return X , features"
   ]
  },
  {
   "cell_type": "code",
   "execution_count": 55,
   "id": "e3ce859b",
   "metadata": {
    "papermill": {
     "duration": 0.15847,
     "end_time": "2025-05-12T14:58:40.074712",
     "exception": false,
     "start_time": "2025-05-12T14:58:39.916242",
     "status": "completed"
    },
    "tags": []
   },
   "outputs": [
    {
     "name": "stdout",
     "output_type": "stream",
     "text": [
      "train: 71.53092654240929\n",
      "validation: 26.345873066395573\n"
     ]
    }
   ],
   "source": [
    "X_train ,features= prepare_X(df_train)\n",
    "w_0, w = train_linear_regression(X_train, y_train)\n",
    "\n",
    "y_pred = w_0 + X_train.dot(w)\n",
    "print('train:', rmse(y_train, y_pred))\n",
    "\n",
    "X_val ,features = prepare_X(df_val)\n",
    "y_pred = w_0 + X_val.dot(w)\n",
    "print('validation:', rmse(y_val, y_pred))\n",
    "\n"
   ]
  },
  {
   "cell_type": "markdown",
   "id": "6336a075",
   "metadata": {
    "papermill": {
     "duration": 0.025558,
     "end_time": "2025-05-12T14:58:40.126129",
     "exception": false,
     "start_time": "2025-05-12T14:58:40.100571",
     "status": "completed"
    },
    "tags": []
   },
   "source": [
    ">very bad I want to remove this feature  driven_wheels"
   ]
  },
  {
   "cell_type": "markdown",
   "id": "e4a7d47e",
   "metadata": {
    "papermill": {
     "duration": 0.027591,
     "end_time": "2025-05-12T14:58:40.181155",
     "exception": false,
     "start_time": "2025-05-12T14:58:40.153564",
     "status": "completed"
    },
    "tags": []
   },
   "source": [
    "## **7 -feature engineering market category**"
   ]
  },
  {
   "cell_type": "code",
   "execution_count": 56,
   "id": "bf097e6e",
   "metadata": {
    "papermill": {
     "duration": 0.037392,
     "end_time": "2025-05-12T14:58:40.245522",
     "exception": false,
     "start_time": "2025-05-12T14:58:40.208130",
     "status": "completed"
    },
    "tags": []
   },
   "outputs": [
    {
     "data": {
      "text/plain": [
       "market_category\n",
       "crossover                                1110\n",
       "flex_fuel                                 872\n",
       "luxury                                    855\n",
       "luxury,performance                        673\n",
       "hatchback                                 641\n",
       "performance                               601\n",
       "crossover,luxury                          410\n",
       "luxury,high-performance                   334\n",
       "exotic,high-performance                   261\n",
       "hatchback,performance                     252\n",
       "factory_tuner,luxury,high-performance     215\n",
       "high-performance                          199\n",
       "hybrid                                    123\n",
       "crossover,luxury,performance              113\n",
       "factory_tuner,high-performance            106\n",
       "Name: count, dtype: int64"
      ]
     },
     "execution_count": 56,
     "metadata": {},
     "output_type": "execute_result"
    }
   ],
   "source": [
    "df['market_category'].value_counts().head(15)\n"
   ]
  },
  {
   "cell_type": "code",
   "execution_count": 57,
   "id": "cb6836c3",
   "metadata": {
    "papermill": {
     "duration": 0.036569,
     "end_time": "2025-05-12T14:58:40.308590",
     "exception": false,
     "start_time": "2025-05-12T14:58:40.272021",
     "status": "completed"
    },
    "tags": []
   },
   "outputs": [
    {
     "data": {
      "text/plain": [
       "['crossover',\n",
       " 'flex_fuel',\n",
       " 'luxury',\n",
       " 'luxury,performance',\n",
       " 'hatchback',\n",
       " 'performance',\n",
       " 'crossover,luxury',\n",
       " 'luxury,high-performance',\n",
       " 'exotic,high-performance',\n",
       " 'hatchback,performance',\n",
       " 'factory_tuner,luxury,high-performance',\n",
       " 'high-performance',\n",
       " 'hybrid',\n",
       " 'crossover,luxury,performance',\n",
       " 'factory_tuner,high-performance']"
      ]
     },
     "execution_count": 57,
     "metadata": {},
     "output_type": "execute_result"
    }
   ],
   "source": [
    "market_category = list(df['market_category'].value_counts().head(15).index)\n",
    "market_category"
   ]
  },
  {
   "cell_type": "code",
   "execution_count": 58,
   "id": "9bd5cbe9",
   "metadata": {
    "papermill": {
     "duration": 0.037329,
     "end_time": "2025-05-12T14:58:40.373147",
     "exception": false,
     "start_time": "2025-05-12T14:58:40.335818",
     "status": "completed"
    },
    "tags": []
   },
   "outputs": [],
   "source": [
    "def prepare_X(df):\n",
    "    df = df.copy()\n",
    "    features = base.copy()\n",
    "\n",
    "    df['age'] = 2017 - df.year\n",
    "    features.append('age')\n",
    "    \n",
    "    for v in [2, 3, 4]:\n",
    "        feature = 'num_doors_%s' % v\n",
    "        df[feature] = (df['number_of_doors'] == v).astype(int)\n",
    "        features.append(feature)\n",
    "\n",
    "    for v in make:\n",
    "        feature = 'is_make_%s' % v\n",
    "        df[feature] = (df['make'] == v).astype(int)\n",
    "        features.append(feature)\n",
    "\n",
    "    for v in engine_fuel_type:\n",
    "        feature = 'is_type_%s' % v\n",
    "        df[feature] = (df['engine_fuel_type'] == v).astype(int)\n",
    "        features.append(feature)\n",
    "        \n",
    "    for v in transmission_type:\n",
    "        feature = 'is_transmission_%s' % v\n",
    "        df[feature] = (df['transmission_type'] == v).astype(int)\n",
    "        features.append(feature)\n",
    "\n",
    "    for v in market_category:\n",
    "        feature = 'is_market_category_%s' % v\n",
    "        df[feature] = (df['market_category'] == v).astype(int)\n",
    "        features.append(feature)\n",
    "        \n",
    "    df_num = df[features]\n",
    "    df_num = df_num.fillna(0)\n",
    "    X = df_num.values\n",
    "    return X , features"
   ]
  },
  {
   "cell_type": "code",
   "execution_count": 59,
   "id": "1e79f21e",
   "metadata": {
    "papermill": {
     "duration": 0.175553,
     "end_time": "2025-05-12T14:58:40.578129",
     "exception": false,
     "start_time": "2025-05-12T14:58:40.402576",
     "status": "completed"
    },
    "tags": []
   },
   "outputs": [
    {
     "name": "stdout",
     "output_type": "stream",
     "text": [
      "train: 0.42628190769083013\n",
      "validation: 0.42892805591885363\n"
     ]
    }
   ],
   "source": [
    "X_train ,features= prepare_X(df_train)\n",
    "w_0, w = train_linear_regression(X_train, y_train)\n",
    "\n",
    "y_pred = w_0 + X_train.dot(w)\n",
    "print('train:', rmse(y_train, y_pred))\n",
    "\n",
    "X_val ,features = prepare_X(df_val)\n",
    "y_pred = w_0 + X_val.dot(w)\n",
    "print('validation:', rmse(y_val, y_pred))\n",
    "\n"
   ]
  },
  {
   "cell_type": "markdown",
   "id": "a67649e3",
   "metadata": {
    "papermill": {
     "duration": 0.025811,
     "end_time": "2025-05-12T14:58:40.631137",
     "exception": false,
     "start_time": "2025-05-12T14:58:40.605326",
     "status": "completed"
    },
    "tags": []
   },
   "source": [
    "## **8 -feature engineering vehicle size**"
   ]
  },
  {
   "cell_type": "code",
   "execution_count": 60,
   "id": "9af69042",
   "metadata": {
    "papermill": {
     "duration": 0.03702,
     "end_time": "2025-05-12T14:58:40.694492",
     "exception": false,
     "start_time": "2025-05-12T14:58:40.657472",
     "status": "completed"
    },
    "tags": []
   },
   "outputs": [
    {
     "data": {
      "text/plain": [
       "vehicle_size\n",
       "compact    4764\n",
       "midsize    4373\n",
       "large      2777\n",
       "Name: count, dtype: int64"
      ]
     },
     "execution_count": 60,
     "metadata": {},
     "output_type": "execute_result"
    }
   ],
   "source": [
    "df['vehicle_size'].value_counts()"
   ]
  },
  {
   "cell_type": "code",
   "execution_count": 61,
   "id": "6f48478e",
   "metadata": {
    "papermill": {
     "duration": 0.037462,
     "end_time": "2025-05-12T14:58:40.758942",
     "exception": false,
     "start_time": "2025-05-12T14:58:40.721480",
     "status": "completed"
    },
    "tags": []
   },
   "outputs": [
    {
     "data": {
      "text/plain": [
       "['compact', 'midsize', 'large']"
      ]
     },
     "execution_count": 61,
     "metadata": {},
     "output_type": "execute_result"
    }
   ],
   "source": [
    "vehicle_size = list(df['vehicle_size'].value_counts().index)\n",
    "vehicle_size"
   ]
  },
  {
   "cell_type": "code",
   "execution_count": 62,
   "id": "310f9605",
   "metadata": {
    "papermill": {
     "duration": 0.037094,
     "end_time": "2025-05-12T14:58:40.823375",
     "exception": false,
     "start_time": "2025-05-12T14:58:40.786281",
     "status": "completed"
    },
    "tags": []
   },
   "outputs": [],
   "source": [
    "def prepare_X(df):\n",
    "    df = df.copy()\n",
    "    features = base.copy()\n",
    "\n",
    "    df['age'] = 2017 - df.year\n",
    "    features.append('age')\n",
    "    \n",
    "    for v in [2, 3, 4]:\n",
    "        feature = 'num_doors_%s' % v\n",
    "        df[feature] = (df['number_of_doors'] == v).astype(int)\n",
    "        features.append(feature)\n",
    "\n",
    "    for v in make:\n",
    "        feature = 'is_make_%s' % v\n",
    "        df[feature] = (df['make'] == v).astype(int)\n",
    "        features.append(feature)\n",
    "\n",
    "    for v in engine_fuel_type:\n",
    "        feature = 'is_type_%s' % v\n",
    "        df[feature] = (df['engine_fuel_type'] == v).astype(int)\n",
    "        features.append(feature)\n",
    "        \n",
    "    for v in transmission_type:\n",
    "        feature = 'is_transmission_%s' % v\n",
    "        df[feature] = (df['transmission_type'] == v).astype(int)\n",
    "        features.append(feature)\n",
    "\n",
    "    for v in market_category:\n",
    "        feature = 'is_market_category_%s' % v\n",
    "        df[feature] = (df['market_category'] == v).astype(int)\n",
    "        features.append(feature)\n",
    "\n",
    "    for v in vehicle_size:\n",
    "        feature = 'is_vehicle_size_%s' % v\n",
    "        df[feature] = (df['vehicle_size'] == v).astype(int)\n",
    "        features.append(feature)\n",
    "        \n",
    "    df_num = df[features]\n",
    "    df_num = df_num.fillna(0)\n",
    "    X = df_num.values\n",
    "    return X , features"
   ]
  },
  {
   "cell_type": "code",
   "execution_count": 63,
   "id": "93adcc1c",
   "metadata": {
    "papermill": {
     "duration": 0.180408,
     "end_time": "2025-05-12T14:58:41.030454",
     "exception": false,
     "start_time": "2025-05-12T14:58:40.850046",
     "status": "completed"
    },
    "tags": []
   },
   "outputs": [
    {
     "name": "stdout",
     "output_type": "stream",
     "text": [
      "train: 104.67375700006862\n",
      "validation: 39.95071725492393\n"
     ]
    }
   ],
   "source": [
    "X_train ,features= prepare_X(df_train)\n",
    "w_0, w = train_linear_regression(X_train, y_train)\n",
    "\n",
    "y_pred = w_0 + X_train.dot(w)\n",
    "print('train:', rmse(y_train, y_pred))\n",
    "\n",
    "X_val ,features = prepare_X(df_val)\n",
    "y_pred = w_0 + X_val.dot(w)\n",
    "print('validation:', rmse(y_val, y_pred))\n",
    "\n"
   ]
  },
  {
   "cell_type": "markdown",
   "id": "0b4f75bf",
   "metadata": {
    "papermill": {
     "duration": 0.025841,
     "end_time": "2025-05-12T14:58:41.083608",
     "exception": false,
     "start_time": "2025-05-12T14:58:41.057767",
     "status": "completed"
    },
    "tags": []
   },
   "source": [
    ">very bad I want to remove this feature  vehicle_size"
   ]
  },
  {
   "cell_type": "markdown",
   "id": "f2452726",
   "metadata": {
    "papermill": {
     "duration": 0.026336,
     "end_time": "2025-05-12T14:58:41.136731",
     "exception": false,
     "start_time": "2025-05-12T14:58:41.110395",
     "status": "completed"
    },
    "tags": []
   },
   "source": [
    "## **9 -feature engineering vehicle style**"
   ]
  },
  {
   "cell_type": "code",
   "execution_count": 64,
   "id": "3ae3530c",
   "metadata": {
    "papermill": {
     "duration": 0.036885,
     "end_time": "2025-05-12T14:58:41.199892",
     "exception": false,
     "start_time": "2025-05-12T14:58:41.163007",
     "status": "completed"
    },
    "tags": []
   },
   "outputs": [
    {
     "data": {
      "text/plain": [
       "vehicle_style\n",
       "sedan                  3048\n",
       "4dr_suv                2488\n",
       "coupe                  1211\n",
       "convertible             793\n",
       "4dr_hatchback           702\n",
       "crew_cab_pickup         681\n",
       "extended_cab_pickup     623\n",
       "wagon                   592\n",
       "2dr_hatchback           506\n",
       "passenger_minivan       417\n",
       "regular_cab_pickup      392\n",
       "2dr_suv                 138\n",
       "passenger_van           128\n",
       "cargo_van                95\n",
       "cargo_minivan            71\n",
       "convertible_suv          29\n",
       "Name: count, dtype: int64"
      ]
     },
     "execution_count": 64,
     "metadata": {},
     "output_type": "execute_result"
    }
   ],
   "source": [
    "df['vehicle_style'].value_counts()"
   ]
  },
  {
   "cell_type": "code",
   "execution_count": 65,
   "id": "1aa74efd",
   "metadata": {
    "papermill": {
     "duration": 0.037869,
     "end_time": "2025-05-12T14:58:41.264599",
     "exception": false,
     "start_time": "2025-05-12T14:58:41.226730",
     "status": "completed"
    },
    "tags": []
   },
   "outputs": [
    {
     "data": {
      "text/plain": [
       "['sedan',\n",
       " '4dr_suv',\n",
       " 'coupe',\n",
       " 'convertible',\n",
       " '4dr_hatchback',\n",
       " 'crew_cab_pickup',\n",
       " 'extended_cab_pickup',\n",
       " 'wagon',\n",
       " '2dr_hatchback',\n",
       " 'passenger_minivan',\n",
       " 'regular_cab_pickup',\n",
       " '2dr_suv',\n",
       " 'passenger_van']"
      ]
     },
     "execution_count": 65,
     "metadata": {},
     "output_type": "execute_result"
    }
   ],
   "source": [
    "vehicle_style = list(df['vehicle_style'].value_counts().head(13).index)\n",
    "vehicle_style"
   ]
  },
  {
   "cell_type": "code",
   "execution_count": 66,
   "id": "87b39571",
   "metadata": {
    "papermill": {
     "duration": 0.03709,
     "end_time": "2025-05-12T14:58:41.329174",
     "exception": false,
     "start_time": "2025-05-12T14:58:41.292084",
     "status": "completed"
    },
    "tags": []
   },
   "outputs": [],
   "source": [
    "def prepare_X(df):\n",
    "    df = df.copy()\n",
    "    features = base.copy()\n",
    "\n",
    "    df['age'] = 2017 - df.year\n",
    "    features.append('age')\n",
    "    \n",
    "    for v in [2, 3, 4]:\n",
    "        feature = 'num_doors_%s' % v\n",
    "        df[feature] = (df['number_of_doors'] == v).astype(int)\n",
    "        features.append(feature)\n",
    "\n",
    "    for v in make:\n",
    "        feature = 'is_make_%s' % v\n",
    "        df[feature] = (df['make'] == v).astype(int)\n",
    "        features.append(feature)\n",
    "\n",
    "    for v in engine_fuel_type:\n",
    "        feature = 'is_type_%s' % v\n",
    "        df[feature] = (df['engine_fuel_type'] == v).astype(int)\n",
    "        features.append(feature)\n",
    "        \n",
    "    for v in transmission_type:\n",
    "        feature = 'is_transmission_%s' % v\n",
    "        df[feature] = (df['transmission_type'] == v).astype(int)\n",
    "        features.append(feature)\n",
    "\n",
    "    for v in market_category:\n",
    "        feature = 'is_market_category_%s' % v\n",
    "        df[feature] = (df['market_category'] == v).astype(int)\n",
    "        features.append(feature)\n",
    "\n",
    "    for v in vehicle_style:\n",
    "        feature = 'is_vehicle_style_%s' % v\n",
    "        df[feature] = (df['vehicle_style'] == v).astype(int)\n",
    "        features.append(feature)\n",
    "        \n",
    "    df_num = df[features]\n",
    "    df_num = df_num.fillna(0)\n",
    "    X = df_num.values\n",
    "    return X , features"
   ]
  },
  {
   "cell_type": "code",
   "execution_count": 67,
   "id": "f88f990f",
   "metadata": {
    "papermill": {
     "duration": 0.200901,
     "end_time": "2025-05-12T14:58:41.556825",
     "exception": false,
     "start_time": "2025-05-12T14:58:41.355924",
     "status": "completed"
    },
    "tags": []
   },
   "outputs": [
    {
     "name": "stdout",
     "output_type": "stream",
     "text": [
      "train: 0.41550325654546005\n",
      "validation: 0.4203705853150421\n"
     ]
    }
   ],
   "source": [
    "X_train ,features= prepare_X(df_train)\n",
    "w_0, w = train_linear_regression(X_train, y_train)\n",
    "\n",
    "y_pred = w_0 + X_train.dot(w)\n",
    "print('train:', rmse(y_train, y_pred))\n",
    "\n",
    "X_val ,features = prepare_X(df_val)\n",
    "y_pred = w_0 + X_val.dot(w)\n",
    "print('validation:', rmse(y_val, y_pred))\n",
    "\n"
   ]
  },
  {
   "cell_type": "markdown",
   "id": "002e62c1",
   "metadata": {
    "papermill": {
     "duration": 0.027287,
     "end_time": "2025-05-12T14:58:41.611819",
     "exception": false,
     "start_time": "2025-05-12T14:58:41.584532",
     "status": "completed"
    },
    "tags": []
   },
   "source": [
    "##  Numerical Instability Issue\n",
    "\n",
    "At some point, predictions became unreasonable due to matrix inversion instability."
   ]
  },
  {
   "cell_type": "markdown",
   "id": "5c903675",
   "metadata": {
    "papermill": {
     "duration": 0.02729,
     "end_time": "2025-05-12T14:58:41.666918",
     "exception": false,
     "start_time": "2025-05-12T14:58:41.639628",
     "status": "completed"
    },
    "tags": []
   },
   "source": [
    "\n",
    "\n",
    "## Regularization — Ridge Regression (L2)\n",
    "\n",
    "When \\( X^T X \\) is **non-invertible** or **ill-conditioned** (e.g., features are correlated or too many), we use **regularization** to stabilize the solution.\n",
    "\n",
    "One common approach is **Ridge Regression**, which introduces a regularization term \\( \\\\lambda \\| w \\|^2 \\):\n",
    "\n",
    "$$\n",
    "w = (X^T X + \\lambda I)^{-1} X^T y\n",
    "$$\n",
    "\n",
    "Where:\n",
    "\n",
    "- \\( \\lambda > 0 \\) is the regularization parameter.\n",
    "- \\( I \\) is the identity matrix (same size as \\( X^T X \\)).\n",
    "\n",
    "This discourages large weights and reduces overfitting, especially when dealing with multicollinearity or small datasets.\n",
    "\n",
    "---\n",
    "\n",
    "##  Summary\n",
    "\n",
    "- **Linear Regression :**\n",
    "\n",
    "  $$\n",
    "  \\boxed{w = (X^T X)^{-1} X^T y}\n",
    "  $$\n",
    "\n",
    "- **Ridge Regression (Regularized):**\n",
    "\n",
    "  $$\n",
    "  \\boxed{w = (X^T X + \\lambda I)^{-1} X^T y}\n",
    "  $$\n",
    "\n",
    "> Make sure the feature matrix \\( X \\) includes a bias term (e.g., a column of ones), and remember to tune \\( \\lambda \\) based on validation data.\n"
   ]
  },
  {
   "cell_type": "code",
   "execution_count": 68,
   "id": "c3130be7",
   "metadata": {
    "papermill": {
     "duration": 0.034243,
     "end_time": "2025-05-12T14:58:41.728033",
     "exception": false,
     "start_time": "2025-05-12T14:58:41.693790",
     "status": "completed"
    },
    "tags": []
   },
   "outputs": [],
   "source": [
    "X = np.array([\n",
    "    [3,2 , 2],\n",
    "    [ 3 , 2 ,2],\n",
    "    [5 ,2 , 2]])"
   ]
  },
  {
   "cell_type": "code",
   "execution_count": 69,
   "id": "9f96af97",
   "metadata": {
    "papermill": {
     "duration": 0.034659,
     "end_time": "2025-05-12T14:58:41.790641",
     "exception": false,
     "start_time": "2025-05-12T14:58:41.755982",
     "status": "completed"
    },
    "tags": []
   },
   "outputs": [
    {
     "data": {
      "text/plain": [
       "array([[43, 22, 22],\n",
       "       [22, 12, 12],\n",
       "       [22, 12, 12]])"
      ]
     },
     "execution_count": 69,
     "metadata": {},
     "output_type": "execute_result"
    }
   ],
   "source": [
    "XTX = X.T.dot(X)\n",
    "XTX"
   ]
  },
  {
   "cell_type": "code",
   "execution_count": 70,
   "id": "d80faf21",
   "metadata": {
    "papermill": {
     "duration": 0.146646,
     "end_time": "2025-05-12T14:58:41.964410",
     "exception": true,
     "start_time": "2025-05-12T14:58:41.817764",
     "status": "failed"
    },
    "tags": []
   },
   "outputs": [
    {
     "ename": "LinAlgError",
     "evalue": "Singular matrix",
     "output_type": "error",
     "traceback": [
      "\u001b[31m---------------------------------------------------------------------------\u001b[39m",
      "\u001b[31mLinAlgError\u001b[39m                               Traceback (most recent call last)",
      "\u001b[36mCell\u001b[39m\u001b[36m \u001b[39m\u001b[32mIn[70]\u001b[39m\u001b[32m, line 1\u001b[39m\n\u001b[32m----> \u001b[39m\u001b[32m1\u001b[39m XTX_inv = np.linalg.inv(XTX)\n\u001b[32m      2\u001b[39m XTX_inv\n",
      "\u001b[36mFile \u001b[39m\u001b[32m~\\miniconda3\\envs\\ml-env\\Lib\\site-packages\\numpy\\linalg\\_linalg.py:609\u001b[39m, in \u001b[36minv\u001b[39m\u001b[34m(a)\u001b[39m\n\u001b[32m    606\u001b[39m signature = \u001b[33m'\u001b[39m\u001b[33mD->D\u001b[39m\u001b[33m'\u001b[39m \u001b[38;5;28;01mif\u001b[39;00m isComplexType(t) \u001b[38;5;28;01melse\u001b[39;00m \u001b[33m'\u001b[39m\u001b[33md->d\u001b[39m\u001b[33m'\u001b[39m\n\u001b[32m    607\u001b[39m \u001b[38;5;28;01mwith\u001b[39;00m errstate(call=_raise_linalgerror_singular, invalid=\u001b[33m'\u001b[39m\u001b[33mcall\u001b[39m\u001b[33m'\u001b[39m,\n\u001b[32m    608\u001b[39m               over=\u001b[33m'\u001b[39m\u001b[33mignore\u001b[39m\u001b[33m'\u001b[39m, divide=\u001b[33m'\u001b[39m\u001b[33mignore\u001b[39m\u001b[33m'\u001b[39m, under=\u001b[33m'\u001b[39m\u001b[33mignore\u001b[39m\u001b[33m'\u001b[39m):\n\u001b[32m--> \u001b[39m\u001b[32m609\u001b[39m     ainv = _umath_linalg.inv(a, signature=signature)\n\u001b[32m    610\u001b[39m \u001b[38;5;28;01mreturn\u001b[39;00m wrap(ainv.astype(result_t, copy=\u001b[38;5;28;01mFalse\u001b[39;00m))\n",
      "\u001b[36mFile \u001b[39m\u001b[32m~\\miniconda3\\envs\\ml-env\\Lib\\site-packages\\numpy\\linalg\\_linalg.py:104\u001b[39m, in \u001b[36m_raise_linalgerror_singular\u001b[39m\u001b[34m(err, flag)\u001b[39m\n\u001b[32m    103\u001b[39m \u001b[38;5;28;01mdef\u001b[39;00m\u001b[38;5;250m \u001b[39m\u001b[34m_raise_linalgerror_singular\u001b[39m(err, flag):\n\u001b[32m--> \u001b[39m\u001b[32m104\u001b[39m     \u001b[38;5;28;01mraise\u001b[39;00m LinAlgError(\u001b[33m\"\u001b[39m\u001b[33mSingular matrix\u001b[39m\u001b[33m\"\u001b[39m)\n",
      "\u001b[31mLinAlgError\u001b[39m: Singular matrix"
     ]
    }
   ],
   "source": [
    "XTX_inv = np.linalg.inv(XTX)\n",
    "XTX_inv"
   ]
  },
  {
   "cell_type": "markdown",
   "id": "d946c631",
   "metadata": {
    "papermill": {
     "duration": null,
     "end_time": null,
     "exception": null,
     "start_time": null,
     "status": "pending"
    },
    "tags": []
   },
   "source": [
    "This is Singular matrix to solve this we add small numbers to matrix"
   ]
  },
  {
   "cell_type": "code",
   "execution_count": 71,
   "id": "7b3fb493",
   "metadata": {
    "papermill": {
     "duration": null,
     "end_time": null,
     "exception": null,
     "start_time": null,
     "status": "pending"
    },
    "tags": []
   },
   "outputs": [
    {
     "data": {
      "text/plain": [
       "array([[ 4.10390516e+13,  9.04379100e+13, -1.51996487e+14],\n",
       "       [ 9.04379100e+13,  1.99298357e+14, -3.34955222e+14],\n",
       "       [-1.51996487e+14, -3.34955222e+14,  5.62949953e+14]])"
      ]
     },
     "execution_count": 71,
     "metadata": {},
     "output_type": "execute_result"
    }
   ],
   "source": [
    "X = np.array([\n",
    "    [3,2 , 2],\n",
    "    [ 3 , 2 ,2],\n",
    "    [5 ,2 , 2.54]])\n",
    "XTX = X.T.dot(X)\n",
    "XTX_inv = np.linalg.inv(XTX)\n",
    "XTX_inv"
   ]
  },
  {
   "cell_type": "code",
   "execution_count": 72,
   "id": "ee3dbf71",
   "metadata": {
    "papermill": {
     "duration": null,
     "end_time": null,
     "exception": null,
     "start_time": null,
     "status": "pending"
    },
    "tags": []
   },
   "outputs": [
    {
     "data": {
      "text/plain": [
       "array([[ 0.35707657, -0.32663969, -0.32663969],\n",
       "       [-0.32663969, 10.31958725, -9.68041275],\n",
       "       [-0.32663969, -9.68041275, 10.31958725]])"
      ]
     },
     "execution_count": 72,
     "metadata": {},
     "output_type": "execute_result"
    }
   ],
   "source": [
    "X = np.array([\n",
    "    [3,2 , 2],\n",
    "    [ 3 , 2 ,2],\n",
    "    [5 ,2 , 2]])\n",
    "XTX = X.T.dot(X)\n",
    "reg = 0.05 * np.eye(XTX.shape[0])\n",
    "XTX =XTX + reg\n",
    "XTX_inv = np.linalg.inv(XTX)\n",
    "XTX_inv"
   ]
  },
  {
   "cell_type": "code",
   "execution_count": 73,
   "id": "6e5b89e1",
   "metadata": {
    "papermill": {
     "duration": null,
     "end_time": null,
     "exception": null,
     "start_time": null,
     "status": "pending"
    },
    "tags": []
   },
   "outputs": [],
   "source": [
    "def train_linear_regression_reg(X, y, r=0.0):\n",
    "    ones = np.ones(X.shape[0])\n",
    "    X = np.column_stack([ones, X])\n",
    "\n",
    "    XTX = X.T.dot(X)\n",
    "    reg = r * np.eye(XTX.shape[0])\n",
    "    XTX = XTX + reg\n",
    "\n",
    "    XTX_inv = np.linalg.inv(XTX)\n",
    "    w = XTX_inv.dot(X.T).dot(y)\n",
    "    \n",
    "    return w[0], w[1:]"
   ]
  },
  {
   "cell_type": "markdown",
   "id": "31fad603",
   "metadata": {
    "papermill": {
     "duration": null,
     "end_time": null,
     "exception": null,
     "start_time": null,
     "status": "pending"
    },
    "tags": []
   },
   "source": [
    ">To stabilize the solution, apply **L2 regularization** (Ridge):\n"
   ]
  },
  {
   "cell_type": "code",
   "execution_count": 74,
   "id": "33e189ed",
   "metadata": {
    "papermill": {
     "duration": null,
     "end_time": null,
     "exception": null,
     "start_time": null,
     "status": "pending"
    },
    "tags": []
   },
   "outputs": [],
   "source": [
    "X_train , _ = prepare_X(df_train)\n"
   ]
  },
  {
   "cell_type": "code",
   "execution_count": 75,
   "id": "09ad18c2",
   "metadata": {
    "papermill": {
     "duration": null,
     "end_time": null,
     "exception": null,
     "start_time": null,
     "status": "pending"
    },
    "tags": []
   },
   "outputs": [
    {
     "name": "stdout",
     "output_type": "stream",
     "text": [
      "    0, 10.76, -3.84, -6.58\n",
      "0.001, 10.77, -3.58, -6.01\n",
      " 0.01, 10.77, -2.31, -3.27\n",
      "  0.1, 10.35, -0.84, -0.25\n",
      "    1, 8.16, -0.36, -0.02\n",
      "   10, 5.40, -0.15, -0.22\n"
     ]
    }
   ],
   "source": [
    "for r in [0, 0.001, 0.01, 0.1, 1, 10]:\n",
    "    w_0, w = train_linear_regression_reg(X_train, y_train, r=r)\n",
    "    print('%5s, %.2f, %.2f, %.2f' % (r, w_0, w[13], w[21]))"
   ]
  },
  {
   "cell_type": "code",
   "execution_count": 86,
   "id": "0d4399ec",
   "metadata": {
    "papermill": {
     "duration": null,
     "end_time": null,
     "exception": null,
     "start_time": null,
     "status": "pending"
    },
    "tags": []
   },
   "outputs": [
    {
     "name": "stdout",
     "output_type": "stream",
     "text": [
      "train 0.41550325654546005\n",
      "val 0.4203705853150421\n"
     ]
    }
   ],
   "source": [
    "X_train, _ = prepare_X(df_train)\n",
    "w_0, w = train_linear_regression_reg(X_train, y_train, r=0)\n",
    "\n",
    "y_pred = w_0 + X_train.dot(w)\n",
    "print('train', rmse(y_train, y_pred))\n",
    "\n",
    "X_val ,_= prepare_X(df_val)\n",
    "y_pred = w_0 + X_val.dot(w)\n",
    "print('val', rmse(y_val, y_pred))"
   ]
  },
  {
   "cell_type": "code",
   "execution_count": 87,
   "id": "a781ff4f",
   "metadata": {
    "papermill": {
     "duration": null,
     "end_time": null,
     "exception": null,
     "start_time": null,
     "status": "pending"
    },
    "tags": []
   },
   "outputs": [
    {
     "name": "stdout",
     "output_type": "stream",
     "text": [
      "train 0.4156464031986307\n",
      "val 0.42027265268016045\n"
     ]
    }
   ],
   "source": [
    "X_train, _ = prepare_X(df_train)\n",
    "w_0, w = train_linear_regression_reg(X_train, y_train, r=.01)\n",
    "\n",
    "y_pred = w_0 + X_train.dot(w)\n",
    "print('train', rmse(y_train, y_pred))\n",
    "\n",
    "X_val ,_= prepare_X(df_val)\n",
    "y_pred = w_0 + X_val.dot(w)\n",
    "print('val', rmse(y_val, y_pred))"
   ]
  },
  {
   "cell_type": "code",
   "execution_count": 88,
   "id": "fbe82e9d",
   "metadata": {
    "papermill": {
     "duration": null,
     "end_time": null,
     "exception": null,
     "start_time": null,
     "status": "pending"
    },
    "tags": []
   },
   "outputs": [
    {
     "name": "stdout",
     "output_type": "stream",
     "text": [
      "|  1e-06  |  0.42037056717270366 |\n",
      "\n",
      "| 0.0001  |  0.4203687856893119 |\n",
      "\n",
      "|  0.001  |  0.42035397742076225 |\n",
      "\n",
      "|   0.01  |  0.42027265268016045 |\n",
      "\n",
      "|    0.1  |  0.42013990400426166 |\n",
      "\n",
      "|      1  |  0.42256915967262315 |\n",
      "\n",
      "|      5  |  0.43255327773756247 |\n",
      "\n",
      "|     10  |  0.44456514877460246 |\n",
      "\n"
     ]
    }
   ],
   "source": [
    "X_train ,_ = prepare_X(df_train)\n",
    "X_val ,_= prepare_X(df_val)\n",
    "\n",
    "for r in [0.000001, 0.0001, 0.001, 0.01, 0.1, 1, 5, 10]:\n",
    "    w_0, w = train_linear_regression_reg(X_train, y_train, r=r)\n",
    "    y_pred = w_0 + X_val.dot(w)\n",
    "    print('|','%6s' %r, \" | \",rmse(y_val, y_pred),\"|\\n\")"
   ]
  },
  {
   "cell_type": "markdown",
   "id": "b6904451",
   "metadata": {
    "papermill": {
     "duration": null,
     "end_time": null,
     "exception": null,
     "start_time": null,
     "status": "pending"
    },
    "tags": []
   },
   "source": [
    "Tested multiple regularization strengths. A small value like `r=0.1` gave the best RMSE.\n"
   ]
  },
  {
   "cell_type": "code",
   "execution_count": 89,
   "id": "a8c75810",
   "metadata": {
    "papermill": {
     "duration": null,
     "end_time": null,
     "exception": null,
     "start_time": null,
     "status": "pending"
    },
    "tags": []
   },
   "outputs": [
    {
     "name": "stdout",
     "output_type": "stream",
     "text": [
      "validation: 0.42013990400426166\n",
      "test: 0.4130151180438185\n"
     ]
    }
   ],
   "source": [
    "X_train ,_ = prepare_X(df_train)\n",
    "w_0, w = train_linear_regression_reg(X_train, y_train, r=0.1)\n",
    "\n",
    "X_val ,_ = prepare_X(df_val)\n",
    "y_pred = w_0 + X_val.dot(w)\n",
    "print('validation:', rmse(y_val, y_pred))\n",
    "\n",
    "X_test ,_ = prepare_X(df_test)\n",
    "y_pred = w_0 + X_test.dot(w)\n",
    "print('test:', rmse(y_test, y_pred))"
   ]
  },
  {
   "cell_type": "markdown",
   "id": "bc27994d",
   "metadata": {
    "papermill": {
     "duration": null,
     "end_time": null,
     "exception": null,
     "start_time": null,
     "status": "pending"
    },
    "tags": []
   },
   "source": [
    "## Using the model"
   ]
  },
  {
   "cell_type": "code",
   "execution_count": 90,
   "id": "844bc28e",
   "metadata": {
    "papermill": {
     "duration": null,
     "end_time": null,
     "exception": null,
     "start_time": null,
     "status": "pending"
    },
    "tags": []
   },
   "outputs": [
    {
     "data": {
      "text/html": [
       "<div>\n",
       "<style scoped>\n",
       "    .dataframe tbody tr th:only-of-type {\n",
       "        vertical-align: middle;\n",
       "    }\n",
       "\n",
       "    .dataframe tbody tr th {\n",
       "        vertical-align: top;\n",
       "    }\n",
       "\n",
       "    .dataframe thead th {\n",
       "        text-align: right;\n",
       "    }\n",
       "</style>\n",
       "<table border=\"1\" class=\"dataframe\">\n",
       "  <thead>\n",
       "    <tr style=\"text-align: right;\">\n",
       "      <th></th>\n",
       "      <th>make</th>\n",
       "      <th>model</th>\n",
       "      <th>year</th>\n",
       "      <th>engine_fuel_type</th>\n",
       "      <th>engine_hp</th>\n",
       "      <th>engine_cylinders</th>\n",
       "      <th>transmission_type</th>\n",
       "      <th>driven_wheels</th>\n",
       "      <th>number_of_doors</th>\n",
       "      <th>market_category</th>\n",
       "      <th>vehicle_size</th>\n",
       "      <th>vehicle_style</th>\n",
       "      <th>highway_mpg</th>\n",
       "      <th>city_mpg</th>\n",
       "      <th>popularity</th>\n",
       "    </tr>\n",
       "  </thead>\n",
       "  <tbody>\n",
       "    <tr>\n",
       "      <th>0</th>\n",
       "      <td>chevrolet</td>\n",
       "      <td>cobalt</td>\n",
       "      <td>2008</td>\n",
       "      <td>regular_unleaded</td>\n",
       "      <td>148.0</td>\n",
       "      <td>4.0</td>\n",
       "      <td>manual</td>\n",
       "      <td>front_wheel_drive</td>\n",
       "      <td>2.0</td>\n",
       "      <td>NaN</td>\n",
       "      <td>compact</td>\n",
       "      <td>coupe</td>\n",
       "      <td>33</td>\n",
       "      <td>24</td>\n",
       "      <td>1385</td>\n",
       "    </tr>\n",
       "    <tr>\n",
       "      <th>1</th>\n",
       "      <td>toyota</td>\n",
       "      <td>matrix</td>\n",
       "      <td>2012</td>\n",
       "      <td>regular_unleaded</td>\n",
       "      <td>132.0</td>\n",
       "      <td>4.0</td>\n",
       "      <td>automatic</td>\n",
       "      <td>front_wheel_drive</td>\n",
       "      <td>4.0</td>\n",
       "      <td>hatchback</td>\n",
       "      <td>compact</td>\n",
       "      <td>4dr_hatchback</td>\n",
       "      <td>32</td>\n",
       "      <td>25</td>\n",
       "      <td>2031</td>\n",
       "    </tr>\n",
       "    <tr>\n",
       "      <th>2</th>\n",
       "      <td>subaru</td>\n",
       "      <td>impreza</td>\n",
       "      <td>2016</td>\n",
       "      <td>regular_unleaded</td>\n",
       "      <td>148.0</td>\n",
       "      <td>4.0</td>\n",
       "      <td>automatic</td>\n",
       "      <td>all_wheel_drive</td>\n",
       "      <td>4.0</td>\n",
       "      <td>hatchback</td>\n",
       "      <td>compact</td>\n",
       "      <td>4dr_hatchback</td>\n",
       "      <td>37</td>\n",
       "      <td>28</td>\n",
       "      <td>640</td>\n",
       "    </tr>\n",
       "    <tr>\n",
       "      <th>3</th>\n",
       "      <td>volkswagen</td>\n",
       "      <td>vanagon</td>\n",
       "      <td>1991</td>\n",
       "      <td>regular_unleaded</td>\n",
       "      <td>90.0</td>\n",
       "      <td>4.0</td>\n",
       "      <td>manual</td>\n",
       "      <td>rear_wheel_drive</td>\n",
       "      <td>3.0</td>\n",
       "      <td>NaN</td>\n",
       "      <td>large</td>\n",
       "      <td>passenger_minivan</td>\n",
       "      <td>18</td>\n",
       "      <td>16</td>\n",
       "      <td>873</td>\n",
       "    </tr>\n",
       "    <tr>\n",
       "      <th>4</th>\n",
       "      <td>ford</td>\n",
       "      <td>f-150</td>\n",
       "      <td>2017</td>\n",
       "      <td>flex-fuel_(unleaded/e85)</td>\n",
       "      <td>385.0</td>\n",
       "      <td>8.0</td>\n",
       "      <td>automatic</td>\n",
       "      <td>four_wheel_drive</td>\n",
       "      <td>4.0</td>\n",
       "      <td>flex_fuel</td>\n",
       "      <td>large</td>\n",
       "      <td>crew_cab_pickup</td>\n",
       "      <td>21</td>\n",
       "      <td>15</td>\n",
       "      <td>5657</td>\n",
       "    </tr>\n",
       "    <tr>\n",
       "      <th>...</th>\n",
       "      <td>...</td>\n",
       "      <td>...</td>\n",
       "      <td>...</td>\n",
       "      <td>...</td>\n",
       "      <td>...</td>\n",
       "      <td>...</td>\n",
       "      <td>...</td>\n",
       "      <td>...</td>\n",
       "      <td>...</td>\n",
       "      <td>...</td>\n",
       "      <td>...</td>\n",
       "      <td>...</td>\n",
       "      <td>...</td>\n",
       "      <td>...</td>\n",
       "      <td>...</td>\n",
       "    </tr>\n",
       "    <tr>\n",
       "      <th>9527</th>\n",
       "      <td>volvo</td>\n",
       "      <td>v60</td>\n",
       "      <td>2015</td>\n",
       "      <td>regular_unleaded</td>\n",
       "      <td>240.0</td>\n",
       "      <td>4.0</td>\n",
       "      <td>automatic</td>\n",
       "      <td>front_wheel_drive</td>\n",
       "      <td>4.0</td>\n",
       "      <td>luxury</td>\n",
       "      <td>midsize</td>\n",
       "      <td>wagon</td>\n",
       "      <td>37</td>\n",
       "      <td>25</td>\n",
       "      <td>870</td>\n",
       "    </tr>\n",
       "    <tr>\n",
       "      <th>9528</th>\n",
       "      <td>maserati</td>\n",
       "      <td>granturismo_convertible</td>\n",
       "      <td>2015</td>\n",
       "      <td>premium_unleaded_(required)</td>\n",
       "      <td>444.0</td>\n",
       "      <td>8.0</td>\n",
       "      <td>automatic</td>\n",
       "      <td>rear_wheel_drive</td>\n",
       "      <td>2.0</td>\n",
       "      <td>exotic,luxury,high-performance</td>\n",
       "      <td>midsize</td>\n",
       "      <td>convertible</td>\n",
       "      <td>20</td>\n",
       "      <td>13</td>\n",
       "      <td>238</td>\n",
       "    </tr>\n",
       "    <tr>\n",
       "      <th>9529</th>\n",
       "      <td>cadillac</td>\n",
       "      <td>escalade_hybrid</td>\n",
       "      <td>2013</td>\n",
       "      <td>regular_unleaded</td>\n",
       "      <td>332.0</td>\n",
       "      <td>8.0</td>\n",
       "      <td>automatic</td>\n",
       "      <td>rear_wheel_drive</td>\n",
       "      <td>4.0</td>\n",
       "      <td>luxury,hybrid</td>\n",
       "      <td>large</td>\n",
       "      <td>4dr_suv</td>\n",
       "      <td>23</td>\n",
       "      <td>20</td>\n",
       "      <td>1624</td>\n",
       "    </tr>\n",
       "    <tr>\n",
       "      <th>9530</th>\n",
       "      <td>mitsubishi</td>\n",
       "      <td>lancer</td>\n",
       "      <td>2016</td>\n",
       "      <td>regular_unleaded</td>\n",
       "      <td>148.0</td>\n",
       "      <td>4.0</td>\n",
       "      <td>manual</td>\n",
       "      <td>front_wheel_drive</td>\n",
       "      <td>4.0</td>\n",
       "      <td>NaN</td>\n",
       "      <td>compact</td>\n",
       "      <td>sedan</td>\n",
       "      <td>34</td>\n",
       "      <td>24</td>\n",
       "      <td>436</td>\n",
       "    </tr>\n",
       "    <tr>\n",
       "      <th>9531</th>\n",
       "      <td>kia</td>\n",
       "      <td>sorento</td>\n",
       "      <td>2015</td>\n",
       "      <td>regular_unleaded</td>\n",
       "      <td>290.0</td>\n",
       "      <td>6.0</td>\n",
       "      <td>automatic</td>\n",
       "      <td>front_wheel_drive</td>\n",
       "      <td>4.0</td>\n",
       "      <td>crossover</td>\n",
       "      <td>midsize</td>\n",
       "      <td>4dr_suv</td>\n",
       "      <td>25</td>\n",
       "      <td>18</td>\n",
       "      <td>1720</td>\n",
       "    </tr>\n",
       "  </tbody>\n",
       "</table>\n",
       "<p>9532 rows × 15 columns</p>\n",
       "</div>"
      ],
      "text/plain": [
       "            make                    model  year             engine_fuel_type  \\\n",
       "0      chevrolet                   cobalt  2008             regular_unleaded   \n",
       "1         toyota                   matrix  2012             regular_unleaded   \n",
       "2         subaru                  impreza  2016             regular_unleaded   \n",
       "3     volkswagen                  vanagon  1991             regular_unleaded   \n",
       "4           ford                    f-150  2017     flex-fuel_(unleaded/e85)   \n",
       "...          ...                      ...   ...                          ...   \n",
       "9527       volvo                      v60  2015             regular_unleaded   \n",
       "9528    maserati  granturismo_convertible  2015  premium_unleaded_(required)   \n",
       "9529    cadillac          escalade_hybrid  2013             regular_unleaded   \n",
       "9530  mitsubishi                   lancer  2016             regular_unleaded   \n",
       "9531         kia                  sorento  2015             regular_unleaded   \n",
       "\n",
       "      engine_hp  engine_cylinders transmission_type      driven_wheels  \\\n",
       "0         148.0               4.0            manual  front_wheel_drive   \n",
       "1         132.0               4.0         automatic  front_wheel_drive   \n",
       "2         148.0               4.0         automatic    all_wheel_drive   \n",
       "3          90.0               4.0            manual   rear_wheel_drive   \n",
       "4         385.0               8.0         automatic   four_wheel_drive   \n",
       "...         ...               ...               ...                ...   \n",
       "9527      240.0               4.0         automatic  front_wheel_drive   \n",
       "9528      444.0               8.0         automatic   rear_wheel_drive   \n",
       "9529      332.0               8.0         automatic   rear_wheel_drive   \n",
       "9530      148.0               4.0            manual  front_wheel_drive   \n",
       "9531      290.0               6.0         automatic  front_wheel_drive   \n",
       "\n",
       "      number_of_doors                 market_category vehicle_size  \\\n",
       "0                 2.0                             NaN      compact   \n",
       "1                 4.0                       hatchback      compact   \n",
       "2                 4.0                       hatchback      compact   \n",
       "3                 3.0                             NaN        large   \n",
       "4                 4.0                       flex_fuel        large   \n",
       "...               ...                             ...          ...   \n",
       "9527              4.0                          luxury      midsize   \n",
       "9528              2.0  exotic,luxury,high-performance      midsize   \n",
       "9529              4.0                   luxury,hybrid        large   \n",
       "9530              4.0                             NaN      compact   \n",
       "9531              4.0                       crossover      midsize   \n",
       "\n",
       "          vehicle_style  highway_mpg  city_mpg  popularity  \n",
       "0                 coupe           33        24        1385  \n",
       "1         4dr_hatchback           32        25        2031  \n",
       "2         4dr_hatchback           37        28         640  \n",
       "3     passenger_minivan           18        16         873  \n",
       "4       crew_cab_pickup           21        15        5657  \n",
       "...                 ...          ...       ...         ...  \n",
       "9527              wagon           37        25         870  \n",
       "9528        convertible           20        13         238  \n",
       "9529            4dr_suv           23        20        1624  \n",
       "9530              sedan           34        24         436  \n",
       "9531            4dr_suv           25        18        1720  \n",
       "\n",
       "[9532 rows x 15 columns]"
      ]
     },
     "execution_count": 90,
     "metadata": {},
     "output_type": "execute_result"
    }
   ],
   "source": [
    "df_full_train = pd.concat([df_train , df_val])\n",
    "df_full_train = df_full_train.reset_index(drop=True)\n",
    "df_full_train"
   ]
  },
  {
   "cell_type": "code",
   "execution_count": 91,
   "id": "b934f67c",
   "metadata": {
    "papermill": {
     "duration": null,
     "end_time": null,
     "exception": null,
     "start_time": null,
     "status": "pending"
    },
    "tags": []
   },
   "outputs": [
    {
     "data": {
      "text/plain": [
       "(11914, 9532, 7150, 2382, 2382)"
      ]
     },
     "execution_count": 91,
     "metadata": {},
     "output_type": "execute_result"
    }
   ],
   "source": [
    "n ,n_train+n_test, n_train,n_test,n_val"
   ]
  },
  {
   "cell_type": "code",
   "execution_count": 92,
   "id": "d987cebb",
   "metadata": {
    "papermill": {
     "duration": null,
     "end_time": null,
     "exception": null,
     "start_time": null,
     "status": "pending"
    },
    "tags": []
   },
   "outputs": [
    {
     "name": "stdout",
     "output_type": "stream",
     "text": [
      "test: 0.41270097804178807\n"
     ]
    }
   ],
   "source": [
    "X_full_train ,_ =prepare_X(df_full_train)\n",
    "y_full_train = np.concatenate([y_train , y_val])\n",
    "w_0, w = train_linear_regression_reg(X_full_train, y_full_train, r=0.1)\n",
    "\n",
    "#----\n",
    "\n",
    "X_test ,_ = prepare_X(df_test)\n",
    "y_pred = w_0 + X_test.dot(w)\n",
    "print('test:', rmse(y_test, y_pred))\n"
   ]
  },
  {
   "cell_type": "code",
   "execution_count": 93,
   "id": "22f2af0c",
   "metadata": {
    "papermill": {
     "duration": null,
     "end_time": null,
     "exception": null,
     "start_time": null,
     "status": "pending"
    },
    "tags": []
   },
   "outputs": [
    {
     "data": {
      "text/plain": [
       "array([ 9.57574708,  9.887663  ,  9.89323518, ..., 11.21756062,\n",
       "        9.77542688, 10.1924563 ], shape=(9532,))"
      ]
     },
     "execution_count": 93,
     "metadata": {},
     "output_type": "execute_result"
    }
   ],
   "source": [
    "y_full_train = np.concatenate([y_train , y_val])\n",
    "y_full_train"
   ]
  },
  {
   "cell_type": "code",
   "execution_count": 94,
   "id": "d124c4b0",
   "metadata": {
    "papermill": {
     "duration": null,
     "end_time": null,
     "exception": null,
     "start_time": null,
     "status": "pending"
    },
    "tags": []
   },
   "outputs": [
    {
     "data": {
      "text/plain": [
       "{'make': 'volkswagen',\n",
       " 'model': 'golf_gti',\n",
       " 'year': 2015,\n",
       " 'engine_fuel_type': 'premium_unleaded_(recommended)',\n",
       " 'engine_hp': 210.0,\n",
       " 'engine_cylinders': 4.0,\n",
       " 'transmission_type': 'automated_manual',\n",
       " 'driven_wheels': 'front_wheel_drive',\n",
       " 'number_of_doors': 2.0,\n",
       " 'market_category': 'hatchback,performance',\n",
       " 'vehicle_size': 'compact',\n",
       " 'vehicle_style': '2dr_hatchback',\n",
       " 'highway_mpg': 33,\n",
       " 'city_mpg': 25,\n",
       " 'popularity': 873}"
      ]
     },
     "execution_count": 94,
     "metadata": {},
     "output_type": "execute_result"
    }
   ],
   "source": [
    "i = 11\n",
    "ad = df_test.iloc[i].to_dict()\n",
    "ad"
   ]
  },
  {
   "cell_type": "code",
   "execution_count": 95,
   "id": "8e1f620d",
   "metadata": {
    "papermill": {
     "duration": null,
     "end_time": null,
     "exception": null,
     "start_time": null,
     "status": "pending"
    },
    "tags": []
   },
   "outputs": [
    {
     "data": {
      "text/plain": [
       "array([33089.14825552])"
      ]
     },
     "execution_count": 95,
     "metadata": {},
     "output_type": "execute_result"
    }
   ],
   "source": [
    "X_test = prepare_X(pd.DataFrame([ad]))[0]\n",
    "y_pred = w_0 + X_test.dot(w)\n",
    "suggestion = np.expm1(y_pred)\n",
    "suggestion"
   ]
  },
  {
   "cell_type": "markdown",
   "id": "00e97aa7",
   "metadata": {
    "papermill": {
     "duration": null,
     "end_time": null,
     "exception": null,
     "start_time": null,
     "status": "pending"
    },
    "tags": []
   },
   "source": [
    "This converts log-price back to real price using `expm1()`."
   ]
  },
  {
   "cell_type": "code",
   "execution_count": 96,
   "id": "277400e9",
   "metadata": {
    "papermill": {
     "duration": null,
     "end_time": null,
     "exception": null,
     "start_time": null,
     "status": "pending"
    },
    "tags": []
   },
   "outputs": [
    {
     "data": {
      "text/plain": [
       "np.float64(25884.99999999998)"
      ]
     },
     "execution_count": 96,
     "metadata": {},
     "output_type": "execute_result"
    }
   ],
   "source": [
    "np.expm1(y_test[i])"
   ]
  },
  {
   "cell_type": "markdown",
   "id": "fcd85dcc",
   "metadata": {
    "papermill": {
     "duration": null,
     "end_time": null,
     "exception": null,
     "start_time": null,
     "status": "pending"
    },
    "tags": []
   },
   "source": [
    "##  Summary\n",
    "\n",
    "* We cleaned, visualized, and explored the dataset.\n",
    "* Feature engineering and regularization dramatically improved performance.\n",
    "* RMSE reduced from \\~0.76 (baseline) to \\~0.41 (final model).\n",
    "\n",
    "---\n",
    "\n",
    "##  Next Steps\n",
    "\n",
    "* Add polynomial features or interaction terms\n",
    "* Try other algorithms: Random Forests, XGBoost, LightGBM\n",
    "* Tune regularization and hyperparameters further\n",
    "\n",
    "---\n",
    "\n",
    ">  This project demonstrates the power of proper preprocessing and linear models when paired with thoughtful feature engineering.\n",
    "\n",
    "---\n",
    "\n",
    "# Thanks for reading! "
   ]
  }
 ],
 "metadata": {
  "kaggle": {
   "accelerator": "none",
   "dataSources": [
    {
     "datasetId": 575,
     "sourceId": 1100,
     "sourceType": "datasetVersion"
    }
   ],
   "dockerImageVersionId": 31012,
   "isGpuEnabled": false,
   "isInternetEnabled": true,
   "language": "python",
   "sourceType": "notebook"
  },
  "kernelspec": {
   "display_name": "ml-env",
   "language": "python",
   "name": "ml-env"
  },
  "language_info": {
   "codemirror_mode": {
    "name": "ipython",
    "version": 3
   },
   "file_extension": ".py",
   "mimetype": "text/x-python",
   "name": "python",
   "nbconvert_exporter": "python",
   "pygments_lexer": "ipython3",
   "version": "3.13.2"
  },
  "papermill": {
   "default_parameters": {},
   "duration": 18.537592,
   "end_time": "2025-05-12T14:58:42.712071",
   "environment_variables": {},
   "exception": true,
   "input_path": "__notebook__.ipynb",
   "output_path": "__notebook__.ipynb",
   "parameters": {},
   "start_time": "2025-05-12T14:58:24.174479",
   "version": "2.6.0"
  }
 },
 "nbformat": 4,
 "nbformat_minor": 5
}
